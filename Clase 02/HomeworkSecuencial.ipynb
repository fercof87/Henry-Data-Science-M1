{
 "cells": [
  {
   "attachments": {},
   "cell_type": "markdown",
   "metadata": {},
   "source": [
    "# Práctica Clase 2"
   ]
  },
  {
   "attachments": {},
   "cell_type": "markdown",
   "metadata": {},
   "source": [
    "1) Abrir el archivo \"Emisiones_CO2.csv\" y cargar sus datos en un diccionario."
   ]
  },
  {
   "cell_type": "code",
   "execution_count": 5,
   "metadata": {},
   "outputs": [],
   "source": [
    "import os\n",
    "\n",
    "dicc_emisiones = {  'cod_pais' : [],\n",
    "                    'nom_pais' : [],\n",
    "                    'region' : [],\n",
    "                    'anio' : [],\n",
    "                    'co2' : [],\n",
    "                    'co2_percapita' : []}\n",
    "\n",
    "archivo_emisiones = open('Emisiones_CO2.csv', 'r')\n",
    "\n",
    "next(archivo_emisiones)\n",
    "i = 0\n",
    "for registro in archivo_emisiones:\n",
    "    datos = registro.strip().split('|')\n",
    "\n",
    "    dicc_emisiones[\"cod_pais\"].append(datos[0])\n",
    "    dicc_emisiones[\"nom_pais\"].append(datos[1])\n",
    "    dicc_emisiones[\"region\"].append(datos[2])\n",
    "\n",
    "    co2 = datos[4].replace(\".\",\"\").replace(\",\",\".\")\n",
    "    co2_per = datos[5].replace(\".\",\"\").replace(\",\",\".\")\n",
    "    \n",
    "    if(datos[3] == None or datos[3] == \"\"):\n",
    "        dicc_emisiones[\"anio\"].append(None)\n",
    "    else:\n",
    "        dicc_emisiones[\"anio\"].append(int(datos[3]))\n",
    "    \n",
    "    if(co2 == None or co2 == \"\"):\n",
    "        dicc_emisiones[\"co2\"].append(None)\n",
    "    else:\n",
    "        dicc_emisiones[\"co2\"].append(float(co2))\n",
    "\n",
    "    if(co2_per == None or co2_per == \"\"):\n",
    "        dicc_emisiones[\"co2_percapita\"].append(None)\n",
    "    else:\n",
    "        dicc_emisiones[\"co2_percapita\"].append(float(co2_per))\n",
    "\n",
    "archivo_emisiones.close()"
   ]
  },
  {
   "attachments": {},
   "cell_type": "markdown",
   "metadata": {},
   "source": [
    "2) a) ¿Cuántas variables hay? <br>\n",
    "b) ¿Qué tipos de datos usar para cada una? <br>\n",
    "c) ¿Qué tipo de variables son? <br>\n",
    "d) ¿Hay valores faltantes? <br>\n",
    "e) ¿Cuál es el total de emisiones de CO2 para 'América Latina y Caribe' en el año 2010?"
   ]
  },
  {
   "cell_type": "code",
   "execution_count": 6,
   "metadata": {},
   "outputs": [
    {
     "name": "stdout",
     "output_type": "stream",
     "text": [
      "6\n"
     ]
    }
   ],
   "source": [
    "#a) ¿Cuántas variables hay?\n",
    "print(len(dicc_emisiones.keys()))"
   ]
  },
  {
   "cell_type": "code",
   "execution_count": 3,
   "metadata": {},
   "outputs": [],
   "source": [
    "#b) ¿Qué tipos de datos usar para cada una?\n",
    "#   Son todos STRING menos los valores de CO2 que son FLOAT, y anio que es INT. Pero antes tuvimos que FORMATEARLOS \n",
    "#   Para quitar quital el punto de milesimas y la coma decimal."
   ]
  },
  {
   "cell_type": "code",
   "execution_count": 4,
   "metadata": {},
   "outputs": [],
   "source": [
    "#c)¿Qué tipo de variables son?\n",
    "# cod_pais          ==> Categorico Cualitativo\n",
    "# nom_pais          ==> Categorico Cualitativo\n",
    "# Region            ==> Categorico Cualitativo\n",
    "# anio              ==> Cuantitativo Discreto / Cualitativo Ordinal\n",
    "# co2               ==> Cuantitativo Continuo\n",
    "# co2_percapita     ==> Cuantitativo Continuo"
   ]
  },
  {
   "cell_type": "code",
   "execution_count": 8,
   "metadata": {},
   "outputs": [
    {
     "name": "stdout",
     "output_type": "stream",
     "text": [
      "La Columna cod_pais tiene 0 datos nulos/faltantes.\n",
      "La Columna nom_pais tiene 0 datos nulos/faltantes.\n",
      "La Columna region tiene 0 datos nulos/faltantes.\n",
      "La Columna anio tiene 0 datos nulos/faltantes.\n",
      "La Columna co2 tiene 2095 datos nulos/faltantes.\n",
      "La Columna co2_percapita tiene 2098 datos nulos/faltantes.\n"
     ]
    }
   ],
   "source": [
    "for clave in dicc_emisiones.keys():\n",
    "    print(\"La Columna {} tiene {} datos nulos/faltantes.\".format(clave,dicc_emisiones[clave].count(None)))"
   ]
  },
  {
   "cell_type": "code",
   "execution_count": 4,
   "metadata": {},
   "outputs": [
    {
     "name": "stdout",
     "output_type": "stream",
     "text": [
      "La Columna cod_pais tiene 0 datos nulos/faltantes.\n",
      "La Columna nom_pais tiene 0 datos nulos/faltantes.\n",
      "La Columna region tiene 0 datos nulos/faltantes.\n",
      "La Columna anio tiene 0 datos nulos/faltantes.\n",
      "La Columna co2 tiene 2095 datos nulos/faltantes.\n",
      "La Columna co2_percapita tiene 2098 datos nulos/faltantes.\n"
     ]
    }
   ],
   "source": [
    "#d)¿Hay valores faltantes?\n",
    "for clave in dicc_emisiones.keys():\n",
    "    cant_nulos = 0\n",
    "    for dato in dicc_emisiones[clave]:\n",
    "        if(not dato or dato == \"\"):\n",
    "            cant_nulos +=1\n",
    "    print(\"La Columna {} tiene {} datos nulos/faltantes.\".format(clave,cant_nulos))"
   ]
  },
  {
   "cell_type": "code",
   "execution_count": 9,
   "metadata": {},
   "outputs": [
    {
     "name": "stdout",
     "output_type": "stream",
     "text": [
      "Las Emisiones de América Latina y Caribe en 2010 equivalen a un total de: 1691634.8009999995 (kt).\n"
     ]
    }
   ],
   "source": [
    "# e)¿Cuál es el total de emisiones de CO2 para 'América Latina y Caribe' en el año 2010?\n",
    "filtro_region = 'América Latina y Caribe'\n",
    "filtro_anio = 2010\n",
    "cant_co2 = 0\n",
    "for indice, elemento in enumerate(dicc_emisiones[\"region\"]):\n",
    "    if(dicc_emisiones[\"region\"][indice] == filtro_region and dicc_emisiones[\"anio\"][indice] == filtro_anio and dicc_emisiones[\"co2\"][indice] != None):\n",
    "        cant_co2 += float(dicc_emisiones[\"co2\"][indice])\n",
    "print(\"Las Emisiones de {} en {} equivalen a un total de: {} (kt).\".format(filtro_region,filtro_anio,cant_co2))\n"
   ]
  }
 ],
 "metadata": {
  "interpreter": {
   "hash": "c85384e4cb51c8b72350f3a8712cc8351fdc3955e32a27f9b60c6242ab125f01"
  },
  "kernelspec": {
   "display_name": "Python 3.9.7 ('henry')",
   "language": "python",
   "name": "python3"
  },
  "language_info": {
   "codemirror_mode": {
    "name": "ipython",
    "version": 3
   },
   "file_extension": ".py",
   "mimetype": "text/x-python",
   "name": "python",
   "nbconvert_exporter": "python",
   "pygments_lexer": "ipython3",
   "version": "3.11.3"
  },
  "orig_nbformat": 4
 },
 "nbformat": 4,
 "nbformat_minor": 2
}
