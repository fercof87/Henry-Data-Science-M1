{
 "cells": [
  {
   "attachments": {},
   "cell_type": "markdown",
   "metadata": {},
   "source": [
    "# Práctica Clase 2"
   ]
  },
  {
   "attachments": {},
   "cell_type": "markdown",
   "metadata": {},
   "source": [
    "1) Abrir el archivo \"Emisiones_CO2.csv\" y cargar sus datos en un diccionario."
   ]
  },
  {
   "cell_type": "code",
   "execution_count": 1,
   "metadata": {},
   "outputs": [],
   "source": [
    "import csv\n",
    "\n",
    "dicc_emisiones = {  \"cod_pais\" : [],\n",
    "                    \"nom_pais\" : [],\n",
    "                    \"region\" : [],\n",
    "                    \"anio\" : [],\n",
    "                    \"co2\" : [],\n",
    "                    \"co2_percapita\" : []}\n",
    "\n",
    "with open(\"Emisiones_CO2_v2.csv\", newline=\"\\n\") as arch_emisiones:\n",
    "    reader_emisiones = csv.DictReader(arch_emisiones, delimiter=\"|\")\n",
    "    for row in reader_emisiones:\n",
    "        dicc_emisiones[\"cod_pais\"].append(row[\"Codigo de pais\"])\n",
    "        dicc_emisiones[\"nom_pais\"].append(row[\"Nombre del pais\"])\n",
    "        dicc_emisiones[\"region\"].append(row[\"Region\"])\n",
    "\n",
    "        if(row[\"Anio\"] in (None,\"\")):\n",
    "            dicc_emisiones[\"anio\"].append(None)\n",
    "        else:\n",
    "            dicc_emisiones[\"anio\"].append(int(row[\"Anio\"]))\n",
    "        \n",
    "        if(row[\"CO2 (kt)\"] in (None,\"\")):\n",
    "            dicc_emisiones[\"co2\"].append(None)\n",
    "        else:\n",
    "            dicc_emisiones[\"co2\"].append(float(row[\"CO2 (kt)\"].replace(\".\",\"\").replace(\",\",\".\")))\n",
    "        \n",
    "        if(row[\"CO2 per capita (toneladas metricas)\"] in (None,\"\")):\n",
    "            dicc_emisiones[\"co2_percapita\"].append(None)\n",
    "        else:\n",
    "            dicc_emisiones[\"co2_percapita\"].append(float(row[\"CO2 per capita (toneladas metricas)\"].replace(\".\",\"\").replace(\",\",\".\")))\n",
    "\n",
    "arch_emisiones.close()"
   ]
  },
  {
   "attachments": {},
   "cell_type": "markdown",
   "metadata": {},
   "source": [
    "2) \n",
    "a) ¿Cuántas variables hay? <br>\n",
    "b) ¿Qué tipos de datos usar para cada una? <br>\n",
    "c) ¿Qué tipo de variables son? <br>\n",
    "d) ¿Hay valores faltantes? <br>\n",
    "e) ¿Cuál es el total de emisiones de CO2 para \"América Latina y Caribe\" en el año 2010?"
   ]
  },
  {
   "cell_type": "code",
   "execution_count": 93,
   "metadata": {},
   "outputs": [
    {
     "name": "stdout",
     "output_type": "stream",
     "text": [
      "6\n"
     ]
    }
   ],
   "source": [
    "# ¿Cuántas variables hay?\n",
    "print(len(dicc_emisiones.keys()))"
   ]
  },
  {
   "cell_type": "code",
   "execution_count": 67,
   "metadata": {},
   "outputs": [],
   "source": [
    "# b) ¿Qué tipos de datos usar para cada una? \n",
    "# Los siguientes 3 campos son de tipo string.\n",
    "# Codigo de pais\n",
    "# Nombre de pais\n",
    "# Region\n",
    "\n",
    "# El siguiente campo es int. Se hizo un cast de la entrada.\n",
    "# Anio\n",
    "\n",
    "# Los siguientes 2 campos son FLOAT. Se formatearon los campos para corregir el punto decimal y ademas se hizo un cast de la entrada.\n",
    "# Co2\n",
    "# Co2 Per Capita"
   ]
  },
  {
   "cell_type": "code",
   "execution_count": 68,
   "metadata": {},
   "outputs": [],
   "source": [
    "# c) ¿Qué tipo de variables son?\n",
    "# cod_pais          ==> Categorico Cualitativo\n",
    "# nom_pais          ==> Categorico Cualitativo\n",
    "# Region            ==> Categorico Cualitativo\n",
    "# anio              ==> Cuantitativo Discreto / Cualitativo Ordinal\n",
    "# co2               ==> Cuantitativo Continuo\n",
    "# co2_percapita     ==> Cuantitativo Continuo"
   ]
  },
  {
   "cell_type": "code",
   "execution_count": 94,
   "metadata": {},
   "outputs": [
    {
     "name": "stdout",
     "output_type": "stream",
     "text": [
      "El campo cod_pais tiene un total de 0 valores faltantes.\n",
      "El campo nom_pais tiene un total de 0 valores faltantes.\n",
      "El campo region tiene un total de 0 valores faltantes.\n",
      "El campo anio tiene un total de 0 valores faltantes.\n",
      "El campo co2 tiene un total de 2095 valores faltantes.\n",
      "El campo co2_percapita tiene un total de 2098 valores faltantes.\n",
      "\n",
      "En total, se han encontrado 4193 valores faltantes.\n"
     ]
    }
   ],
   "source": [
    "# d) ¿Hay valores faltantes?\n",
    "\n",
    "valores_faltantes_totales = 0\n",
    "for clave in dicc_emisiones.keys():\n",
    "    valores_faltantes_por_dato = 0\n",
    "    for dato in dicc_emisiones[clave]:\n",
    "        if(dato in (None, \"\")):\n",
    "            valores_faltantes_por_dato += 1\n",
    "    valores_faltantes_totales += valores_faltantes_por_dato\n",
    "    print(\"El campo {} tiene un total de {} valores faltantes.\".format(clave, valores_faltantes_por_dato))\n",
    "print(\"\\nEn total, se han encontrado {} valores faltantes.\".format(valores_faltantes_totales))\n"
   ]
  },
  {
   "cell_type": "code",
   "execution_count": 95,
   "metadata": {},
   "outputs": [
    {
     "name": "stdout",
     "output_type": "stream",
     "text": [
      "El total de emisiones en America Latina y Caribe en el Anio 2010 fue de: 1691634.8009999995 (kt).\n"
     ]
    }
   ],
   "source": [
    "# e) ¿Cuál es el total de emisiones de CO2 para \"América Latina y Caribe\" en el año 2010?\n",
    "\n",
    "filtro_region = \"America Latina y Caribe\"\n",
    "filtro_anio = 2010\n",
    "emisiones = 0.0\n",
    "\n",
    "for indice, dato in enumerate(dicc_emisiones[\"region\"]):\n",
    "    if(dicc_emisiones[\"region\"][indice] == filtro_region and \n",
    "       dicc_emisiones[\"anio\"][indice] == filtro_anio and \n",
    "       dicc_emisiones[\"co2\"][indice] != None):\n",
    "\n",
    "        emisiones += dicc_emisiones[\"co2\"][indice]\n",
    "\n",
    "print(\"El total de emisiones en {} en el Anio {} fue de: {} (kt).\".format(filtro_region, filtro_anio, emisiones))\n"
   ]
  }
 ],
 "metadata": {
  "kernelspec": {
   "display_name": "Python 3",
   "language": "python",
   "name": "python3"
  },
  "language_info": {
   "codemirror_mode": {
    "name": "ipython",
    "version": 3
   },
   "file_extension": ".py",
   "mimetype": "text/x-python",
   "name": "python",
   "nbconvert_exporter": "python",
   "pygments_lexer": "ipython3",
   "version": "3.11.3"
  },
  "orig_nbformat": 4
 },
 "nbformat": 4,
 "nbformat_minor": 2
}
