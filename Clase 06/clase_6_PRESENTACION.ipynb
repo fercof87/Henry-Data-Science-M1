{
 "cells": [
  {
   "cell_type": "markdown",
   "id": "159e9dc1",
   "metadata": {},
   "source": [
    "# Clase 6: Estructuras de datos II"
   ]
  },
  {
   "cell_type": "markdown",
   "id": "aec42f88",
   "metadata": {},
   "source": [
    "# Listas enlazadas"
   ]
  },
  {
   "cell_type": "markdown",
   "id": "bcf47f70",
   "metadata": {},
   "source": [
    "Una **lista enlazada** es un conjunto de **nodos** relacionados entre sí mediante un **puntero** que indica cuál es el **siguiente** elemento en la lista.\n",
    "\n",
    "Por lo tanto, creamos dos **clases**:\n",
    "\n",
    "    1) Nodo\n",
    "    \n",
    "    2) LinkedList"
   ]
  },
  {
   "cell_type": "markdown",
   "id": "2642e486",
   "metadata": {},
   "source": [
    "En el siguiente código, la clase **Nodo** representa un nodo en una lista enlazada simple.  \n",
    "\n",
    "El nodo tiene un **valor** almacenado y una **referencia al siguiente nodo en la lista**. \n",
    "\n",
    "Los métodos `getData` y `setData` se utilizan para obtener y establecer el valor almacenado en el nodo, mientras que los métodos `getNext` y `setNext` se utilizan para obtener y establecer la referencia al siguiente nodo en la lista. \n",
    "\n",
    "Los comentarios y las docstrings explican la funcionalidad de cada método y del constructor de la clase."
   ]
  },
  {
   "cell_type": "code",
   "execution_count": 175,
   "id": "756c3dcb",
   "metadata": {},
   "outputs": [],
   "source": [
    "class Nodo:\n",
    "    \"\"\"\n",
    "    Clase que define un nodo de una lista enlazada simple.\n",
    "    \"\"\"\n",
    "    \n",
    "    def __init__(self, valor):\n",
    "        \"\"\"\n",
    "        Constructor de la clase Nodo. Crea un nodo con el valor especificado.\n",
    "\n",
    "        Args:\n",
    "            valor: El valor que se almacenará en el nodo.\n",
    "            siguiente: El puntero que indica el siguiente nodo en la lista\n",
    "        \"\"\"\n",
    "        self.valor = valor\n",
    "        self.siguiente = None\n",
    "    \n",
    "    def getData(self):\n",
    "        \"\"\"\n",
    "        Retorna el valor almacenado en el nodo.\n",
    "\n",
    "        Returns:\n",
    "            El valor almacenado en el nodo.\n",
    "        \"\"\"\n",
    "        return self.valor\n",
    "    \n",
    "    def getNext(self):\n",
    "        \"\"\"\n",
    "        Retorna el siguiente nodo en la lista.\n",
    "\n",
    "        Returns:\n",
    "            El siguiente nodo en la lista.\n",
    "        \"\"\"\n",
    "        return self.siguiente\n",
    "    \n",
    "    def setData(self, valor):\n",
    "        \"\"\"\n",
    "        Establece un nuevo valor para el nodo.\n",
    "\n",
    "        Args:\n",
    "            valor: El nuevo valor a establecer en el nodo.\n",
    "        \"\"\"\n",
    "        self.valor = valor\n",
    "    \n",
    "    def setNext(self, nodo):\n",
    "        \"\"\"\n",
    "        Establece el siguiente nodo en la lista.\n",
    "\n",
    "        Args:\n",
    "            nodo: El siguiente nodo en la lista. El parámetro nodo debe ser un objeto de tipo Nodo\n",
    "        \"\"\"\n",
    "        self.siguiente = nodo"
   ]
  },
  {
   "cell_type": "markdown",
   "id": "e4cbf2f9",
   "metadata": {},
   "source": [
    "# LinkedList"
   ]
  },
  {
   "cell_type": "code",
   "execution_count": 355,
   "id": "d10155ed",
   "metadata": {},
   "outputs": [],
   "source": [
    "class LinkedList:\n",
    "    \"\"\"\n",
    "    Esta clase representa una lista enlazada.\n",
    "\n",
    "    Atributos:\n",
    "        head (Nodo): primer nodo de la lista enlazada.\n",
    "    \"\"\"\n",
    "\n",
    "    def __init__(self):\n",
    "        \"\"\"\n",
    "        Crea una nueva lista enlazada vacía.\n",
    "\n",
    "        Args:\n",
    "            None\n",
    "\n",
    "        Returns:\n",
    "            None\n",
    "        \"\"\"\n",
    "        self.head = None\n",
    "\n",
    "    def estaVacia(self):\n",
    "        \"\"\"\n",
    "        Verifica si la lista enlazada está vacía.\n",
    "\n",
    "        Args:\n",
    "            None\n",
    "\n",
    "        Returns:\n",
    "            bool: True si la lista enlazada está vacía, False en caso contrario.\n",
    "        \"\"\"\n",
    "        if self.head == None:\n",
    "            return True\n",
    "        else:\n",
    "            return False\n",
    "\n",
    "    def agregarNodo(self, item):\n",
    "        \"\"\"\n",
    "        Agrega un nuevo nodo al inicio de la lista enlazada.\n",
    "\n",
    "        Args:\n",
    "            item (objeto): valor del nuevo nodo.\n",
    "\n",
    "        Returns:\n",
    "            None\n",
    "        \"\"\"\n",
    "        nuevo_nodo = Nodo(item)\n",
    "        nuevo_nodo.setNext(self.head)\n",
    "        self.head  = nuevo_nodo\n",
    "\n",
    "    def size(self):\n",
    "        \"\"\"\n",
    "        Calcula el tamaño de la lista enlazada.\n",
    "\n",
    "        Args:\n",
    "            None\n",
    "\n",
    "        Returns:\n",
    "            int: tamaño de la lista enlazada.\n",
    "        \"\"\"\n",
    "        count = 0\n",
    "        current = self.head\n",
    "        while not(current == None):\n",
    "            count += 1\n",
    "            current = current.getNext()\n",
    "        return count\n",
    "\n",
    "    def search(self, item):\n",
    "        \"\"\"\n",
    "        Busca un valor en la lista enlazada.\n",
    "\n",
    "        Args:\n",
    "            item (objeto): valor a buscar.\n",
    "\n",
    "        Returns:\n",
    "            bool: True si el valor se encuentra en la lista enlazada, False en caso contrario.\n",
    "        \"\"\"\n",
    "        current = self.head\n",
    "        found = False\n",
    "        while (current != None) and (not found):\n",
    "            if current.getData() is item:\n",
    "                found = True\n",
    "            else:\n",
    "                current.getNext()\n",
    "        return found\n",
    "\n",
    "    def remove(self, item):\n",
    "        \"\"\"\n",
    "        Elimina un valor de la lista enlazada.\n",
    "\n",
    "        Args:\n",
    "            item (objeto): valor a eliminar.\n",
    "\n",
    "        Returns:\n",
    "            None\n",
    "        \"\"\"\n",
    "        current  = self.head\n",
    "        previous = None\n",
    "        found     = False\n",
    "\n",
    "        while (current != None) and (not found):\n",
    "            if current.getData() == item:\n",
    "                found = True\n",
    "            else:\n",
    "                previous = current\n",
    "                current  = current.getNext()\n",
    "        if found:\n",
    "            if previous == None:\n",
    "                self.head = current.getNext()\n",
    "            else:\n",
    "                previous.setNext(current.getNext())\n",
    "        else:\n",
    "            raise ValueError\n",
    "            print('Valor no encontrado')\n",
    "\n",
    "    def insert(self, posicion, item):\n",
    "        \"\"\"\n",
    "        Inserta un nuevo nodo en una posición dada de la lista enlazada.\n",
    "\n",
    "        Args:\n",
    "            posicion (int): posición en la que se va a insertar el nuevo nodo.\n",
    "            item (objeto): valor del nuevo nodo.\n",
    "\n",
    "        Returns:\n",
    "            None\n",
    "\n",
    "        Raises:\n",
    "            IndexError: si la posición especificada es mayor al tamaño de la lista enlazada.\n",
    "        \"\"\"\n",
    "        if posicion > self.size() - 1:\n",
    "            raise IndexError\n",
    "            print('Index out of range')\n",
    "        current = self.head\n",
    "        previous = None\n",
    "        pos = 0\n",
    "        if posicion == 0:\n",
    "            self.agregarNodo(item)\n",
    "        else:\n",
    "            nuevo_nodo = Nodo(item)\n",
    "            while pos < posicion:\n",
    "                pos += 1\n",
    "                previous = current\n",
    "                current = current.getNext()\n",
    "            previous.setNext(nuevo_nodo)\n",
    "            nuevo_nodo.setNext(current)\n",
    "    \n",
    "    def index(self, item):\n",
    "        \"\"\"\n",
    "        Devuelve el índice de la primera aparición del elemento en la lista.\n",
    "        \n",
    "        Parámetros:\n",
    "        -----------\n",
    "        item : cualquier tipo\n",
    "            Elemento a buscar en la lista.\n",
    "            \n",
    "        Devuelve:\n",
    "        ---------\n",
    "        pos : int\n",
    "            Índice de la primera aparición del elemento. Si no se encuentra el elemento,\n",
    "            devuelve None.\n",
    "        \"\"\"\n",
    "        current = self.head\n",
    "        pos = 0\n",
    "        found = False\n",
    "        while (current != None) and (not found):\n",
    "            if (current.getData() == item):\n",
    "                found = True\n",
    "            else:\n",
    "                current = current.getNext()\n",
    "                pos += 1\n",
    "        if found:\n",
    "            pass\n",
    "        else:\n",
    "            pos = None\n",
    "        return pos\n",
    "\n",
    "    def pop(self, position = None):\n",
    "        \"\"\"\n",
    "        Elimina y devuelve el elemento en la posición dada de la lista. Si no se proporciona\n",
    "        una posición, se elimina y devuelve el primer elemento.\n",
    "        \n",
    "        Parámetros:\n",
    "        -----------\n",
    "        position : int, opcional\n",
    "            Posición del elemento a eliminar. Si no se proporciona, se elimina el primer elemento.\n",
    "            \n",
    "        Devuelve:\n",
    "        ---------\n",
    "        ret : cualquier tipo\n",
    "            Elemento eliminado de la lista.\n",
    "            \n",
    "        Lanza:\n",
    "        ------\n",
    "        IndexError\n",
    "            Si se proporciona una posición fuera del rango de la lista.\n",
    "        \"\"\"\n",
    "        current = self.head\n",
    "        if (position == None):\n",
    "            ret = current.getData()\n",
    "            self.head = current.getNext()\n",
    "        else:\n",
    "            if position > self.size():\n",
    "                print('Índice fuera de rango')\n",
    "                raise IndexError\n",
    "            pos = 0\n",
    "            previous = None\n",
    "            while pos < position:\n",
    "                previous = current\n",
    "                current = current.getNext()\n",
    "                pos += 1\n",
    "                ret = current.getData()\n",
    "            previous.setNext(current.getNext())\n",
    "        return ret\n",
    "\n",
    "    def append(self, item):\n",
    "        \"\"\"\n",
    "        Agrega un nuevo elemento al final de la lista.\n",
    "        \n",
    "        Parámetros:\n",
    "        -----------\n",
    "        item : cualquier tipo\n",
    "            Elemento a agregar a la lista.\n",
    "        \"\"\"\n",
    "        current = self.head\n",
    "        previous = None\n",
    "        pos = 0\n",
    "        length = self.size()\n",
    "        while pos < length:\n",
    "            previous = current\n",
    "            current = current.getNext()\n",
    "            pos += 1\n",
    "        new_node = Node(item)\n",
    "        if (previous == None):\n",
    "            new_node.setNext(current)\n",
    "            self.head = new_node\n",
    "        else:\n",
    "            previous.setNext(new_node)\n",
    "    \n",
    "    def printLista(self):\n",
    "        \"\"\"\n",
    "        Imprime todos los elementos de la lista en orden.\n",
    "        \"\"\"\n",
    "        current = self.head\n",
    "        while not(current == None):\n",
    "            print(current.getData())\n",
    "            current = current.getNext()\n"
   ]
  },
  {
   "cell_type": "code",
   "execution_count": 356,
   "id": "810ebb96",
   "metadata": {},
   "outputs": [],
   "source": [
    "lista = LinkedList()"
   ]
  },
  {
   "cell_type": "code",
   "execution_count": 357,
   "id": "2a8737c6",
   "metadata": {},
   "outputs": [
    {
     "data": {
      "text/plain": [
       "True"
      ]
     },
     "execution_count": 357,
     "metadata": {},
     "output_type": "execute_result"
    }
   ],
   "source": [
    "lista.estaVacia()"
   ]
  },
  {
   "cell_type": "code",
   "execution_count": 358,
   "id": "ca42a1ff",
   "metadata": {},
   "outputs": [
    {
     "name": "stdout",
     "output_type": "stream",
     "text": [
      "None\n"
     ]
    }
   ],
   "source": [
    "print(lista.head)"
   ]
  },
  {
   "cell_type": "code",
   "execution_count": 359,
   "id": "613e9e45",
   "metadata": {},
   "outputs": [],
   "source": [
    "lista.agregarNodo(1)"
   ]
  },
  {
   "cell_type": "code",
   "execution_count": 360,
   "id": "8e039797",
   "metadata": {},
   "outputs": [
    {
     "data": {
      "text/plain": [
       "False"
      ]
     },
     "execution_count": 360,
     "metadata": {},
     "output_type": "execute_result"
    }
   ],
   "source": [
    "lista.estaVacia()"
   ]
  },
  {
   "cell_type": "code",
   "execution_count": 361,
   "id": "4a93bc94",
   "metadata": {},
   "outputs": [],
   "source": [
    "nodo_1 = lista.head"
   ]
  },
  {
   "cell_type": "code",
   "execution_count": 362,
   "id": "589764c1",
   "metadata": {},
   "outputs": [
    {
     "data": {
      "text/plain": [
       "1"
      ]
     },
     "execution_count": 362,
     "metadata": {},
     "output_type": "execute_result"
    }
   ],
   "source": [
    "nodo_1.valor"
   ]
  },
  {
   "cell_type": "code",
   "execution_count": 363,
   "id": "c32e75b7",
   "metadata": {},
   "outputs": [
    {
     "data": {
      "text/plain": [
       "1"
      ]
     },
     "execution_count": 363,
     "metadata": {},
     "output_type": "execute_result"
    }
   ],
   "source": [
    "nodo_1.getData()"
   ]
  },
  {
   "cell_type": "code",
   "execution_count": 364,
   "id": "d25b1870",
   "metadata": {},
   "outputs": [
    {
     "name": "stdout",
     "output_type": "stream",
     "text": [
      "None\n"
     ]
    }
   ],
   "source": [
    "print(nodo_1.getNext())"
   ]
  },
  {
   "cell_type": "code",
   "execution_count": 365,
   "id": "255732a4",
   "metadata": {},
   "outputs": [],
   "source": [
    "lista.agregarNodo(2)"
   ]
  },
  {
   "cell_type": "code",
   "execution_count": 366,
   "id": "acfa6da9",
   "metadata": {},
   "outputs": [],
   "source": [
    "nodo_1 = lista.head"
   ]
  },
  {
   "cell_type": "code",
   "execution_count": 367,
   "id": "b126e3f6",
   "metadata": {},
   "outputs": [
    {
     "data": {
      "text/plain": [
       "2"
      ]
     },
     "execution_count": 367,
     "metadata": {},
     "output_type": "execute_result"
    }
   ],
   "source": [
    "nodo_1.valor"
   ]
  },
  {
   "cell_type": "code",
   "execution_count": 368,
   "id": "10d75e7c",
   "metadata": {},
   "outputs": [],
   "source": [
    "siguiente_nodo = lista.head.siguiente"
   ]
  },
  {
   "cell_type": "code",
   "execution_count": 369,
   "id": "09bb3536",
   "metadata": {},
   "outputs": [
    {
     "data": {
      "text/plain": [
       "1"
      ]
     },
     "execution_count": 369,
     "metadata": {},
     "output_type": "execute_result"
    }
   ],
   "source": [
    "siguiente_nodo.valor"
   ]
  },
  {
   "cell_type": "code",
   "execution_count": 370,
   "id": "f3e4df4c",
   "metadata": {},
   "outputs": [
    {
     "name": "stdout",
     "output_type": "stream",
     "text": [
      "None\n"
     ]
    }
   ],
   "source": [
    "print(siguiente_nodo.siguiente)"
   ]
  },
  {
   "cell_type": "code",
   "execution_count": 371,
   "id": "6af4fbb9",
   "metadata": {},
   "outputs": [
    {
     "name": "stdout",
     "output_type": "stream",
     "text": [
      "2\n",
      "1\n"
     ]
    }
   ],
   "source": [
    "lista.printLista()"
   ]
  },
  {
   "cell_type": "code",
   "execution_count": 372,
   "id": "fe7849f0",
   "metadata": {},
   "outputs": [],
   "source": [
    "# inserta un nodo con el valor 10 en la posición 0 (al comienzo de la lista)\n",
    "lista.insert(0, 10)"
   ]
  },
  {
   "cell_type": "code",
   "execution_count": 373,
   "id": "d62f5e0d",
   "metadata": {},
   "outputs": [
    {
     "name": "stdout",
     "output_type": "stream",
     "text": [
      "10\n",
      "2\n",
      "1\n"
     ]
    }
   ],
   "source": [
    "lista.printLista()"
   ]
  },
  {
   "cell_type": "code",
   "execution_count": 374,
   "id": "1627a313",
   "metadata": {},
   "outputs": [
    {
     "data": {
      "text/plain": [
       "10"
      ]
     },
     "execution_count": 374,
     "metadata": {},
     "output_type": "execute_result"
    }
   ],
   "source": [
    "# Ahora lista.head es un nodo cuyo valor es 10\n",
    "lista.head.valor"
   ]
  },
  {
   "cell_type": "code",
   "execution_count": 375,
   "id": "8e3ba687",
   "metadata": {},
   "outputs": [],
   "source": [
    "# Inserta un nodo con el valor 11 como tercer elemento de la lista (posición con el índice 2)\n",
    "\n",
    "lista.insert(2, 11)"
   ]
  },
  {
   "cell_type": "code",
   "execution_count": 376,
   "id": "840a1ef5",
   "metadata": {},
   "outputs": [
    {
     "name": "stdout",
     "output_type": "stream",
     "text": [
      "10\n",
      "2\n",
      "11\n",
      "1\n"
     ]
    }
   ],
   "source": [
    "lista.printLista()"
   ]
  },
  {
   "cell_type": "code",
   "execution_count": 377,
   "id": "aadd0d63",
   "metadata": {},
   "outputs": [],
   "source": [
    "# Elimino el nodo con el valor 11\n",
    "lista.remove(11)"
   ]
  },
  {
   "cell_type": "code",
   "execution_count": 378,
   "id": "42207225",
   "metadata": {},
   "outputs": [
    {
     "name": "stdout",
     "output_type": "stream",
     "text": [
      "10\n",
      "2\n",
      "1\n"
     ]
    }
   ],
   "source": [
    "lista.printLista()"
   ]
  },
  {
   "cell_type": "code",
   "execution_count": 379,
   "id": "4b6ecfa9",
   "metadata": {},
   "outputs": [
    {
     "ename": "ValueError",
     "evalue": "",
     "output_type": "error",
     "traceback": [
      "\u001b[1;31m---------------------------------------------------------------------------\u001b[0m",
      "\u001b[1;31mValueError\u001b[0m                                Traceback (most recent call last)",
      "\u001b[1;32m~\\AppData\\Local\\Temp\\ipykernel_15792\\2648355966.py\u001b[0m in \u001b[0;36m<module>\u001b[1;34m\u001b[0m\n\u001b[0;32m      1\u001b[0m \u001b[1;31m# Si intento eliminar un elemento que no existe, devuelve un error\u001b[0m\u001b[1;33m\u001b[0m\u001b[1;33m\u001b[0m\u001b[0m\n\u001b[1;32m----> 2\u001b[1;33m \u001b[0mlista\u001b[0m\u001b[1;33m.\u001b[0m\u001b[0mremove\u001b[0m\u001b[1;33m(\u001b[0m\u001b[1;36m12\u001b[0m\u001b[1;33m)\u001b[0m\u001b[1;33m\u001b[0m\u001b[1;33m\u001b[0m\u001b[0m\n\u001b[0m",
      "\u001b[1;32m~\\AppData\\Local\\Temp\\ipykernel_15792\\1214368727.py\u001b[0m in \u001b[0;36mremove\u001b[1;34m(self, item)\u001b[0m\n\u001b[0;32m    110\u001b[0m                 \u001b[0mprevious\u001b[0m\u001b[1;33m.\u001b[0m\u001b[0msetNext\u001b[0m\u001b[1;33m(\u001b[0m\u001b[0mcurrent\u001b[0m\u001b[1;33m.\u001b[0m\u001b[0mgetNext\u001b[0m\u001b[1;33m(\u001b[0m\u001b[1;33m)\u001b[0m\u001b[1;33m)\u001b[0m\u001b[1;33m\u001b[0m\u001b[1;33m\u001b[0m\u001b[0m\n\u001b[0;32m    111\u001b[0m         \u001b[1;32melse\u001b[0m\u001b[1;33m:\u001b[0m\u001b[1;33m\u001b[0m\u001b[1;33m\u001b[0m\u001b[0m\n\u001b[1;32m--> 112\u001b[1;33m             \u001b[1;32mraise\u001b[0m \u001b[0mValueError\u001b[0m\u001b[1;33m\u001b[0m\u001b[1;33m\u001b[0m\u001b[0m\n\u001b[0m\u001b[0;32m    113\u001b[0m             \u001b[0mprint\u001b[0m\u001b[1;33m(\u001b[0m\u001b[1;34m'Valor no encontrado'\u001b[0m\u001b[1;33m)\u001b[0m\u001b[1;33m\u001b[0m\u001b[1;33m\u001b[0m\u001b[0m\n\u001b[0;32m    114\u001b[0m \u001b[1;33m\u001b[0m\u001b[0m\n",
      "\u001b[1;31mValueError\u001b[0m: "
     ]
    }
   ],
   "source": [
    "# Si intento eliminar un elemento que no existe, devuelve un error\n",
    "lista.remove(12)"
   ]
  },
  {
   "cell_type": "code",
   "execution_count": null,
   "id": "5c1977d9",
   "metadata": {},
   "outputs": [],
   "source": []
  },
  {
   "cell_type": "code",
   "execution_count": 380,
   "id": "2222c548",
   "metadata": {},
   "outputs": [
    {
     "data": {
      "text/plain": [
       "3"
      ]
     },
     "execution_count": 380,
     "metadata": {},
     "output_type": "execute_result"
    }
   ],
   "source": [
    "lista.size()"
   ]
  },
  {
   "cell_type": "code",
   "execution_count": 381,
   "id": "a729792a",
   "metadata": {},
   "outputs": [
    {
     "data": {
      "text/plain": [
       "False"
      ]
     },
     "execution_count": 381,
     "metadata": {},
     "output_type": "execute_result"
    }
   ],
   "source": [
    "lista.estaVacia()"
   ]
  },
  {
   "cell_type": "code",
   "execution_count": 382,
   "id": "8f284030",
   "metadata": {},
   "outputs": [],
   "source": [
    "# la variable head almacena el nodo que está al comienzo de la lista\n",
    "head = lista.head"
   ]
  },
  {
   "cell_type": "code",
   "execution_count": 383,
   "id": "6daabe06",
   "metadata": {},
   "outputs": [
    {
     "data": {
      "text/plain": [
       "__main__.Nodo"
      ]
     },
     "execution_count": 383,
     "metadata": {},
     "output_type": "execute_result"
    }
   ],
   "source": [
    "# head es un objeto de tipo Nodo (es un elemento de la lista y cada elemento es un nodo)\n",
    "type(head)"
   ]
  },
  {
   "cell_type": "code",
   "execution_count": 384,
   "id": "e0264c36",
   "metadata": {},
   "outputs": [
    {
     "data": {
      "text/plain": [
       "10"
      ]
     },
     "execution_count": 384,
     "metadata": {},
     "output_type": "execute_result"
    }
   ],
   "source": [
    "# el nodo head tiene el valor 10\n",
    "head.valor"
   ]
  },
  {
   "cell_type": "code",
   "execution_count": 385,
   "id": "a830976d",
   "metadata": {},
   "outputs": [],
   "source": [
    "# siguiente es un atributo que indica cuál es el siguiente nodo de la lista\n",
    "siguiente = head.siguiente"
   ]
  },
  {
   "cell_type": "code",
   "execution_count": 386,
   "id": "ed8c8c2a",
   "metadata": {},
   "outputs": [
    {
     "data": {
      "text/plain": [
       "__main__.Nodo"
      ]
     },
     "execution_count": 386,
     "metadata": {},
     "output_type": "execute_result"
    }
   ],
   "source": [
    "# siguiente es un objeto de tipo Nodo \n",
    "# (el siguiente elemento de la lista en relación al nodo en el que estamos posicionados)\n",
    "# como estamos posicionados en el primer elemento (head, donde head.valor = 10)\n",
    "# head.siguiente es el segundo elemento de la lista, donde head.siguiente.valor = 2\n",
    "type(siguiente)"
   ]
  },
  {
   "cell_type": "code",
   "execution_count": 387,
   "id": "bd7bc6ca",
   "metadata": {},
   "outputs": [
    {
     "data": {
      "text/plain": [
       "2"
      ]
     },
     "execution_count": 387,
     "metadata": {},
     "output_type": "execute_result"
    }
   ],
   "source": [
    "siguiente.valor"
   ]
  },
  {
   "cell_type": "code",
   "execution_count": 388,
   "id": "9c790e55",
   "metadata": {},
   "outputs": [
    {
     "name": "stdout",
     "output_type": "stream",
     "text": [
      "10\n",
      "2\n",
      "1\n"
     ]
    }
   ],
   "source": [
    "lista.printLista()"
   ]
  },
  {
   "cell_type": "code",
   "execution_count": 389,
   "id": "464d9111",
   "metadata": {},
   "outputs": [
    {
     "data": {
      "text/plain": [
       "10"
      ]
     },
     "execution_count": 389,
     "metadata": {},
     "output_type": "execute_result"
    }
   ],
   "source": [
    "head.getData()"
   ]
  },
  {
   "cell_type": "code",
   "execution_count": null,
   "id": "cb910f1a",
   "metadata": {},
   "outputs": [],
   "source": []
  },
  {
   "cell_type": "code",
   "execution_count": 390,
   "id": "2459d04e",
   "metadata": {},
   "outputs": [],
   "source": [
    "# Modifico el valor del primer nodo\n",
    "head.setData(100)"
   ]
  },
  {
   "cell_type": "code",
   "execution_count": 391,
   "id": "464f33c8",
   "metadata": {},
   "outputs": [
    {
     "data": {
      "text/plain": [
       "100"
      ]
     },
     "execution_count": 391,
     "metadata": {},
     "output_type": "execute_result"
    }
   ],
   "source": [
    "head.valor"
   ]
  },
  {
   "cell_type": "code",
   "execution_count": 392,
   "id": "93d66964",
   "metadata": {},
   "outputs": [
    {
     "name": "stdout",
     "output_type": "stream",
     "text": [
      "100\n",
      "2\n",
      "1\n"
     ]
    }
   ],
   "source": [
    "lista.printLista()"
   ]
  },
  {
   "cell_type": "code",
   "execution_count": 393,
   "id": "8035cc99",
   "metadata": {},
   "outputs": [
    {
     "data": {
      "text/plain": [
       "3"
      ]
     },
     "execution_count": 393,
     "metadata": {},
     "output_type": "execute_result"
    }
   ],
   "source": [
    "lista.size()"
   ]
  },
  {
   "cell_type": "code",
   "execution_count": 394,
   "id": "b4ac87d0",
   "metadata": {},
   "outputs": [],
   "source": [
    "# agregarNodo(valor) agrega un nodo al comienzo de la lista\n",
    "lista.agregarNodo(200)"
   ]
  },
  {
   "cell_type": "code",
   "execution_count": 395,
   "id": "d9cd7501",
   "metadata": {},
   "outputs": [
    {
     "name": "stdout",
     "output_type": "stream",
     "text": [
      "200\n",
      "100\n",
      "2\n",
      "1\n"
     ]
    }
   ],
   "source": [
    "# Ahora la lista tiene un nuevo elemento al comienzo\n",
    "lista.printLista()"
   ]
  },
  {
   "cell_type": "code",
   "execution_count": 396,
   "id": "74398fc1",
   "metadata": {},
   "outputs": [],
   "source": [
    "nuevo_head = lista.head"
   ]
  },
  {
   "cell_type": "code",
   "execution_count": 397,
   "id": "2d9d99d4",
   "metadata": {},
   "outputs": [
    {
     "data": {
      "text/plain": [
       "__main__.Nodo"
      ]
     },
     "execution_count": 397,
     "metadata": {},
     "output_type": "execute_result"
    }
   ],
   "source": [
    "type(nuevo_head)"
   ]
  },
  {
   "cell_type": "code",
   "execution_count": 398,
   "id": "4d1dd6c1",
   "metadata": {},
   "outputs": [
    {
     "data": {
      "text/plain": [
       "200"
      ]
     },
     "execution_count": 398,
     "metadata": {},
     "output_type": "execute_result"
    }
   ],
   "source": [
    "# head, ahora, es el nuevo nodo cuyo valor es 200\n",
    "nuevo_head.valor"
   ]
  },
  {
   "cell_type": "code",
   "execution_count": null,
   "id": "10f1e4e5",
   "metadata": {},
   "outputs": [],
   "source": []
  },
  {
   "cell_type": "code",
   "execution_count": null,
   "id": "6bcbddce",
   "metadata": {},
   "outputs": [],
   "source": []
  },
  {
   "cell_type": "code",
   "execution_count": 399,
   "id": "3396640c",
   "metadata": {},
   "outputs": [
    {
     "data": {
      "text/plain": [
       "200"
      ]
     },
     "execution_count": 399,
     "metadata": {},
     "output_type": "execute_result"
    }
   ],
   "source": [
    "nuevo_head.getData()"
   ]
  },
  {
   "cell_type": "code",
   "execution_count": null,
   "id": "011e80a1",
   "metadata": {},
   "outputs": [],
   "source": []
  },
  {
   "cell_type": "code",
   "execution_count": 400,
   "id": "c74439e9",
   "metadata": {},
   "outputs": [
    {
     "name": "stdout",
     "output_type": "stream",
     "text": [
      "200\n",
      "100\n",
      "2\n",
      "1\n"
     ]
    }
   ],
   "source": [
    "lista.printLista()"
   ]
  },
  {
   "cell_type": "code",
   "execution_count": 401,
   "id": "76f42dc6",
   "metadata": {},
   "outputs": [
    {
     "data": {
      "text/plain": [
       "100"
      ]
     },
     "execution_count": 401,
     "metadata": {},
     "output_type": "execute_result"
    }
   ],
   "source": [
    "# nuevo_head es el nodo en el encabezado\n",
    "# Los nodos tienen el método getNext() que me devuelve el siguiente elemento de la lista\n",
    "# El siguiente elemento de la lista es, a su vez, un nodo\n",
    "# y ese nodo tiene el atributo valor.\n",
    "# Como el siguiente elemento luego de head es el nodo que tiene valor 100\n",
    "# Si me posiciono en nuevo_head y llamo al método getNext() me devuelve el siguiente nodo.\n",
    "# Si pido el valor de ese siguiente nodo, obtengo 100 como resultado\n",
    "nuevo_head.getNext().valor"
   ]
  },
  {
   "cell_type": "code",
   "execution_count": 402,
   "id": "7320752c",
   "metadata": {},
   "outputs": [
    {
     "data": {
      "text/plain": [
       "100"
      ]
     },
     "execution_count": 402,
     "metadata": {},
     "output_type": "execute_result"
    }
   ],
   "source": [
    "# Lo anterior da el mismo resultado que esta otra línea\n",
    "nuevo_head.getNext().getData()"
   ]
  },
  {
   "cell_type": "code",
   "execution_count": 403,
   "id": "5e6036a9",
   "metadata": {},
   "outputs": [],
   "source": [
    "# setData(valor) me permite cambiar el valor de un nodo\n",
    "lista.head.setData(150)"
   ]
  },
  {
   "cell_type": "code",
   "execution_count": 404,
   "id": "bb5e7227",
   "metadata": {},
   "outputs": [
    {
     "data": {
      "text/plain": [
       "150"
      ]
     },
     "execution_count": 404,
     "metadata": {},
     "output_type": "execute_result"
    }
   ],
   "source": [
    "lista.head.valor"
   ]
  },
  {
   "cell_type": "code",
   "execution_count": 405,
   "id": "e2f8c5e8",
   "metadata": {},
   "outputs": [
    {
     "name": "stdout",
     "output_type": "stream",
     "text": [
      "150\n",
      "100\n",
      "2\n",
      "1\n"
     ]
    }
   ],
   "source": [
    "lista.printLista()"
   ]
  },
  {
   "cell_type": "code",
   "execution_count": 406,
   "id": "da3672bf",
   "metadata": {},
   "outputs": [],
   "source": [
    "# setNext(valor) me permite establecer el siguiente elemento de un nodo.\n",
    "# Como el siguiente elemento de un nodo es, a su vez, otro nodo\n",
    "# el parámetro que le pase tiene que ser un objeto de tipo nodo \n",
    "# con el valor que le quiero asignar a ese nodo\n",
    "lista.head.setNext(Nodo(20))"
   ]
  },
  {
   "cell_type": "code",
   "execution_count": 407,
   "id": "6d331cbc",
   "metadata": {},
   "outputs": [
    {
     "data": {
      "text/plain": [
       "False"
      ]
     },
     "execution_count": 407,
     "metadata": {},
     "output_type": "execute_result"
    }
   ],
   "source": [
    "lista.estaVacia()"
   ]
  },
  {
   "cell_type": "code",
   "execution_count": 408,
   "id": "91e4205a",
   "metadata": {},
   "outputs": [
    {
     "name": "stdout",
     "output_type": "stream",
     "text": [
      "150\n",
      "20\n"
     ]
    }
   ],
   "source": [
    "# Si imprimo la lista luego de establecer el siguiente, se pierden los otros elementos\n",
    "# Esto es porque cuando le asigné un siguiente elemento a 150 este siguiente elemento\n",
    "# No tiene, a su vez, especificado un siguiente elemento.\n",
    "lista.printLista()"
   ]
  },
  {
   "cell_type": "code",
   "execution_count": 409,
   "id": "e8df9b65",
   "metadata": {},
   "outputs": [
    {
     "data": {
      "text/plain": [
       "150"
      ]
     },
     "execution_count": 409,
     "metadata": {},
     "output_type": "execute_result"
    }
   ],
   "source": [
    "# El valor del encabezado de la lista\n",
    "lista.head.valor"
   ]
  },
  {
   "cell_type": "code",
   "execution_count": 410,
   "id": "aa659ccc",
   "metadata": {},
   "outputs": [
    {
     "data": {
      "text/plain": [
       "<__main__.Nodo at 0x26898549790>"
      ]
     },
     "execution_count": 410,
     "metadata": {},
     "output_type": "execute_result"
    }
   ],
   "source": [
    "# El siguiente elemento de la lista (un nodo)\n",
    "lista.head.siguiente"
   ]
  },
  {
   "cell_type": "code",
   "execution_count": 411,
   "id": "f0a76951",
   "metadata": {},
   "outputs": [
    {
     "data": {
      "text/plain": [
       "20"
      ]
     },
     "execution_count": 411,
     "metadata": {},
     "output_type": "execute_result"
    }
   ],
   "source": [
    "# El valor del siguiente elemento de la lista (el número 20)\n",
    "lista.head.siguiente.valor"
   ]
  },
  {
   "cell_type": "markdown",
   "id": "e84a7e16",
   "metadata": {},
   "source": [
    "Pueden probar los otros métodos de LinkedList y practicar hata entender bien cómo funciona la clase."
   ]
  },
  {
   "cell_type": "markdown",
   "id": "fd555731",
   "metadata": {},
   "source": [
    "# Ejemplo función hash"
   ]
  },
  {
   "cell_type": "code",
   "execution_count": 233,
   "id": "164bfb95",
   "metadata": {},
   "outputs": [],
   "source": [
    "def hash_function(key):\n",
    "    return sum(idx * ord(char) for idx, char in enumerate(repr(key), start=1))"
   ]
  },
  {
   "cell_type": "code",
   "execution_count": 234,
   "id": "a7736e79",
   "metadata": {},
   "outputs": [
    {
     "data": {
      "text/plain": [
       "894"
      ]
     },
     "execution_count": 234,
     "metadata": {},
     "output_type": "execute_result"
    }
   ],
   "source": [
    "hash_function('ARG')"
   ]
  },
  {
   "cell_type": "code",
   "execution_count": 235,
   "id": "4d48f1d6",
   "metadata": {},
   "outputs": [
    {
     "data": {
      "text/plain": [
       "101"
      ]
     },
     "execution_count": 235,
     "metadata": {},
     "output_type": "execute_result"
    }
   ],
   "source": [
    "ord('e')"
   ]
  },
  {
   "cell_type": "code",
   "execution_count": 236,
   "id": "c68ba691",
   "metadata": {},
   "outputs": [
    {
     "data": {
      "text/plain": [
       "str"
      ]
     },
     "execution_count": 236,
     "metadata": {},
     "output_type": "execute_result"
    }
   ],
   "source": [
    "type(repr(10))"
   ]
  },
  {
   "cell_type": "code",
   "execution_count": 237,
   "id": "5819872e",
   "metadata": {},
   "outputs": [
    {
     "name": "stdout",
     "output_type": "stream",
     "text": [
      "49\n",
      "96\n",
      "144\n"
     ]
    }
   ],
   "source": [
    "for idx, val in enumerate(repr(100), start=1):\n",
    "    print(idx * ord(val))"
   ]
  },
  {
   "cell_type": "code",
   "execution_count": 238,
   "id": "f54725a0",
   "metadata": {},
   "outputs": [
    {
     "data": {
      "text/plain": [
       "144"
      ]
     },
     "execution_count": 238,
     "metadata": {},
     "output_type": "execute_result"
    }
   ],
   "source": [
    "3 * ord('0')"
   ]
  },
  {
   "cell_type": "code",
   "execution_count": null,
   "id": "71e02128",
   "metadata": {},
   "outputs": [],
   "source": []
  },
  {
   "cell_type": "code",
   "execution_count": null,
   "id": "34ad6822",
   "metadata": {},
   "outputs": [],
   "source": []
  }
 ],
 "metadata": {
  "kernelspec": {
   "display_name": "Python 3 (ipykernel)",
   "language": "python",
   "name": "python3"
  },
  "language_info": {
   "codemirror_mode": {
    "name": "ipython",
    "version": 3
   },
   "file_extension": ".py",
   "mimetype": "text/x-python",
   "name": "python",
   "nbconvert_exporter": "python",
   "pygments_lexer": "ipython3",
   "version": "3.9.13"
  }
 },
 "nbformat": 4,
 "nbformat_minor": 5
}
