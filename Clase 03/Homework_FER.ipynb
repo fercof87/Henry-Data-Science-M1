{
 "cells": [
  {
   "attachments": {},
   "cell_type": "markdown",
   "metadata": {
    "id": "c-8a8a7LCGqE"
   },
   "source": [
    "# Práctica Clase 3"
   ]
  },
  {
   "attachments": {},
   "cell_type": "markdown",
   "metadata": {
    "id": "0hzczGYjCGqG"
   },
   "source": [
    "## Numpy"
   ]
  },
  {
   "attachments": {},
   "cell_type": "markdown",
   "metadata": {
    "id": "2iKM7iQWCGqH"
   },
   "source": [
    "**Ejercicio 1**: Responder las siguientes preguntas:\n",
    "* ¿Qué operaciones se pueden hacer tanto en un arreglo de Numpy como en una lista? Dar un ejemplo en una celda.\n",
    "* ¿Qué operaciones se pueden hacer en un arreglo de Numpy pero NO en una lista? Explorar algunas opciones y dar un ejemplo en una celda.\n",
    "* ¿Cuál es la diferencia entre un arreglo de forma -shape- (n,), (n,1) y (1,n)? Pueden crear arreglos para intentar responder esa pregunta."
   ]
  },
  {
   "cell_type": "code",
   "execution_count": 68,
   "metadata": {},
   "outputs": [],
   "source": [
    "import numpy as np"
   ]
  },
  {
   "cell_type": "code",
   "execution_count": 91,
   "metadata": {},
   "outputs": [
    {
     "name": "stdout",
     "output_type": "stream",
     "text": [
      "Slicing\n",
      "6\n",
      "6\n",
      "[6, 5, 4, 3, 2, 1]\n",
      "[6 5 4 3 2 1]\n",
      "Concatenacion\n",
      "[1, 2, 3, 4, 5, 6, 7, 8, 9]\n",
      "[1 2 3 4 5 6 7 8 9]\n",
      "Asignacion\n",
      "[7, 8, 9]\n",
      "[1 2 3 4 5 6]\n",
      "Copiado\n",
      "[-1, 0, 1]\n",
      "[-1  0  1]\n"
     ]
    }
   ],
   "source": [
    "# tanto en numpy como en listas convencionales se pueden hacer las siguientes operaciones\n",
    "# slicing\n",
    "print(\"Slicing\")\n",
    "lista   = [1,2,3,4,5,6]\n",
    "lista2  = [7,8,9]\n",
    "lista3  = [-1,0,1]\n",
    "arreglo = np.array(lista)\n",
    "arreglo3= np.array(lista3)\n",
    "\n",
    "print(lista[-1])\n",
    "print(arreglo[-1])\n",
    "\n",
    "print(lista[::-1])\n",
    "print(arreglo[::-1])\n",
    "\n",
    "# concatenacion\n",
    "print(\"Concatenacion\")\n",
    "print(lista + lista2)\n",
    "print(np.array(lista + lista2))\n",
    "\n",
    "# copiado o asignacion\n",
    "print(\"Asignacion\")\n",
    "lista = lista2\n",
    "print(lista)\n",
    "arreglo2 = arreglo\n",
    "print(arreglo2)\n",
    "print(\"Copiado\")\n",
    "lista = lista3.copy()\n",
    "print(lista)\n",
    "arreglo4 = arreglo3.copy()\n",
    "print(arreglo4)\n",
    "\n"
   ]
  },
  {
   "cell_type": "code",
   "execution_count": 136,
   "metadata": {},
   "outputs": [
    {
     "name": "stdout",
     "output_type": "stream",
     "text": [
      "[2 3 4 5 6]\n",
      "[1 2 3 4 5]\n",
      "[ 2  4  6  8 10]\n",
      "[1 2 3 4 5]\n",
      "\n",
      "Media = :  3.0\n",
      "Mediana = :  3.0\n",
      "Desviacion STD = :  1.4142135623730951\n",
      "Varianza = :  2.0\n",
      "Maximo = :  5\n",
      "Minimo = :  1\n",
      "[[19 22]\n",
      " [43 50]]\n",
      "[[19 22]\n",
      " [43 50]]\n",
      "[[19 22]\n",
      " [43 50]]\n",
      "[4 5]\n",
      "[4 5]\n",
      "[11 22 33 44 55]\n",
      "[1 2 3 4 5]\n",
      "[ True False  True False  True]\n",
      "[1 3 5]\n",
      "[1 3 5]\n",
      "(array([1], dtype=int64),)\n",
      "(array([2, 3, 4], dtype=int64),)\n",
      "(array([0, 2, 4], dtype=int64),)\n",
      "[ 3 -1  3]\n"
     ]
    }
   ],
   "source": [
    "# funciones que podemos hacer en numpy exclusivamente (es decir, no podemos en listas, al menos de forma directa)\n",
    "\n",
    "# Funciones Aritmeticas\n",
    "array6 = np.array([1,2,3,4,5])\n",
    "array6 = array6 + 1\n",
    "print(array6)\n",
    "array6 = array6 - 1\n",
    "print(array6)\n",
    "array6 = array6 * 2\n",
    "print(array6)\n",
    "array6 = array6 // 2 \n",
    "print(array6)\n",
    "print()\n",
    "# Funciones Estadisticas\n",
    "media = array6.mean()\n",
    "print(\"Media = : \", media)\n",
    "mediana = np.median(array6)\n",
    "print(\"Mediana = : \", mediana)\n",
    "std = np.std(array6)\n",
    "print(\"Desviacion STD = : \", std)\n",
    "var = np.var(array6)\n",
    "print(\"Varianza = : \", var)\n",
    "maximo = np.max(array6)\n",
    "print(\"Maximo = : \", maximo)\n",
    "minimo = np.min(array6)\n",
    "print(\"Minimo = : \", minimo)\n",
    "# Algebra Lineal\n",
    "#--# producto de matrices\n",
    "mat1 = np.array([[1, 2], \n",
    "                 [3, 4]])\n",
    "\n",
    "mat2 = np.array([[5, 6], \n",
    "                 [7, 8]])\n",
    "\n",
    "print(np.matmul(mat1,mat2)) #puede multiplicar matrices de mas de dos dimensiones a diferencia de DOT\n",
    "print(np.dot(mat1,mat2))\n",
    "print(mat1 @ mat2)\n",
    "\n",
    "# Filtrado y busqueda\n",
    "# filtrado\n",
    "array6 = np.array([1,2,3,4,5])\n",
    "\n",
    "print(array6[array6>3])\n",
    "filtro = array6 > 3\n",
    "print(array6[filtro])\n",
    "\n",
    "print(np.unique(np.array([11,22,33,44,55,11,33,55])))\n",
    "\n",
    "print(array6)\n",
    "print(np.isin(array6, [1,3,5,7]))\n",
    "\n",
    "def es_impar(x):\n",
    "    return x % 2 != 0\n",
    "\n",
    "filtro = np.fromiter((es_impar(x) for x in array6), dtype=bool)\n",
    "print(array6[filtro])\n",
    "print(array6[np.fromiter((es_impar(x) for x in array6), dtype=bool)])\n",
    "# busqueda\n",
    "\n",
    "print(np.where(array6 == 2))\n",
    "print(np.where(array6 > 2))\n",
    "print(np.where(np.isin(array6, [1,3,5])))\n",
    "\n",
    "arreglo8 = np.array([\"hola\",\"como\",\"estas\"])\n",
    "print(np.char.find(arreglo8,\"a\"))"
   ]
  },
  {
   "cell_type": "code",
   "execution_count": 92,
   "metadata": {},
   "outputs": [
    {
     "name": "stdout",
     "output_type": "stream",
     "text": [
      "[1 2 3 4 5 6] Shape =  (6,)\n",
      "\n",
      "\n",
      "[[1]\n",
      " [2]\n",
      " [3]\n",
      " [4]\n",
      " [5]\n",
      " [6]] Shape =  (6, 1)\n",
      "Otra forma de hacer un arrar de (n,1)\n",
      "[[1]\n",
      " [2]\n",
      " [3]\n",
      " [4]\n",
      " [5]\n",
      " [6]] Shape =  (6, 1)\n",
      "\n",
      "\n",
      "[[1 2 3 4 5 6]] Shape =  (1, 6)\n"
     ]
    }
   ],
   "source": [
    "arreglon1 = np.array([1,2,3,4,5,6])\n",
    "print(arreglon1, \"Shape = \", arreglon1.shape)\n",
    "#una sola dimension de n ol 6 elementos en este caso\n",
    "\n",
    "print(\"\\n\")\n",
    "\n",
    "arreglon1 = np.array([[1,2,3,4,5,6]]).T\n",
    "print(arreglon1, \"Shape = \", arreglon1.shape)\n",
    "#dos dimensiones, una sola columna y 6 filas\n",
    "print(\"Otra forma de hacer un arrar de (n,1)\")\n",
    "arreglon1 = np.array([[1],[2],[3],[4],[5],[6]])\n",
    "print(arreglon1, \"Shape = \", arreglon1.shape)\n",
    "\n",
    "print(\"\\n\")\n",
    "\n",
    "arreglon1 = np.array([[1,2,3,4,5,6]])\n",
    "print(arreglon1, \"Shape = \", arreglon1.shape)\n",
    "#dos dimensiones, una fila y 6 columnas\n"
   ]
  },
  {
   "cell_type": "code",
   "execution_count": null,
   "metadata": {},
   "outputs": [],
   "source": []
  },
  {
   "attachments": {},
   "cell_type": "markdown",
   "metadata": {
    "id": "qr8d4_73CGqM"
   },
   "source": [
    "**Ejercicio 2**:\n",
    "* Escribir un arreglo con números enteros del 0 al 9. Pista: arange\n",
    "* Escribir un arreglo con 100 números equiespaciados del 0 al 9. Pista: linspace"
   ]
  },
  {
   "cell_type": "code",
   "execution_count": 33,
   "metadata": {},
   "outputs": [
    {
     "name": "stdout",
     "output_type": "stream",
     "text": [
      "[0 1 2 3 4 5 6 7 8 9]\n",
      "[0.         0.09090909 0.18181818 0.27272727 0.36363636 0.45454545\n",
      " 0.54545455 0.63636364 0.72727273 0.81818182 0.90909091 1.\n",
      " 1.09090909 1.18181818 1.27272727 1.36363636 1.45454545 1.54545455\n",
      " 1.63636364 1.72727273 1.81818182 1.90909091 2.         2.09090909\n",
      " 2.18181818 2.27272727 2.36363636 2.45454545 2.54545455 2.63636364\n",
      " 2.72727273 2.81818182 2.90909091 3.         3.09090909 3.18181818\n",
      " 3.27272727 3.36363636 3.45454545 3.54545455 3.63636364 3.72727273\n",
      " 3.81818182 3.90909091 4.         4.09090909 4.18181818 4.27272727\n",
      " 4.36363636 4.45454545 4.54545455 4.63636364 4.72727273 4.81818182\n",
      " 4.90909091 5.         5.09090909 5.18181818 5.27272727 5.36363636\n",
      " 5.45454545 5.54545455 5.63636364 5.72727273 5.81818182 5.90909091\n",
      " 6.         6.09090909 6.18181818 6.27272727 6.36363636 6.45454545\n",
      " 6.54545455 6.63636364 6.72727273 6.81818182 6.90909091 7.\n",
      " 7.09090909 7.18181818 7.27272727 7.36363636 7.45454545 7.54545455\n",
      " 7.63636364 7.72727273 7.81818182 7.90909091 8.         8.09090909\n",
      " 8.18181818 8.27272727 8.36363636 8.45454545 8.54545455 8.63636364\n",
      " 8.72727273 8.81818182 8.90909091 9.        ]\n"
     ]
    },
    {
     "data": {
      "image/png": "[encoded data removed]",
      "text/plain": [
       "<Figure size 640x480 with 1 Axes>"
      ]
     },
     "metadata": {},
     "output_type": "display_data"
    }
   ],
   "source": [
    "import numpy as np\n",
    "import matplotlib.pyplot as plt\n",
    "\n",
    "array1 = np.arange(10, dtype=int)\n",
    "print(array1)\n",
    "plt.plot(array1, linestyle=\"--\", linewidth=2, marker = \"o\", markersize=10, color=\"purple\")\n",
    "\n",
    "array2 = np.linspace(0,9,100)\n",
    "print(array2)\n",
    "plt.plot(array2, linestyle=\":\", linewidth=2, marker = \"o\", markersize=5, color=\"orange\")\n",
    "\n",
    "\n",
    "plt.show()\n",
    "\n"
   ]
  },
  {
   "attachments": {},
   "cell_type": "markdown",
   "metadata": {
    "id": "4udY-hwnCGqM"
   },
   "source": [
    "**Ejercicio 3**:\n",
    "* Escribir un arreglo con números enteros del 10 al 100 y seleccionar aquellos que son divisibles por 3<br>\n",
    "Pista: mask"
   ]
  },
  {
   "cell_type": "code",
   "execution_count": 34,
   "metadata": {},
   "outputs": [
    {
     "name": "stdout",
     "output_type": "stream",
     "text": [
      "[12 15 18 21 24 27 30 33 36 39 42 45 48 51 54 57 60 63 66 69 72 75 78 81\n",
      " 84 87 90 93 96 99]\n"
     ]
    },
    {
     "data": {
      "image/png": "[encoded data removed]",
      "text/plain": [
       "<Figure size 640x480 with 1 Axes>"
      ]
     },
     "metadata": {},
     "output_type": "display_data"
    }
   ],
   "source": [
    "array3 = np.arange(10,101)\n",
    "array4 = array3[(array3 % 3) == 0]\n",
    "print(array4)\n",
    "\n",
    "plt.title(\"Valores Divisibles Por 3\")\n",
    "plt.plot(array4, linestyle=\"-.\", linewidth=1, marker = \"o\", markersize=4, color=\"blue\")\n",
    "plt.show()"
   ]
  },
  {
   "attachments": {},
   "cell_type": "markdown",
   "metadata": {
    "id": "j7-ZHdHJCGqN"
   },
   "source": [
    "**Ejercicio 4**:\n",
    "* Crear un arreglo de ceros de `shape` (5,10).\n",
    "* Reemplazar la segunda y cuarta fila con unos\n",
    "* Reemplazar la tercera y octava columna con dos (2)."
   ]
  },
  {
   "cell_type": "code",
   "execution_count": 63,
   "metadata": {},
   "outputs": [
    {
     "name": "stdout",
     "output_type": "stream",
     "text": [
      "[[0 0 0 0 0 0 0 0 0 0]\n",
      " [0 0 0 0 0 0 0 0 0 0]\n",
      " [0 0 0 0 0 0 0 0 0 0]\n",
      " [0 0 0 0 0 0 0 0 0 0]\n",
      " [0 0 0 0 0 0 0 0 0 0]]\n"
     ]
    }
   ],
   "source": [
    "array5 = np.zeros((5,10), dtype=int)\n",
    "print(array5)"
   ]
  },
  {
   "cell_type": "code",
   "execution_count": 64,
   "metadata": {},
   "outputs": [
    {
     "name": "stdout",
     "output_type": "stream",
     "text": [
      "[[0 0 0 0 0 0 0 0 0 0]\n",
      " [1 1 1 1 1 1 1 1 1 1]\n",
      " [0 0 0 0 0 0 0 0 0 0]\n",
      " [1 1 1 1 1 1 1 1 1 1]\n",
      " [0 0 0 0 0 0 0 0 0 0]]\n"
     ]
    }
   ],
   "source": [
    "array5[[1,3],:] = 1\n",
    "# array5[[1,3],:] = np.ones(10,dtype=int)\n",
    "print(array5)"
   ]
  },
  {
   "cell_type": "code",
   "execution_count": 65,
   "metadata": {},
   "outputs": [
    {
     "name": "stdout",
     "output_type": "stream",
     "text": [
      "[[0 0 2 0 0 0 0 2 0 0]\n",
      " [1 1 2 1 1 1 1 2 1 1]\n",
      " [0 0 2 0 0 0 0 2 0 0]\n",
      " [1 1 2 1 1 1 1 2 1 1]\n",
      " [0 0 2 0 0 0 0 2 0 0]]\n"
     ]
    }
   ],
   "source": [
    "array5[:,[2,7]] = 2\n",
    "print(array5)"
   ]
  },
  {
   "attachments": {},
   "cell_type": "markdown",
   "metadata": {
    "id": "ePO74DirCGqN"
   },
   "source": [
    "**Ejercicio $\\infty$**:\n",
    "Hacer todos los ejercicios que puedan del siguiente link https://www.machinelearningplus.com/python/101-numpy-exercises-python/\n",
    "\n",
    "O de https://github.com/rougier/numpy-100"
   ]
  },
  {
   "attachments": {},
   "cell_type": "markdown",
   "metadata": {
    "id": "6-du4zVGCGqN"
   },
   "source": [
    "Para explorar las funciones de creación de datos aleatorios:\n",
    "https://numpy.org/doc/stable/reference/random/legacy.html"
   ]
  },
  {
   "attachments": {},
   "cell_type": "markdown",
   "metadata": {},
   "source": [
    "En Python, tanto en listas convencionales como en listas de tipo NumPy se pueden realizar las operaciones básicas de listas, como agregar elementos, eliminar elementos, acceder a elementos específicos y encontrar la longitud de la lista.\n",
    "\n",
    "Además, algunas operaciones que se pueden realizar tanto en listas convencionales como en listas de tipo NumPy son:\n",
    "\n",
    "Slicing: Ambas permiten seleccionar un subconjunto de elementos utilizando la sintaxis de \"slicing\" con índices.\n",
    "\n",
    "Concatenación: Las dos permiten unir dos listas utilizando el operador de concatenación \"+\".\n",
    "\n",
    "Búsqueda de valores: Ambas permiten buscar valores en la lista utilizando el operador \"in\" o la función \"index()\".\n",
    "\n",
    "Copia de listas: Las dos permiten copiar una lista utilizando el operador de asignación \"=\" o la función \"copy()\".\n",
    "\n",
    "Sin embargo, las listas de NumPy tienen la ventaja de que ofrecen una gran cantidad de operaciones matemáticas y estadísticas que no están disponibles en las listas convencionales. Algunas de estas operaciones son:\n",
    "\n",
    "Operaciones aritméticas: NumPy permite realizar operaciones aritméticas en todos los elementos de una lista al mismo tiempo, como suma, resta, multiplicación y división.\n",
    "\n",
    "Operaciones estadísticas: NumPy tiene funciones para calcular la media, la mediana, la desviación estándar, la varianza, el máximo y el mínimo de una lista.\n",
    "\n",
    "Operaciones de álgebra lineal: NumPy permite realizar operaciones de álgebra lineal, como la multiplicación de matrices y la resolución de sistemas de ecuaciones lineales.\n",
    "\n",
    "Operaciones de filtrado: NumPy tiene funciones para filtrar los elementos de una lista según ciertos criterios, como la eliminación de elementos duplicados o la selección de elementos mayores o menores que un cierto valor.\n",
    "\n",
    "En resumen, aunque las listas convencionales y las listas de NumPy tienen algunas operaciones comunes, las listas de NumPy ofrecen muchas más funcionalidades y herramientas para el procesamiento de datos numéricos y científicos en Python."
   ]
  }
 ],
 "metadata": {
  "colab": {
   "provenance": []
  },
  "kernelspec": {
   "display_name": "Python 3 (ipykernel)",
   "language": "python",
   "name": "python3"
  },
  "language_info": {
   "codemirror_mode": {
    "name": "ipython",
    "version": 3
   },
   "file_extension": ".py",
   "mimetype": "text/x-python",
   "name": "python",
   "nbconvert_exporter": "python",
   "pygments_lexer": "ipython3",
   "version": "3.11.3"
  }
 },
 "nbformat": 4,
 "nbformat_minor": 1
}
