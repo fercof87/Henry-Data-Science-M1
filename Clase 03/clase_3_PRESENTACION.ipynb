{
 "cells": [
  {
   "cell_type": "code",
   "execution_count": 1,
   "id": "7e2cd87c",
   "metadata": {},
   "outputs": [],
   "source": [
    "#!pip install numpy"
   ]
  },
  {
   "cell_type": "code",
   "execution_count": 5,
   "id": "f0e2c1b0",
   "metadata": {},
   "outputs": [],
   "source": [
    "import numpy as np"
   ]
  },
  {
   "cell_type": "code",
   "execution_count": 21,
   "id": "4e6fadc1",
   "metadata": {},
   "outputs": [],
   "source": [
    "lista_1 = [1, 2.0, 3, 4]"
   ]
  },
  {
   "cell_type": "code",
   "execution_count": 22,
   "id": "d8728b72",
   "metadata": {},
   "outputs": [
    {
     "data": {
      "text/plain": [
       "[1, 2.0, 3, 4]"
      ]
     },
     "execution_count": 22,
     "metadata": {},
     "output_type": "execute_result"
    }
   ],
   "source": [
    "lista_1"
   ]
  },
  {
   "cell_type": "code",
   "execution_count": 20,
   "id": "06ea16b6",
   "metadata": {},
   "outputs": [
    {
     "data": {
      "text/plain": [
       "float"
      ]
     },
     "execution_count": 20,
     "metadata": {},
     "output_type": "execute_result"
    }
   ],
   "source": [
    "type(lista_1[1])"
   ]
  },
  {
   "cell_type": "code",
   "execution_count": 18,
   "id": "a051f73a",
   "metadata": {},
   "outputs": [
    {
     "data": {
      "text/plain": [
       "list"
      ]
     },
     "execution_count": 18,
     "metadata": {},
     "output_type": "execute_result"
    }
   ],
   "source": [
    "type(lista_1)"
   ]
  },
  {
   "cell_type": "code",
   "execution_count": null,
   "id": "ff06773d",
   "metadata": {},
   "outputs": [],
   "source": []
  },
  {
   "cell_type": "code",
   "execution_count": 34,
   "id": "bcceacb3",
   "metadata": {},
   "outputs": [],
   "source": [
    "lista_np = np.array([1, 2, 3, 4])"
   ]
  },
  {
   "cell_type": "code",
   "execution_count": 35,
   "id": "7b303e46",
   "metadata": {},
   "outputs": [
    {
     "name": "stdout",
     "output_type": "stream",
     "text": [
      "[1 2 3 4]\n"
     ]
    }
   ],
   "source": [
    "print(lista_np)"
   ]
  },
  {
   "cell_type": "code",
   "execution_count": 36,
   "id": "9b92fce3",
   "metadata": {},
   "outputs": [
    {
     "data": {
      "text/plain": [
       "numpy.ndarray"
      ]
     },
     "execution_count": 36,
     "metadata": {},
     "output_type": "execute_result"
    }
   ],
   "source": [
    "type(lista_np)"
   ]
  },
  {
   "cell_type": "code",
   "execution_count": 37,
   "id": "060a99ab",
   "metadata": {},
   "outputs": [
    {
     "data": {
      "text/plain": [
       "dtype('int32')"
      ]
     },
     "execution_count": 37,
     "metadata": {},
     "output_type": "execute_result"
    }
   ],
   "source": [
    "lista_np.dtype"
   ]
  },
  {
   "cell_type": "code",
   "execution_count": 38,
   "id": "2101b4ff",
   "metadata": {},
   "outputs": [
    {
     "data": {
      "text/plain": [
       "array([ 3,  7,  9, 10])"
      ]
     },
     "execution_count": 38,
     "metadata": {},
     "output_type": "execute_result"
    }
   ],
   "source": [
    "np.array([3, 7, 9, 10])"
   ]
  },
  {
   "cell_type": "code",
   "execution_count": 46,
   "id": "6f9a6ec9",
   "metadata": {},
   "outputs": [
    {
     "data": {
      "text/plain": [
       "array([10, 20, 30, 40, 50, 60, 70, 80, 90])"
      ]
     },
     "execution_count": 46,
     "metadata": {},
     "output_type": "execute_result"
    }
   ],
   "source": [
    "np.arange(10, 100, 10)"
   ]
  },
  {
   "cell_type": "code",
   "execution_count": 50,
   "id": "810819a7",
   "metadata": {},
   "outputs": [],
   "source": [
    "lista_2 = np.arange(1, 10)"
   ]
  },
  {
   "cell_type": "code",
   "execution_count": 59,
   "id": "142ccf95",
   "metadata": {},
   "outputs": [
    {
     "name": "stdout",
     "output_type": "stream",
     "text": [
      "[1 2 3 4 5 6 7 8 9]\n"
     ]
    }
   ],
   "source": [
    "print(lista_2)"
   ]
  },
  {
   "cell_type": "code",
   "execution_count": 57,
   "id": "852efae7",
   "metadata": {},
   "outputs": [
    {
     "data": {
      "text/plain": [
       "array([4, 5])"
      ]
     },
     "execution_count": 57,
     "metadata": {},
     "output_type": "execute_result"
    }
   ],
   "source": [
    "lista_2[3:5]"
   ]
  },
  {
   "cell_type": "code",
   "execution_count": 67,
   "id": "e979d423",
   "metadata": {},
   "outputs": [
    {
     "name": "stdout",
     "output_type": "stream",
     "text": [
      "[[1 2 3]\n",
      " [4 5 6]\n",
      " [7 8 9]]\n"
     ]
    }
   ],
   "source": [
    "print(lista_2.reshape(3, 3))"
   ]
  },
  {
   "cell_type": "code",
   "execution_count": 68,
   "id": "0815fd2e",
   "metadata": {},
   "outputs": [],
   "source": [
    "tensor_1 = np.arange(1, 13)"
   ]
  },
  {
   "cell_type": "code",
   "execution_count": 69,
   "id": "0a048ff1",
   "metadata": {},
   "outputs": [
    {
     "data": {
      "text/plain": [
       "array([ 1,  2,  3,  4,  5,  6,  7,  8,  9, 10, 11, 12])"
      ]
     },
     "execution_count": 69,
     "metadata": {},
     "output_type": "execute_result"
    }
   ],
   "source": [
    "tensor_1"
   ]
  },
  {
   "cell_type": "code",
   "execution_count": 70,
   "id": "4492ce02",
   "metadata": {},
   "outputs": [
    {
     "data": {
      "text/plain": [
       "array([[ 1,  2,  3,  4],\n",
       "       [ 5,  6,  7,  8],\n",
       "       [ 9, 10, 11, 12]])"
      ]
     },
     "execution_count": 70,
     "metadata": {},
     "output_type": "execute_result"
    }
   ],
   "source": [
    "tensor_1.reshape(3, 4)"
   ]
  },
  {
   "cell_type": "code",
   "execution_count": 71,
   "id": "1a6950fb",
   "metadata": {},
   "outputs": [
    {
     "data": {
      "text/plain": [
       "array([[ 1,  2,  3,  4,  5,  6],\n",
       "       [ 7,  8,  9, 10, 11, 12]])"
      ]
     },
     "execution_count": 71,
     "metadata": {},
     "output_type": "execute_result"
    }
   ],
   "source": [
    "tensor_1.reshape(2, 6)"
   ]
  },
  {
   "cell_type": "code",
   "execution_count": 72,
   "id": "f478acfb",
   "metadata": {},
   "outputs": [
    {
     "data": {
      "text/plain": [
       "array([[[ 1,  2],\n",
       "        [ 3,  4]],\n",
       "\n",
       "       [[ 5,  6],\n",
       "        [ 7,  8]],\n",
       "\n",
       "       [[ 9, 10],\n",
       "        [11, 12]]])"
      ]
     },
     "execution_count": 72,
     "metadata": {},
     "output_type": "execute_result"
    }
   ],
   "source": [
    "tensor_1.reshape(3, 2, 2)"
   ]
  },
  {
   "cell_type": "code",
   "execution_count": 73,
   "id": "7b444ef7",
   "metadata": {},
   "outputs": [],
   "source": [
    "lista_python = [1, 2, 3, 4, 5]"
   ]
  },
  {
   "cell_type": "code",
   "execution_count": 74,
   "id": "15067c69",
   "metadata": {},
   "outputs": [
    {
     "data": {
      "text/plain": [
       "list"
      ]
     },
     "execution_count": 74,
     "metadata": {},
     "output_type": "execute_result"
    }
   ],
   "source": [
    "type(lista_python)"
   ]
  },
  {
   "cell_type": "code",
   "execution_count": 76,
   "id": "76555e76",
   "metadata": {},
   "outputs": [
    {
     "data": {
      "text/plain": [
       "numpy.ndarray"
      ]
     },
     "execution_count": 76,
     "metadata": {},
     "output_type": "execute_result"
    }
   ],
   "source": [
    "type(np.array(lista_python))"
   ]
  },
  {
   "cell_type": "code",
   "execution_count": 79,
   "id": "bb3555c0",
   "metadata": {},
   "outputs": [],
   "source": [
    "intervalos = np.linspace(10, 15, 20)"
   ]
  },
  {
   "cell_type": "code",
   "execution_count": 78,
   "id": "4982bfa0",
   "metadata": {},
   "outputs": [],
   "source": [
    "import matplotlib.pyplot as plt"
   ]
  },
  {
   "cell_type": "code",
   "execution_count": 81,
   "id": "16a82d6b",
   "metadata": {},
   "outputs": [
    {
     "data": {
      "text/plain": [
       "[<matplotlib.lines.Line2D at 0x1b1ad731070>]"
      ]
     },
     "execution_count": 81,
     "metadata": {},
     "output_type": "execute_result"
    },
    {
     "data": {
      "image/png": "[encoded data removed]",
      "text/plain": [
       "<Figure size 640x480 with 1 Axes>"
      ]
     },
     "metadata": {},
     "output_type": "display_data"
    }
   ],
   "source": [
    "plt.plot(intervalos, '+')"
   ]
  },
  {
   "cell_type": "code",
   "execution_count": 96,
   "id": "fe301041",
   "metadata": {},
   "outputs": [
    {
     "data": {
      "text/plain": [
       "array([[0., 0., 0.],\n",
       "       [0., 0., 0.]])"
      ]
     },
     "execution_count": 96,
     "metadata": {},
     "output_type": "execute_result"
    }
   ],
   "source": [
    "np.zeros(6).reshape(2,3)"
   ]
  },
  {
   "cell_type": "code",
   "execution_count": 86,
   "id": "5334560e",
   "metadata": {},
   "outputs": [
    {
     "data": {
      "text/plain": [
       "array([[1., 1.],\n",
       "       [1., 1.],\n",
       "       [1., 1.]])"
      ]
     },
     "execution_count": 86,
     "metadata": {},
     "output_type": "execute_result"
    }
   ],
   "source": [
    "np.ones(6).reshape(3,2)"
   ]
  },
  {
   "cell_type": "code",
   "execution_count": 91,
   "id": "6d4f55b9",
   "metadata": {},
   "outputs": [
    {
     "data": {
      "text/plain": [
       "array([[nan, nan],\n",
       "       [nan, nan],\n",
       "       [nan, nan]])"
      ]
     },
     "execution_count": 91,
     "metadata": {},
     "output_type": "execute_result"
    }
   ],
   "source": [
    "np.full(shape=(3, 2), fill_value=np.nan)"
   ]
  },
  {
   "cell_type": "code",
   "execution_count": 93,
   "id": "9bb334c1",
   "metadata": {},
   "outputs": [
    {
     "data": {
      "text/plain": [
       "NoneType"
      ]
     },
     "execution_count": 93,
     "metadata": {},
     "output_type": "execute_result"
    }
   ],
   "source": [
    "type(None)"
   ]
  },
  {
   "cell_type": "code",
   "execution_count": 94,
   "id": "d01f0a7d",
   "metadata": {},
   "outputs": [
    {
     "data": {
      "text/plain": [
       "float"
      ]
     },
     "execution_count": 94,
     "metadata": {},
     "output_type": "execute_result"
    }
   ],
   "source": [
    "type(np.nan)"
   ]
  },
  {
   "cell_type": "code",
   "execution_count": 97,
   "id": "08462eec",
   "metadata": {},
   "outputs": [
    {
     "data": {
      "text/plain": [
       "array([[0.05453965, 0.325243  ],\n",
       "       [0.12882926, 0.67287235]])"
      ]
     },
     "execution_count": 97,
     "metadata": {},
     "output_type": "execute_result"
    }
   ],
   "source": [
    "np.random.rand(2,2)"
   ]
  },
  {
   "cell_type": "code",
   "execution_count": 107,
   "id": "b3d256e6",
   "metadata": {},
   "outputs": [],
   "source": [
    "uniforme = np.random.uniform(low=0, high=1, size=1000)"
   ]
  },
  {
   "cell_type": "code",
   "execution_count": 108,
   "id": "9b325a2f",
   "metadata": {},
   "outputs": [
    {
     "data": {
      "text/plain": [
       "(array([ 9.,  9., 15., 11., 11.,  7., 12., 13., 10., 11.,  3.,  7., 10.,\n",
       "        11.,  4.,  5., 11., 10., 11.,  9., 11.,  9., 12.,  9., 18., 17.,\n",
       "         4.,  9., 10., 19.,  5., 13.,  5., 11.,  8., 11.,  8., 10.,  7.,\n",
       "        18., 13., 12., 10.,  9., 10., 13., 13., 12., 10., 11.,  4., 12.,\n",
       "         8., 10.,  5.,  9., 11., 14.,  4.,  8.,  7., 11.,  5., 18.,  6.,\n",
       "        12.,  7.,  4., 11.,  9.,  7.,  9., 12.,  9., 10., 11., 10., 15.,\n",
       "         4., 14.,  9., 12.,  7., 10.,  6., 11., 11., 16.,  8., 11.,  1.,\n",
       "        12., 14., 16.,  9., 21.,  5., 12.,  8.,  9.]),\n",
       " array([7.53988376e-04, 1.07452454e-02, 2.07365024e-02, 3.07277595e-02,\n",
       "        4.07190165e-02, 5.07102735e-02, 6.07015306e-02, 7.06927876e-02,\n",
       "        8.06840446e-02, 9.06753017e-02, 1.00666559e-01, 1.10657816e-01,\n",
       "        1.20649073e-01, 1.30640330e-01, 1.40631587e-01, 1.50622844e-01,\n",
       "        1.60614101e-01, 1.70605358e-01, 1.80596615e-01, 1.90587872e-01,\n",
       "        2.00579129e-01, 2.10570386e-01, 2.20561643e-01, 2.30552900e-01,\n",
       "        2.40544157e-01, 2.50535414e-01, 2.60526671e-01, 2.70517928e-01,\n",
       "        2.80509185e-01, 2.90500442e-01, 3.00491699e-01, 3.10482956e-01,\n",
       "        3.20474213e-01, 3.30465470e-01, 3.40456727e-01, 3.50447984e-01,\n",
       "        3.60439241e-01, 3.70430499e-01, 3.80421756e-01, 3.90413013e-01,\n",
       "        4.00404270e-01, 4.10395527e-01, 4.20386784e-01, 4.30378041e-01,\n",
       "        4.40369298e-01, 4.50360555e-01, 4.60351812e-01, 4.70343069e-01,\n",
       "        4.80334326e-01, 4.90325583e-01, 5.00316840e-01, 5.10308097e-01,\n",
       "        5.20299354e-01, 5.30290611e-01, 5.40281868e-01, 5.50273125e-01,\n",
       "        5.60264382e-01, 5.70255639e-01, 5.80246896e-01, 5.90238153e-01,\n",
       "        6.00229410e-01, 6.10220667e-01, 6.20211924e-01, 6.30203181e-01,\n",
       "        6.40194438e-01, 6.50185695e-01, 6.60176952e-01, 6.70168209e-01,\n",
       "        6.80159466e-01, 6.90150723e-01, 7.00141981e-01, 7.10133238e-01,\n",
       "        7.20124495e-01, 7.30115752e-01, 7.40107009e-01, 7.50098266e-01,\n",
       "        7.60089523e-01, 7.70080780e-01, 7.80072037e-01, 7.90063294e-01,\n",
       "        8.00054551e-01, 8.10045808e-01, 8.20037065e-01, 8.30028322e-01,\n",
       "        8.40019579e-01, 8.50010836e-01, 8.60002093e-01, 8.69993350e-01,\n",
       "        8.79984607e-01, 8.89975864e-01, 8.99967121e-01, 9.09958378e-01,\n",
       "        9.19949635e-01, 9.29940892e-01, 9.39932149e-01, 9.49923406e-01,\n",
       "        9.59914663e-01, 9.69905920e-01, 9.79897177e-01, 9.89888434e-01,\n",
       "        9.99879691e-01]),\n",
       " <BarContainer object of 100 artists>)"
      ]
     },
     "execution_count": 108,
     "metadata": {},
     "output_type": "execute_result"
    },
    {
     "data": {
      "image/png": "[encoded data removed]",
      "text/plain": [
       "<Figure size 640x480 with 1 Axes>"
      ]
     },
     "metadata": {},
     "output_type": "display_data"
    }
   ],
   "source": [
    "plt.hist(uniforme, bins=100, rwidth=0.85)"
   ]
  },
  {
   "cell_type": "code",
   "execution_count": 116,
   "id": "21bfb27e",
   "metadata": {},
   "outputs": [
    {
     "data": {
      "text/plain": [
       "array([[38, 69],\n",
       "       [28, 56],\n",
       "       [79, 87]])"
      ]
     },
     "execution_count": 116,
     "metadata": {},
     "output_type": "execute_result"
    }
   ],
   "source": [
    "np.random.randint(low=1,high=100,size=(3,2))"
   ]
  },
  {
   "cell_type": "code",
   "execution_count": 122,
   "id": "7742c2c1",
   "metadata": {},
   "outputs": [],
   "source": [
    "normal = np.random.randn(1000)"
   ]
  },
  {
   "cell_type": "code",
   "execution_count": 123,
   "id": "ac835c89",
   "metadata": {},
   "outputs": [
    {
     "data": {
      "text/plain": [
       "(array([ 1.,  0.,  1.,  0.,  0.,  1.,  0.,  3.,  3.,  1.,  4.,  3.,  4.,\n",
       "         2.,  6.,  3.,  2.,  5.,  2.,  8.,  4.,  8., 10.,  7., 13.,  7.,\n",
       "         9., 12., 12., 15., 16., 13., 14., 20., 20., 24., 14., 13., 17.,\n",
       "        19., 19., 26., 20., 31., 20., 26., 20., 39., 25., 24., 22., 32.,\n",
       "        26., 17., 21., 28., 31., 19., 23., 15., 22., 19., 10., 15., 13.,\n",
       "        14., 10., 10.,  8.,  7.,  7.,  9.,  4.,  5.,  4.,  7.,  2.,  4.,\n",
       "         2.,  2.,  3.,  3.,  1.,  2.,  3.,  5.,  2.,  1.,  1.,  1.,  0.,\n",
       "         0.,  2.,  0.,  0.,  1.,  0.,  0.,  0.,  1.]),\n",
       " array([-2.94931388, -2.88684724, -2.82438061, -2.76191398, -2.69944735,\n",
       "        -2.63698071, -2.57451408, -2.51204745, -2.44958082, -2.38711418,\n",
       "        -2.32464755, -2.26218092, -2.19971429, -2.13724765, -2.07478102,\n",
       "        -2.01231439, -1.94984776, -1.88738112, -1.82491449, -1.76244786,\n",
       "        -1.69998123, -1.63751459, -1.57504796, -1.51258133, -1.4501147 ,\n",
       "        -1.38764806, -1.32518143, -1.2627148 , -1.20024817, -1.13778153,\n",
       "        -1.0753149 , -1.01284827, -0.95038164, -0.887915  , -0.82544837,\n",
       "        -0.76298174, -0.70051511, -0.63804847, -0.57558184, -0.51311521,\n",
       "        -0.45064858, -0.38818194, -0.32571531, -0.26324868, -0.20078205,\n",
       "        -0.13831541, -0.07584878, -0.01338215,  0.04908448,  0.11155112,\n",
       "         0.17401775,  0.23648438,  0.29895101,  0.36141765,  0.42388428,\n",
       "         0.48635091,  0.54881754,  0.61128418,  0.67375081,  0.73621744,\n",
       "         0.79868407,  0.86115071,  0.92361734,  0.98608397,  1.0485506 ,\n",
       "         1.11101724,  1.17348387,  1.2359505 ,  1.29841713,  1.36088377,\n",
       "         1.4233504 ,  1.48581703,  1.54828366,  1.6107503 ,  1.67321693,\n",
       "         1.73568356,  1.79815019,  1.86061683,  1.92308346,  1.98555009,\n",
       "         2.04801672,  2.11048336,  2.17294999,  2.23541662,  2.29788325,\n",
       "         2.36034989,  2.42281652,  2.48528315,  2.54774978,  2.61021642,\n",
       "         2.67268305,  2.73514968,  2.79761631,  2.86008295,  2.92254958,\n",
       "         2.98501621,  3.04748284,  3.10994948,  3.17241611,  3.23488274,\n",
       "         3.29734937]),\n",
       " <BarContainer object of 100 artists>)"
      ]
     },
     "execution_count": 123,
     "metadata": {},
     "output_type": "execute_result"
    },
    {
     "data": {
      "image/png": "[encoded data removed]",
      "text/plain": [
       "<Figure size 640x480 with 1 Axes>"
      ]
     },
     "metadata": {},
     "output_type": "display_data"
    }
   ],
   "source": [
    "plt.hist(normal, bins=100)"
   ]
  },
  {
   "cell_type": "code",
   "execution_count": 125,
   "id": "4f5b6a6d",
   "metadata": {},
   "outputs": [],
   "source": [
    "matriz_1 = np.array([[1,2,3], [4, 5, 6]])"
   ]
  },
  {
   "cell_type": "code",
   "execution_count": 129,
   "id": "08cdbf49",
   "metadata": {},
   "outputs": [
    {
     "data": {
      "text/plain": [
       "array([1, 2, 3, 4, 5, 6])"
      ]
     },
     "execution_count": 129,
     "metadata": {},
     "output_type": "execute_result"
    }
   ],
   "source": [
    "matriz_1.flatten()"
   ]
  },
  {
   "cell_type": "code",
   "execution_count": 145,
   "id": "ab936cd3",
   "metadata": {},
   "outputs": [],
   "source": [
    "lista_5 = [1, 2, 3]\n",
    "lista_6 = [4, 5, 6]"
   ]
  },
  {
   "cell_type": "code",
   "execution_count": 146,
   "id": "737772bd",
   "metadata": {},
   "outputs": [
    {
     "data": {
      "text/plain": [
       "[1, 2, 3, 4, 5, 6]"
      ]
     },
     "execution_count": 146,
     "metadata": {},
     "output_type": "execute_result"
    }
   ],
   "source": [
    "lista_5 + lista_6"
   ]
  },
  {
   "cell_type": "code",
   "execution_count": 147,
   "id": "359c33a4",
   "metadata": {},
   "outputs": [],
   "source": [
    "lista_5_np = np.array(lista_5)"
   ]
  },
  {
   "cell_type": "code",
   "execution_count": 148,
   "id": "a86df012",
   "metadata": {},
   "outputs": [],
   "source": [
    "lista_6_np = np.array(lista_6)"
   ]
  },
  {
   "cell_type": "code",
   "execution_count": 149,
   "id": "5a14ceb4",
   "metadata": {},
   "outputs": [
    {
     "data": {
      "text/plain": [
       "array([5, 7, 9])"
      ]
     },
     "execution_count": 149,
     "metadata": {},
     "output_type": "execute_result"
    }
   ],
   "source": [
    "lista_5_np + lista_6_np"
   ]
  },
  {
   "cell_type": "code",
   "execution_count": 151,
   "id": "57d98b9d",
   "metadata": {},
   "outputs": [
    {
     "data": {
      "text/plain": [
       "array([12, 15, 18])"
      ]
     },
     "execution_count": 151,
     "metadata": {},
     "output_type": "execute_result"
    }
   ],
   "source": [
    "lista_6_np * 3"
   ]
  },
  {
   "cell_type": "code",
   "execution_count": 153,
   "id": "218d4b20",
   "metadata": {},
   "outputs": [],
   "source": [
    "matriz_1 = np.random.rand(2,3)"
   ]
  },
  {
   "cell_type": "code",
   "execution_count": 154,
   "id": "1144f7ab",
   "metadata": {},
   "outputs": [],
   "source": [
    "matriz_2 = np.random.rand(2,3)"
   ]
  },
  {
   "cell_type": "code",
   "execution_count": 155,
   "id": "ab371dfc",
   "metadata": {},
   "outputs": [
    {
     "data": {
      "text/plain": [
       "array([[0.98993086, 0.86110067, 0.51278693],\n",
       "       [0.68323952, 0.19239192, 0.67784614]])"
      ]
     },
     "execution_count": 155,
     "metadata": {},
     "output_type": "execute_result"
    }
   ],
   "source": [
    "matriz_1 + matriz_2"
   ]
  },
  {
   "cell_type": "code",
   "execution_count": 156,
   "id": "99de69b2",
   "metadata": {},
   "outputs": [],
   "source": [
    "mat_1 = np.array([[2,3], [2,3], [2,3]])\n",
    "\n",
    "mat_2 = np.array([[1,6,5,2,7], [1,2,7,0,9]])"
   ]
  },
  {
   "cell_type": "code",
   "execution_count": 157,
   "id": "51c5ba70",
   "metadata": {},
   "outputs": [
    {
     "data": {
      "text/plain": [
       "array([[ 5, 18, 31,  4, 41],\n",
       "       [ 5, 18, 31,  4, 41],\n",
       "       [ 5, 18, 31,  4, 41]])"
      ]
     },
     "execution_count": 157,
     "metadata": {},
     "output_type": "execute_result"
    }
   ],
   "source": [
    "np.matmul(mat_1, mat_2)"
   ]
  },
  {
   "cell_type": "code",
   "execution_count": 158,
   "id": "63385f2d",
   "metadata": {},
   "outputs": [
    {
     "ename": "ValueError",
     "evalue": "matmul: Input operand 1 has a mismatch in its core dimension 0, with gufunc signature (n?,k),(k,m?)->(n?,m?) (size 3 is different from 5)",
     "output_type": "error",
     "traceback": [
      "\u001b[1;31m---------------------------------------------------------------------------\u001b[0m",
      "\u001b[1;31mValueError\u001b[0m                                Traceback (most recent call last)",
      "\u001b[1;32m~\\AppData\\Local\\Temp\\ipykernel_3240\\2926777037.py\u001b[0m in \u001b[0;36m<module>\u001b[1;34m\u001b[0m\n\u001b[1;32m----> 1\u001b[1;33m \u001b[0mnp\u001b[0m\u001b[1;33m.\u001b[0m\u001b[0mmatmul\u001b[0m\u001b[1;33m(\u001b[0m\u001b[0mmat_2\u001b[0m\u001b[1;33m,\u001b[0m \u001b[0mmat_1\u001b[0m\u001b[1;33m)\u001b[0m\u001b[1;33m\u001b[0m\u001b[1;33m\u001b[0m\u001b[0m\n\u001b[0m",
      "\u001b[1;31mValueError\u001b[0m: matmul: Input operand 1 has a mismatch in its core dimension 0, with gufunc signature (n?,k),(k,m?)->(n?,m?) (size 3 is different from 5)"
     ]
    }
   ],
   "source": [
    "np.matmul(mat_2, mat_1)"
   ]
  },
  {
   "cell_type": "code",
   "execution_count": 160,
   "id": "785ce9ea",
   "metadata": {},
   "outputs": [],
   "source": [
    "arr = np.array([[1,2,3]])"
   ]
  },
  {
   "cell_type": "code",
   "execution_count": 161,
   "id": "4f31ca94",
   "metadata": {},
   "outputs": [
    {
     "data": {
      "text/plain": [
       "numpy.ndarray"
      ]
     },
     "execution_count": 161,
     "metadata": {},
     "output_type": "execute_result"
    }
   ],
   "source": [
    "type(arr)"
   ]
  },
  {
   "cell_type": "code",
   "execution_count": 164,
   "id": "41a6724a",
   "metadata": {},
   "outputs": [],
   "source": [
    "mat = np.mat([[1,2,3],[4,5,6]])"
   ]
  },
  {
   "cell_type": "code",
   "execution_count": 165,
   "id": "ea39fa2b",
   "metadata": {},
   "outputs": [
    {
     "data": {
      "text/plain": [
       "numpy.matrix"
      ]
     },
     "execution_count": 165,
     "metadata": {},
     "output_type": "execute_result"
    }
   ],
   "source": [
    "type(mat)"
   ]
  },
  {
   "cell_type": "code",
   "execution_count": 166,
   "id": "cc1e867b",
   "metadata": {},
   "outputs": [
    {
     "data": {
      "text/plain": [
       "matrix([[1, 2, 3],\n",
       "        [4, 5, 6]])"
      ]
     },
     "execution_count": 166,
     "metadata": {},
     "output_type": "execute_result"
    }
   ],
   "source": [
    "mat"
   ]
  },
  {
   "cell_type": "code",
   "execution_count": 167,
   "id": "5548188b",
   "metadata": {},
   "outputs": [
    {
     "data": {
      "text/plain": [
       "matrix([[1, 4],\n",
       "        [2, 5],\n",
       "        [3, 6]])"
      ]
     },
     "execution_count": 167,
     "metadata": {},
     "output_type": "execute_result"
    }
   ],
   "source": [
    "mat.T"
   ]
  },
  {
   "cell_type": "code",
   "execution_count": 168,
   "id": "4e014a67",
   "metadata": {},
   "outputs": [
    {
     "data": {
      "text/plain": [
       "matrix([[-0.94444444,  0.44444444],\n",
       "        [-0.11111111,  0.11111111],\n",
       "        [ 0.72222222, -0.22222222]])"
      ]
     },
     "execution_count": 168,
     "metadata": {},
     "output_type": "execute_result"
    }
   ],
   "source": [
    "mat.I"
   ]
  },
  {
   "cell_type": "code",
   "execution_count": 179,
   "id": "5789136f",
   "metadata": {},
   "outputs": [],
   "source": [
    "x = np.mat(np.arange(20).reshape((5,4)))"
   ]
  },
  {
   "cell_type": "code",
   "execution_count": 180,
   "id": "d2e182e0",
   "metadata": {},
   "outputs": [
    {
     "data": {
      "text/plain": [
       "matrix([[ 0,  1,  2,  3],\n",
       "        [ 4,  5,  6,  7],\n",
       "        [ 8,  9, 10, 11],\n",
       "        [12, 13, 14, 15],\n",
       "        [16, 17, 18, 19]])"
      ]
     },
     "execution_count": 180,
     "metadata": {},
     "output_type": "execute_result"
    }
   ],
   "source": [
    "x"
   ]
  },
  {
   "cell_type": "code",
   "execution_count": 181,
   "id": "18b800e9",
   "metadata": {},
   "outputs": [],
   "source": [
    "z = x-1j*x"
   ]
  },
  {
   "cell_type": "code",
   "execution_count": 182,
   "id": "b5695da4",
   "metadata": {},
   "outputs": [
    {
     "data": {
      "text/plain": [
       "matrix([[ 0. +0.j,  1. -1.j,  2. -2.j,  3. -3.j],\n",
       "        [ 4. -4.j,  5. -5.j,  6. -6.j,  7. -7.j],\n",
       "        [ 8. -8.j,  9. -9.j, 10.-10.j, 11.-11.j],\n",
       "        [12.-12.j, 13.-13.j, 14.-14.j, 15.-15.j],\n",
       "        [16.-16.j, 17.-17.j, 18.-18.j, 19.-19.j]])"
      ]
     },
     "execution_count": 182,
     "metadata": {},
     "output_type": "execute_result"
    }
   ],
   "source": [
    "z"
   ]
  },
  {
   "cell_type": "code",
   "execution_count": 183,
   "id": "487abd91",
   "metadata": {},
   "outputs": [
    {
     "data": {
      "text/plain": [
       "matrix([[ 0. -0.j,  4. +4.j,  8. +8.j, 12.+12.j, 16.+16.j],\n",
       "        [ 1. +1.j,  5. +5.j,  9. +9.j, 13.+13.j, 17.+17.j],\n",
       "        [ 2. +2.j,  6. +6.j, 10.+10.j, 14.+14.j, 18.+18.j],\n",
       "        [ 3. +3.j,  7. +7.j, 11.+11.j, 15.+15.j, 19.+19.j]])"
      ]
     },
     "execution_count": 183,
     "metadata": {},
     "output_type": "execute_result"
    }
   ],
   "source": [
    "z.H"
   ]
  },
  {
   "cell_type": "code",
   "execution_count": 184,
   "id": "eb9efdde",
   "metadata": {},
   "outputs": [],
   "source": [
    "mat_1 = np.mat([[1,2],[0,9]])"
   ]
  },
  {
   "cell_type": "code",
   "execution_count": 185,
   "id": "524af486",
   "metadata": {},
   "outputs": [
    {
     "data": {
      "text/plain": [
       "matrix([[1., 0.],\n",
       "        [0., 1.]])"
      ]
     },
     "execution_count": 185,
     "metadata": {},
     "output_type": "execute_result"
    }
   ],
   "source": [
    "np.matmul(mat_1, mat_1.I)"
   ]
  },
  {
   "cell_type": "code",
   "execution_count": 187,
   "id": "a6b911e8",
   "metadata": {},
   "outputs": [
    {
     "data": {
      "text/plain": [
       "9.000000000000002"
      ]
     },
     "execution_count": 187,
     "metadata": {},
     "output_type": "execute_result"
    }
   ],
   "source": [
    "np.linalg.det(mat_1)"
   ]
  },
  {
   "cell_type": "code",
   "execution_count": 188,
   "id": "e4e15ed7",
   "metadata": {},
   "outputs": [],
   "source": [
    "lista_ = np.random.randint(50, 80, 30)"
   ]
  },
  {
   "cell_type": "code",
   "execution_count": 189,
   "id": "becfc202",
   "metadata": {},
   "outputs": [
    {
     "data": {
      "text/plain": [
       "array([54, 76, 65, 70, 54, 74, 52, 79, 74, 62, 59, 67, 66, 55, 79, 76, 74,\n",
       "       62, 51, 60, 62, 55, 54, 54, 66, 75, 51, 62, 61, 75])"
      ]
     },
     "execution_count": 189,
     "metadata": {},
     "output_type": "execute_result"
    }
   ],
   "source": [
    "lista_"
   ]
  },
  {
   "cell_type": "code",
   "execution_count": 190,
   "id": "74bd5818",
   "metadata": {},
   "outputs": [
    {
     "data": {
      "text/plain": [
       "64.13333333333334"
      ]
     },
     "execution_count": 190,
     "metadata": {},
     "output_type": "execute_result"
    }
   ],
   "source": [
    "np.mean(lista_)"
   ]
  },
  {
   "cell_type": "code",
   "execution_count": 191,
   "id": "417d87e3",
   "metadata": {},
   "outputs": [
    {
     "data": {
      "text/plain": [
       "62.0"
      ]
     },
     "execution_count": 191,
     "metadata": {},
     "output_type": "execute_result"
    }
   ],
   "source": [
    "np.median(lista_)"
   ]
  },
  {
   "cell_type": "code",
   "execution_count": 192,
   "id": "18e9eb79",
   "metadata": {},
   "outputs": [
    {
     "data": {
      "text/plain": [
       "9.0249038160464"
      ]
     },
     "execution_count": 192,
     "metadata": {},
     "output_type": "execute_result"
    }
   ],
   "source": [
    "np.std(lista_)"
   ]
  },
  {
   "cell_type": "code",
   "execution_count": 193,
   "id": "f36784d2",
   "metadata": {},
   "outputs": [
    {
     "data": {
      "text/plain": [
       "76.0"
      ]
     },
     "execution_count": 193,
     "metadata": {},
     "output_type": "execute_result"
    }
   ],
   "source": [
    "np.percentile(lista_, 90)"
   ]
  },
  {
   "cell_type": "code",
   "execution_count": 194,
   "id": "a0f29d69",
   "metadata": {},
   "outputs": [
    {
     "data": {
      "text/plain": [
       "79"
      ]
     },
     "execution_count": 194,
     "metadata": {},
     "output_type": "execute_result"
    }
   ],
   "source": [
    "np.max(lista_)"
   ]
  },
  {
   "cell_type": "code",
   "execution_count": 195,
   "id": "994066a7",
   "metadata": {},
   "outputs": [
    {
     "data": {
      "text/plain": [
       "51"
      ]
     },
     "execution_count": 195,
     "metadata": {},
     "output_type": "execute_result"
    }
   ],
   "source": [
    "np.min(lista_)"
   ]
  },
  {
   "cell_type": "markdown",
   "id": "3d3fe7d3",
   "metadata": {},
   "source": [
    "# Referencias\n",
    "\n",
    "https://sebastianraschka.com/blog/2020/numpy-intro.html"
   ]
  },
  {
   "cell_type": "code",
   "execution_count": null,
   "id": "c22f2f81",
   "metadata": {},
   "outputs": [],
   "source": []
  }
 ],
 "metadata": {
  "kernelspec": {
   "display_name": "Python 3 (ipykernel)",
   "language": "python",
   "name": "python3"
  },
  "language_info": {
   "codemirror_mode": {
    "name": "ipython",
    "version": 3
   },
   "file_extension": ".py",
   "mimetype": "text/x-python",
   "name": "python",
   "nbconvert_exporter": "python",
   "pygments_lexer": "ipython3",
   "version": "3.9.13"
  }
 },
 "nbformat": 4,
 "nbformat_minor": 5
}
