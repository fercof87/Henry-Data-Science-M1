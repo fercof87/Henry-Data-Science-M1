{
 "cells": [
  {
   "attachments": {},
   "cell_type": "markdown",
   "metadata": {},
   "source": [
    "IMPORTACION DE LIBRERIA"
   ]
  },
  {
   "cell_type": "code",
   "execution_count": 2,
   "metadata": {},
   "outputs": [
    {
     "name": "stdout",
     "output_type": "stream",
     "text": [
      "1.24.3\n"
     ]
    }
   ],
   "source": [
    "import numpy as np\n",
    "#Version de la libreria NUMPY\n",
    "print(np.__version__)"
   ]
  },
  {
   "attachments": {},
   "cell_type": "markdown",
   "metadata": {},
   "source": [
    "CREACION DE ARRAYS"
   ]
  },
  {
   "cell_type": "code",
   "execution_count": 2,
   "metadata": {},
   "outputs": [
    {
     "name": "stdout",
     "output_type": "stream",
     "text": [
      "[0 1 2 3 4 5 6]\n"
     ]
    }
   ],
   "source": [
    "#From Lista\n",
    "lista1 = [0,1,2,3,4,5,6]\n",
    "array1 = np.array(lista1)\n",
    "print(array1)"
   ]
  },
  {
   "cell_type": "code",
   "execution_count": 14,
   "metadata": {},
   "outputs": [
    {
     "name": "stdout",
     "output_type": "stream",
     "text": [
      "[2 4 6 8]\n",
      "[ 2  3  4  5  6  7  8 10]\n"
     ]
    }
   ],
   "source": [
    "#from Rango o Secuencias\n",
    "array2 = np.arange(start=2, stop=10,step=2)\n",
    "print(array2)\n",
    "\n",
    "#separacion equidistante con extremos inclusivos, dtype es Float por defecto\n",
    "array3 = np.linspace(start=2, stop=10,num=8)\n",
    "print(array3)"
   ]
  },
  {
   "cell_type": "code",
   "execution_count": 27,
   "metadata": {},
   "outputs": [
    {
     "name": "stdout",
     "output_type": "stream",
     "text": [
      "Zeroes\n",
      "[[0 0 0]\n",
      " [0 0 0]\n",
      " [0 0 0]]\n",
      "[[0 0 0]\n",
      " [0 0 0]]\n",
      "[[0 0 0]\n",
      " [0 0 0]]\n"
     ]
    }
   ],
   "source": [
    "#Arrays Predefinidos\n",
    "lista2 = [[1,2,3],[4,5,6]]\n",
    "\n",
    "# Zeros: Inicializa con 0\n",
    "print(\"Zeroes\")\n",
    "array4 = np.zeros((3,3), dtype = int)\n",
    "print(array4)\n",
    "\n",
    "array5 = np.zeros_like(lista2)\n",
    "print(array5)\n",
    "\n",
    "array6 = np.zeros(shape=array5.shape, dtype = array5.dtype)\n",
    "print(array6)\n"
   ]
  },
  {
   "cell_type": "code",
   "execution_count": 28,
   "metadata": {},
   "outputs": [
    {
     "name": "stdout",
     "output_type": "stream",
     "text": [
      "Ones\n",
      "[[1 1 1]\n",
      " [1 1 1]\n",
      " [1 1 1]]\n",
      "[[1 1 1]\n",
      " [1 1 1]]\n",
      "[[1 1 1]\n",
      " [1 1 1]]\n"
     ]
    }
   ],
   "source": [
    "#Arrays Predefinidos\n",
    "lista2 = [[1,2,3],[4,5,6]]\n",
    "\n",
    "# ones: Inicializa con 1\n",
    "print(\"Ones\")\n",
    "array7 = np.ones((3,3), dtype = int)\n",
    "print(array7)\n",
    "\n",
    "array8 = np.ones_like(lista2)\n",
    "print(array8)\n",
    "\n",
    "array9 = np.ones(shape=array8.shape, dtype = array8.dtype)\n",
    "print(array9)"
   ]
  },
  {
   "cell_type": "code",
   "execution_count": 31,
   "metadata": {},
   "outputs": [
    {
     "name": "stdout",
     "output_type": "stream",
     "text": [
      "Full\n",
      "[[4 4 4]\n",
      " [4 4 4]\n",
      " [4 4 4]]\n",
      "[[6 6 6]\n",
      " [6 6 6]]\n",
      "[[5 5 5]\n",
      " [5 5 5]]\n"
     ]
    }
   ],
   "source": [
    "# Full: inicializa con un valor pasado como parametro (en vez de zeros u ones)\n",
    "lista2 = [[1,2,3],[4,5,6]]\n",
    "\n",
    "print(\"Full\")\n",
    "array10 = np.full((3,3), 4 , dtype = int)\n",
    "print(array10)\n",
    "\n",
    "array11 = np.full_like(lista2, 6)\n",
    "print(array11)\n",
    "\n",
    "array12 = np.full(shape=array11.shape, fill_value=5 ,dtype = array11.dtype)\n",
    "print(array12)"
   ]
  },
  {
   "cell_type": "code",
   "execution_count": 37,
   "metadata": {},
   "outputs": [
    {
     "name": "stdout",
     "output_type": "stream",
     "text": [
      "Dist. Uniforme\n",
      "\n",
      "random.rand\n",
      "[[0.08923072 0.49350717]\n",
      " [0.258698   0.16754291]\n",
      " [0.41165723 0.81819827]]\n",
      "random.uniform\n",
      "[[0.37488888 0.21550508]\n",
      " [0.41909269 0.9366773 ]\n",
      " [0.92780174 0.02294298]]\n"
     ]
    }
   ],
   "source": [
    "#Aleatorios\n",
    "#Distibucion Uniforme\n",
    "print(\"Dist. Uniforme\\n\")\n",
    "print(\"random.rand\") #Distribucion Uniforme pseudo aleatoria, entre 0 y 1\n",
    "array13 = np.random.rand(3,2)\n",
    "print(array13)\n",
    "\n",
    "print(\"random.uniform\") #Distribucion Uniforme pseudo aleatoria, entre TOPES indicados del tipo [inicio,fin)\n",
    "array14 = np.random.uniform(0,1,6).reshape(3,2)\n",
    "print(array14)"
   ]
  },
  {
   "cell_type": "code",
   "execution_count": 39,
   "metadata": {},
   "outputs": [
    {
     "name": "stdout",
     "output_type": "stream",
     "text": [
      "Dist. Normal\n",
      "\n",
      "random.rand\n",
      "[[-1.02685458 -0.19706527]\n",
      " [-0.49093382  0.11645953]\n",
      " [ 1.18216276  0.7166979 ]]\n",
      "random.uniform\n",
      "[[-0.87054293 -0.14541467]\n",
      " [-0.17216125 -0.61189362]\n",
      " [-0.06625919  0.60212916]]\n"
     ]
    }
   ],
   "source": [
    "#Aleatorios\n",
    "#Distibucion Normal o GAUSSSIANA (camapana de Gauss)\n",
    "print(\"Dist. Normal\\n\")\n",
    "print(\"random.rand\") #Distribucion NORMAL pseudo aleatoria, entre 0 y 1\n",
    "array15 = np.random.randn(3,2)\n",
    "print(array15)\n",
    "\n",
    "print(\"random.uniform\") #Distribucion NORMAL pseudo aleatoria, SCALE(2do Parametro) es la desviacion estandard de la distribucion normal.\n",
    "array16 = np.random.normal(0,1,6).reshape(3,2)\n",
    "print(array16)"
   ]
  },
  {
   "cell_type": "code",
   "execution_count": 129,
   "metadata": {},
   "outputs": [
    {
     "name": "stdout",
     "output_type": "stream",
     "text": [
      "[[b'5.1' b'3.5' b'1.4' b'0.2']\n",
      " [b'4.9' b'3.0' b'1.4' b'0.2']\n",
      " [b'4.7' b'3.2' b'1.3' b'0.2']]\n"
     ]
    }
   ],
   "source": [
    "# DESDE UN ARCHIVO\n",
    "url = 'https://archive.ics.uci.edu/ml/machine-learning-databases/iris/iris.data'\n",
    "iris_1d = np.genfromtxt(url, delimiter=',', dtype=object, usecols=[0,1,2,3])\n",
    "\n",
    "print(iris_1d[:3])"
   ]
  },
  {
   "attachments": {},
   "cell_type": "markdown",
   "metadata": {},
   "source": [
    "TAMAÑO"
   ]
  },
  {
   "cell_type": "code",
   "execution_count": 97,
   "metadata": {},
   "outputs": [
    {
     "name": "stdout",
     "output_type": "stream",
     "text": [
      "[1 2 3 4 5 6 7 8 9]\n",
      "(9,)\n",
      "[[1 2 3]\n",
      " [4 5 6]\n",
      " [7 8 9]]\n",
      "(3, 3)\n",
      "(3, 3)\n"
     ]
    }
   ],
   "source": [
    "#Shape (tamaño de las dimensiones)\n",
    "a = np.arange(1,10)\n",
    "print(a)\n",
    "print(a.shape)\n",
    "\n",
    "#REshape\n",
    "a = np.arange(1,10)\n",
    "print(a.reshape(3,3)) #no modifica la original\n",
    "print(a.reshape(3,3).shape) \n",
    "#si a reshape le paso -1 calcula solo el tamaño de esa dimension\n",
    "print(a.reshape(3,-1).shape)\n",
    "\n",
    "# el shape retorna una tupla que podemos descomponer para saber el tamanio de cada una de las dimensiones\n",
    "# ejemplo: filas, columnas = a.shape()"
   ]
  },
  {
   "attachments": {},
   "cell_type": "markdown",
   "metadata": {},
   "source": [
    "SLICING"
   ]
  },
  {
   "cell_type": "code",
   "execution_count": 51,
   "metadata": {},
   "outputs": [
    {
     "name": "stdout",
     "output_type": "stream",
     "text": [
      "[[0 1 2]\n",
      " [3 4 5]\n",
      " [6 7 8]]\n",
      "1 - \n",
      " 5\n",
      "2 - \n",
      " [0 1 2]\n",
      "3 - \n",
      " [1 4 7]\n",
      "4 - \n",
      " [[1 2]\n",
      " [4 5]\n",
      " [7 8]]\n",
      "5 - \n",
      " [[0 1]\n",
      " [3 4]]\n"
     ]
    }
   ],
   "source": [
    "b = np.arange(9).reshape(3,3)\n",
    "print(b)\n",
    "\n",
    "print(\"1 - \\n\", b[1,2])\n",
    "print(\"2 - \\n\", b[0,:])\n",
    "print(\"3 - \\n\", b[:,1])\n",
    "print(\"4 - \\n\", b[:,1:])\n",
    "print(\"5 - \\n\", b[0:2,0:2])"
   ]
  },
  {
   "attachments": {},
   "cell_type": "markdown",
   "metadata": {},
   "source": [
    "COPIADO\n",
    "\n",
    "Si hago una asignacion normal, no copio el array, sino la referencia al mismo."
   ]
  },
  {
   "cell_type": "code",
   "execution_count": 55,
   "metadata": {},
   "outputs": [
    {
     "name": "stdout",
     "output_type": "stream",
     "text": [
      "Copy\n",
      "[0 4 6]\n",
      "[0 4 6] \n",
      "\n",
      "[0 4 6]\n",
      "[2 4 6]\n"
     ]
    }
   ],
   "source": [
    "print(\"Copy\")\n",
    "#Referencia\n",
    "a1 = np.array([2,4,6])\n",
    "a2 = a1\n",
    "a1[0] = 0\n",
    "print(a1)\n",
    "print(a2,\"\\n\")\n",
    "\n",
    "#Valor con Funcion Copy\n",
    "a1 = np.array([2,4,6])\n",
    "a2 = a1.copy()\n",
    "a1[0] = 0\n",
    "print(a1)\n",
    "print(a2)"
   ]
  },
  {
   "attachments": {},
   "cell_type": "markdown",
   "metadata": {},
   "source": [
    "OPERACIONES"
   ]
  },
  {
   "cell_type": "code",
   "execution_count": 63,
   "metadata": {},
   "outputs": [
    {
     "name": "stdout",
     "output_type": "stream",
     "text": [
      "Suma Escalar\n",
      "[2 3 4]\n",
      "[2 3 4]\n",
      "Resta Escalar\n",
      "[0 1 2]\n",
      "[0 1 2]\n"
     ]
    }
   ],
   "source": [
    "#Suma y Resta Escalar: No modifica la Original\n",
    "print(\"Suma Escalar\")\n",
    "a = np.array([1,2,3])\n",
    "print(a+1)\n",
    "b = np.ones(3, dtype=int) \n",
    "print(a+b)\n",
    "\n",
    "print(\"Resta Escalar\")\n",
    "a = np.array([1,2,3])\n",
    "print(a-1)\n",
    "b = np.ones(3, dtype=int) \n",
    "print(a-b)\n",
    "\n",
    "# Las operaciones de:\n",
    "# -------------------\n",
    "\n",
    "# producto escalar\n",
    "# division escalar\n",
    "# division entera escalar\n",
    "# resto escalar\n",
    "# potencia escalar\n",
    "\n",
    "# SON ANALOGAS A LA SUMA Y RESTA ESCALAR"
   ]
  },
  {
   "attachments": {},
   "cell_type": "markdown",
   "metadata": {},
   "source": [
    "ESTADISTICA"
   ]
  },
  {
   "cell_type": "code",
   "execution_count": 81,
   "metadata": {},
   "outputs": [
    {
     "name": "stdout",
     "output_type": "stream",
     "text": [
      "[  0   1   2   3   4   5   6   7   8   9  10  11  12  13  14  15  16  17\n",
      "  18  19  20  21  22  23  24  25  26  27  28  29  30  31  32  33  34  35\n",
      "  36  37  38  39  40  41  42  43  44  45  46  47  48  49  50  51  52  53\n",
      "  54  55  56  57  58  59  60  61  62  63  64  65  66  67  68  69  70  71\n",
      "  72  73  74  75  76  77  78  79  80  81  82  83  84  85  86  87  88  89\n",
      "  90  91  92  93  94  95  96  97  98  99 100]\n",
      "Media\n",
      "50.0\n",
      "50.0\n",
      "Mediana\n",
      "50.0\n",
      "Desviacion STD\n",
      "29.154759474226502\n",
      "29.154759474226502\n",
      "Percentiles\n",
      "90.0\n"
     ]
    }
   ],
   "source": [
    "a = np.arange(0,101)\n",
    "print(a)\n",
    "\n",
    "print(\"Media\")\n",
    "print(a.mean())\n",
    "print(np.mean(a))\n",
    "\n",
    "print(\"Mediana\")\n",
    "print(np.median(a))\n",
    "\n",
    "print(\"Desviacion STD\")\n",
    "print(a.std())\n",
    "print(np.std(a))\n",
    "\n",
    "print(\"Percentiles\")\n",
    "print(np.percentile(a,90))"
   ]
  },
  {
   "attachments": {},
   "cell_type": "markdown",
   "metadata": {},
   "source": [
    "OTRAS FUNCIONES"
   ]
  },
  {
   "cell_type": "code",
   "execution_count": 89,
   "metadata": {},
   "outputs": [
    {
     "name": "stdout",
     "output_type": "stream",
     "text": [
      "exponencial\n",
      "[ 1.          2.71828183  7.3890561  20.08553692]\n",
      "logaritmo\n",
      "[0.         0.69314718 1.09861229 1.38629436]\n",
      "Raiz Cuadrada\n",
      "[0.         1.         1.41421356 1.73205081]\n",
      "Comparaciones con resultado booleano\n",
      "[False False False False]\n",
      "[False False False False]\n",
      "[ True  True  True  True]\n",
      "[ True  True  True  True]\n",
      "[False False False False]\n",
      "[ True  True  True  True]\n"
     ]
    }
   ],
   "source": [
    "a = np.arange(4)\n",
    "b = np.arange(1,5)\n",
    "\n",
    "#Exponencial\n",
    "print(\"exponencial\")\n",
    "print(np.exp(a))\n",
    "\n",
    "#Logaritmo\n",
    "print(\"logaritmo\")\n",
    "print(np.log(b))\n",
    "\n",
    "#Raiz Cuadrada\n",
    "print(\"Raiz Cuadrada\")\n",
    "print(np.sqrt(a))\n",
    "\n",
    "#Comparacion\n",
    "print(\"Comparaciones con resultado booleano\")\n",
    "print(np.greater(a,b))\n",
    "print(np.greater_equal(a,b))\n",
    "print(np.less(a,b))\n",
    "print(np.less_equal(a,b))\n",
    "print(np.equal(a,b))\n",
    "print(np.not_equal(a,b))"
   ]
  },
  {
   "attachments": {},
   "cell_type": "markdown",
   "metadata": {},
   "source": [
    "MASCARAS Y FILTRO (FILTRADO)"
   ]
  },
  {
   "cell_type": "code",
   "execution_count": 92,
   "metadata": {},
   "outputs": [
    {
     "name": "stdout",
     "output_type": "stream",
     "text": [
      "[[ 0  1  2  3  4  5  6  7  8  9]\n",
      " [10 11 12 13 14 15 16 17 18 19]]\n",
      "[[ True False  True False  True False  True False  True False]\n",
      " [ True False  True False  True False  True False  True False]]\n",
      "[ 0  2  4  6  8 10 12 14 16 18]\n"
     ]
    }
   ],
   "source": [
    "a = np.arange(0,20).reshape(2,10)\n",
    "print(a)\n",
    "#Mascaras\n",
    "print(\"Mascaras\")\n",
    "mascara = ((a%2) == 0)\n",
    "#resultado booleano de aplicar la mascara en el array\n",
    "print(mascara)\n",
    "\n",
    "#Filtro el array con la mascara\n",
    "print(a[mascara])\n",
    "\n"
   ]
  },
  {
   "cell_type": "code",
   "execution_count": 98,
   "metadata": {},
   "outputs": [
    {
     "name": "stdout",
     "output_type": "stream",
     "text": [
      "Where\n",
      "[0 1 2 3 4 5 6 7 8 9]\n",
      "[ 0 -1  2 -1  4 -1  6 -1  8 -1]\n"
     ]
    }
   ],
   "source": [
    "#Filtro where\n",
    "print(\"Where\")\n",
    "a = np.array([0,1,2,3,4,5,6,7,8,9])\n",
    "#np.where(condicion, valor por true, valor por false)\n",
    "out = np.where(a % 2 != 0,-1,a)\n",
    "\n",
    "print(a)\n",
    "print(out)"
   ]
  },
  {
   "attachments": {},
   "cell_type": "markdown",
   "metadata": {},
   "source": [
    "CONCATENACION APILADO"
   ]
  },
  {
   "cell_type": "code",
   "execution_count": 103,
   "metadata": {},
   "outputs": [
    {
     "name": "stdout",
     "output_type": "stream",
     "text": [
      "[[0 1 2 3 4]\n",
      " [5 6 7 8 9]]\n",
      "[[1 1 1 1 1]\n",
      " [1 1 1 1 1]]\n",
      "\n",
      "[[0 1 2 3 4]\n",
      " [5 6 7 8 9]\n",
      " [1 1 1 1 1]\n",
      " [1 1 1 1 1]]\n",
      "\n",
      "[[0 1 2 3 4]\n",
      " [5 6 7 8 9]\n",
      " [1 1 1 1 1]\n",
      " [1 1 1 1 1]]\n",
      "\n",
      "[[0 1 2 3 4]\n",
      " [5 6 7 8 9]\n",
      " [1 1 1 1 1]\n",
      " [1 1 1 1 1]]\n",
      "\n",
      "(4, 5)\n"
     ]
    }
   ],
   "source": [
    "a = np.arange(10).reshape(2,-1)\n",
    "b = np.repeat(1, 10).reshape(2,-1)\n",
    "\n",
    "#Apilado VERTICAL\n",
    "print(a)\n",
    "print(b)\n",
    "print()\n",
    "print(np.concatenate([a,b], axis=0)) #con axis CERO concateno en COLUMNAS, es decir, VERTICALMENTE. Apilo arriba/abajo.\n",
    "print()\n",
    "print(np.vstack([a,b]))\n",
    "print()\n",
    "print(np.r_[a,b])\n",
    "print()\n",
    "print(np.vstack([a,b]).shape)"
   ]
  },
  {
   "cell_type": "code",
   "execution_count": 104,
   "metadata": {},
   "outputs": [
    {
     "name": "stdout",
     "output_type": "stream",
     "text": [
      "\n",
      "[[0 1 2 3 4 1 1 1 1 1]\n",
      " [5 6 7 8 9 1 1 1 1 1]]\n",
      "\n",
      "[[0 1 2 3 4 1 1 1 1 1]\n",
      " [5 6 7 8 9 1 1 1 1 1]]\n",
      "\n",
      "[[0 1 2 3 4 1 1 1 1 1]\n",
      " [5 6 7 8 9 1 1 1 1 1]]\n",
      "\n",
      "(2, 10)\n"
     ]
    }
   ],
   "source": [
    "#Apilado HORIZONTAL\n",
    "print()\n",
    "print(np.concatenate([a,b], axis=1)) #con axis UNO concateno en FILAS, es decir, HORIZONTALMENTE. Apilo izquierda/derecha.\n",
    "print()\n",
    "print(np.hstack([a,b]))\n",
    "print()\n",
    "print(np.c_[a,b])\n",
    "print()\n",
    "print(np.hstack([a,b]).shape)"
   ]
  },
  {
   "attachments": {},
   "cell_type": "markdown",
   "metadata": {},
   "source": [
    "OTRAS FUNCIONES"
   ]
  },
  {
   "cell_type": "code",
   "execution_count": 8,
   "metadata": {},
   "outputs": [
    {
     "name": "stdout",
     "output_type": "stream",
     "text": [
      "[1 1 1 2 2 2 3 3 3 1 2 3 1 2 3 1 2 3]\n"
     ]
    }
   ],
   "source": [
    "a = np.array([1,2,3])\n",
    "#REPEAT: Repite CADA elemento del array la cantidad de veces indicada.\n",
    "#TILE: Repite la cantidad de elementos seleccionados a partir del final, lo repite la cantidad indicada.\n",
    "print(np.concatenate([np.repeat(a,3),np.tile(a,3)], axis=0))"
   ]
  },
  {
   "cell_type": "code",
   "execution_count": 11,
   "metadata": {},
   "outputs": [
    {
     "name": "stdout",
     "output_type": "stream",
     "text": [
      "(1, 3, 1, 2)\n",
      "[[[[1. 1.]]\n",
      "\n",
      "  [[1. 1.]]\n",
      "\n",
      "  [[1. 1.]]]]\n",
      "\n",
      "(3, 2)\n",
      "[[1. 1.]\n",
      " [1. 1.]\n",
      " [1. 1.]]\n"
     ]
    }
   ],
   "source": [
    "data = np.ones((1, 3, 1, 2))\n",
    "print(data.shape)\n",
    "#BORRAR DIMENSIONES DE TAMANIO 1\n",
    "print(data)\n",
    "print()\n",
    "print(np.squeeze(data).shape)\n",
    "print(np.squeeze(data))"
   ]
  },
  {
   "cell_type": "code",
   "execution_count": 115,
   "metadata": {},
   "outputs": [
    {
     "name": "stdout",
     "output_type": "stream",
     "text": [
      "[2 4]\n",
      "[1 2 3 4]\n",
      "[1 2 3 4 5 6 7 8 9]\n",
      "[1 2 3 4 6 7 8 9]\n"
     ]
    }
   ],
   "source": [
    "#INTERSECCION 1D\n",
    "a = np.array([1,2,3,2,3,4,3,4,5,6])\n",
    "b = np.array([7,2,10,2,7,4,9,4,9,8])\n",
    "\n",
    "print(np.intersect1d(a,b)) #devuelve los elementos que estan en ambos arrays, pero sin repetirlos\n",
    "\n",
    "#DIFERENCIA\n",
    "a = np.array([1,2,3,4,5])\n",
    "b = np.array([5,6,7,8,9])\n",
    "\n",
    "print(np.setdiff1d(a,b)) # devuelve los elementos que estan en el primer array y no en el segundo\n",
    "\n",
    "# UNION\n",
    "print(np.union1d(a,b)) #devuelve la union de ambos arrays pero sin repetir los que estan en ambos conjuntos.\n",
    "\n",
    "# XOR: Devuelve los elementos que estan en cada array pero que no esten en AMBOS. Recordar que el XOR se vuelve FALSE cuando ambos operandos son TRUE.\n",
    "print(np.setxor1d(a,b))"
   ]
  },
  {
   "cell_type": "code",
   "execution_count": 117,
   "metadata": {},
   "outputs": [
    {
     "name": "stdout",
     "output_type": "stream",
     "text": [
      "[False False False False  True]\n",
      "[5]\n"
     ]
    }
   ],
   "source": [
    "# BUSQUEDA DE ELEMENTOS DE UN ARRAY EN OTRO\n",
    "a = np.array([1,2,3,4,5])\n",
    "b = np.array([5,6,7,8,9])\n",
    "\n",
    "print(np.in1d(a,b)) #devuelve las ocurrencias en formato BOOLEANO, por ende, lo puedo usar como mascara para filtrar y consultar los elementos.\n",
    "#lo puedo usar como mascara\n",
    "print(a[np.in1d(a,b)])"
   ]
  },
  {
   "cell_type": "code",
   "execution_count": 126,
   "metadata": {},
   "outputs": [
    {
     "name": "stdout",
     "output_type": "stream",
     "text": [
      "[6 7 9 8 9 7 5]\n",
      "[ 5 -1  7 -1  9 -1 11 -1]\n"
     ]
    }
   ],
   "source": [
    "# FUNCIONES APLICADAS A CADA ELEMENTO\n",
    "def maxx(x, y):\n",
    "    if x >= y:\n",
    "        return x\n",
    "    else:\n",
    "        return y\n",
    "\n",
    "#redefino la funcion como vertorizable, es decir, que se aplique individualmente a los elementos de los arrays\n",
    "pair_max = np.vectorize(maxx, otypes=[int])\n",
    "\n",
    "a = np.array([5, 7, 9, 8, 6, 4, 5])\n",
    "b = np.array([6, 3, 4, 8, 9, 7, 1])\n",
    "\n",
    "print(pair_max(a,b))\n",
    "#va a llamar a la funcion MAXX tantas veces como elementos tengan los arrays. Lo hace elemento a elemento. Numpy hace la descomposicion de manera automatica.\n",
    "\n",
    "def par(x):\n",
    "    if (x%2)==0:\n",
    "        return -1\n",
    "    else:\n",
    "        return x\n",
    "       \n",
    "\n",
    "parv = np.vectorize(par, otypes=[int])\n",
    "\n",
    "a = np.array([5, 6, 7, 8, 9, 10, 11, 12])\n",
    "\n",
    "print(parv(a))"
   ]
  },
  {
   "attachments": {},
   "cell_type": "markdown",
   "metadata": {},
   "source": [
    "FUNCIONES LOGICAS"
   ]
  },
  {
   "cell_type": "code",
   "execution_count": 127,
   "metadata": {},
   "outputs": [
    {
     "data": {
      "text/plain": [
       "<ufunc 'logical_or'>"
      ]
     },
     "execution_count": 127,
     "metadata": {},
     "output_type": "execute_result"
    }
   ],
   "source": [
    "# np.logical_and(condiciones)\n",
    "# np.logical_not(condiciones)\n",
    "# np.logical_or(condiciones)\n",
    "# np.logical_xor(condiciones)"
   ]
  },
  {
   "attachments": {},
   "cell_type": "markdown",
   "metadata": {},
   "source": [
    "ITERACION"
   ]
  },
  {
   "cell_type": "code",
   "execution_count": 1,
   "metadata": {},
   "outputs": [
    {
     "name": "stdout",
     "output_type": "stream",
     "text": [
      "1\n",
      "2\n",
      "3\n",
      "4\n",
      "5\n",
      "6\n",
      "7\n",
      "8\n",
      "9\n"
     ]
    }
   ],
   "source": [
    "#nditer ==> Sirve para iterar de forma eficientes CADA elemento de un array numpy, puede tener mas de una dimension. Suele utilizarse en un FOR.\n",
    "import numpy as np\n",
    "\n",
    "matriz = np.array([[1, 2, 3], [4, 5, 6], [7, 8, 9]])\n",
    "\n",
    "for elemento in np.nditer(matriz):\n",
    "    print(elemento)"
   ]
  },
  {
   "cell_type": "code",
   "execution_count": 2,
   "metadata": {},
   "outputs": [
    {
     "name": "stdout",
     "output_type": "stream",
     "text": [
      "[0 1 2 3 4]\n"
     ]
    }
   ],
   "source": [
    "#np.fromiter() ==> Recibe un iterable (lista, array, generador, etc). Crea un array nuevo a partir del iterable.\n",
    "import numpy as np\n",
    "\n",
    "iterador = range(5) #generador iterable\n",
    "arr = np.fromiter(iterador, dtype=int)\n",
    "\n",
    "print(arr)"
   ]
  },
  {
   "cell_type": "code",
   "execution_count": 8,
   "metadata": {},
   "outputs": [
    {
     "name": "stdout",
     "output_type": "stream",
     "text": [
      "[ True False  True False  True]\n",
      "[ True False  True False  True]\n",
      "[1 3 5]\n",
      "[1 3 5]\n"
     ]
    }
   ],
   "source": [
    "import numpy as np\n",
    "\n",
    "array6 = np.array([1,2,3,4,5])\n",
    "\n",
    "#retorna un BOOL\n",
    "def es_impar(x):\n",
    "    return x % 2 != 0\n",
    "\n",
    "#from el for retorna un GENERADOR DE BOOLEANOS\n",
    "#el FROMITER toma el generador y crea un ARRAY DE BOOLEANOS\n",
    "filtro = np.fromiter((es_impar(x) for x in array6), dtype=bool)\n",
    "print(filtro)\n",
    "#ambos pasos se podrian resolver con un FILTRO o MASCARA\n",
    "print(array6 % 2 != 0)\n",
    "print(array6[filtro])\n",
    "print(array6[np.fromiter((es_impar(x) for x in array6), dtype=bool)])"
   ]
  }
 ],
 "metadata": {
  "kernelspec": {
   "display_name": "Python 3",
   "language": "python",
   "name": "python3"
  },
  "language_info": {
   "codemirror_mode": {
    "name": "ipython",
    "version": 3
   },
   "file_extension": ".py",
   "mimetype": "text/x-python",
   "name": "python",
   "nbconvert_exporter": "python",
   "pygments_lexer": "ipython3",
   "version": "3.11.3"
  },
  "orig_nbformat": 4
 },
 "nbformat": 4,
 "nbformat_minor": 2
}
