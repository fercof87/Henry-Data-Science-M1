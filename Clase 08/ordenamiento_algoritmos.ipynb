{
 "cells": [
  {
   "cell_type": "code",
   "execution_count": null,
   "metadata": {},
   "outputs": [],
   "source": [
    "def insertion_sort(arr):\n",
    "    for i in range(1,len(arr)):\n",
    "\n",
    "        current = arr[i]\n",
    "        j = i - 1\n",
    "\n",
    "        while(j >= 0 and arr[j] > current):\n",
    "            arr[j+1] = arr[j]\n",
    "            j -= 1\n",
    "\n",
    "        arr[j + 1] = current\n",
    "        \n",
    "    return arr"
   ]
  },
  {
   "cell_type": "code",
   "execution_count": null,
   "metadata": {},
   "outputs": [],
   "source": [
    "def bubble_sort(arr):\n",
    "\n",
    "    n = len(arr)\n",
    "\n",
    "    for i in range (n-1):\n",
    "        for j in range(n - i - 1):\n",
    "            if(arr[j] > arr[j+1]):\n",
    "                arr[j], arr[j+1] = arr[j+1],arr[j]\n",
    "    return arr"
   ]
  }
 ],
 "metadata": {
  "language_info": {
   "name": "python"
  },
  "orig_nbformat": 4
 },
 "nbformat": 4,
 "nbformat_minor": 2
}
