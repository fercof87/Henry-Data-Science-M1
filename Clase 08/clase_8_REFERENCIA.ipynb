{
 "cells": [
  {
   "cell_type": "code",
   "execution_count": 18,
   "id": "4b6e5878",
   "metadata": {},
   "outputs": [],
   "source": [
    "import numpy as np\n",
    "import random\n",
    "import time\n",
    "import matplotlib.pyplot as plt"
   ]
  },
  {
   "cell_type": "markdown",
   "id": "15ede8c7",
   "metadata": {},
   "source": [
    "## Algoritmos\n",
    "\n",
    "Un algoritmo es un conjunto de instrucciones paso a paso para resolver un problema o realizar una tarea específica. \n",
    "\n",
    "Permiten la automatización de tareas y la solución eficiente de problemas.\n",
    "\n",
    "Un buen algoritmo debe tener las siguientes características:\n",
    "\n",
    "1. Precisión: Cada paso del algoritmo debe estar definido de manera precisa, sin ambigüedades ni suposiciones.\n",
    "\n",
    "2. Finitud: El algoritmo debe tener un número finito de pasos, lo que garantiza que eventualmente se completará su ejecución.\n",
    "\n",
    "3. Eficiencia: El algoritmo debe ser diseñado de manera eficiente, minimizando el uso innecesario de recursos y maximizando el rendimiento."
   ]
  },
  {
   "cell_type": "code",
   "execution_count": 99,
   "id": "fbd6f80d",
   "metadata": {},
   "outputs": [],
   "source": [
    "def encontrar_maximo(lista):\n",
    "    maximo = lista[0]\n",
    "    for elemento in lista:\n",
    "        if elemento > maximo:\n",
    "            maximo = elemento\n",
    "    return maximo"
   ]
  },
  {
   "cell_type": "code",
   "execution_count": 112,
   "id": "8b2004c2",
   "metadata": {},
   "outputs": [
    {
     "name": "stdout",
     "output_type": "stream",
     "text": [
      "[39 35 68 54 40 61 87 38 64 70 75 79 37 77 96 26 44 86 40 23 92 72 39 90\n",
      " 55 91  2 98 68 64 42 42 44 73 11 28 56  2 67 86 67 25 43 35 14 14 35 44\n",
      " 57 92]\n"
     ]
    }
   ],
   "source": [
    "arreglo = np.random.randint(0, 100, 50)\n",
    "print(arreglo)"
   ]
  },
  {
   "cell_type": "code",
   "execution_count": 113,
   "id": "1b137af3",
   "metadata": {},
   "outputs": [
    {
     "data": {
      "text/plain": [
       "98"
      ]
     },
     "execution_count": 113,
     "metadata": {},
     "output_type": "execute_result"
    }
   ],
   "source": [
    "encontrar_maximo(arreglo)"
   ]
  },
  {
   "cell_type": "markdown",
   "id": "96019e44",
   "metadata": {},
   "source": [
    "En este algoritmo, iniciamos asignando el primer elemento de la lista a la variable `maximo`. Luego, recorremos todos los elementos de la lista y, si encontramos un elemento mayor que el valor actual de `maximo`, actualizamos `maximo` con ese elemento. Al final, devolvemos el valor máximo encontrado.\n",
    "\n",
    "Este algoritmo cumple con las características de un buen algoritmo, ya que cada paso está definido claramente, tiene un número finito de pasos y es eficiente, ya que solo recorre la lista una vez.\n",
    "\n",
    "### 1. Algoritmo para calcular el factorial de un número:"
   ]
  },
  {
   "cell_type": "code",
   "execution_count": 114,
   "id": "2fdf66fd",
   "metadata": {},
   "outputs": [],
   "source": [
    "def calcular_factorial(n):\n",
    "    factorial = 1\n",
    "    for i in range(1, n+1):\n",
    "        factorial *= i\n",
    "    return factorial"
   ]
  },
  {
   "cell_type": "code",
   "execution_count": 115,
   "id": "a673e88a",
   "metadata": {},
   "outputs": [
    {
     "data": {
      "text/plain": [
       "120"
      ]
     },
     "execution_count": 115,
     "metadata": {},
     "output_type": "execute_result"
    }
   ],
   "source": [
    "calcular_factorial(5)"
   ]
  },
  {
   "cell_type": "markdown",
   "id": "e5fa84a4",
   "metadata": {},
   "source": [
    "### 2. Algoritmo para verificar si un número es primo:\n",
    "\n",
    "En este algoritmo, verificamos si un número es divisible por cualquier número desde 2 hasta su raíz cuadrada. Si encontramos algún divisor, el número no es primo."
   ]
  },
  {
   "cell_type": "code",
   "execution_count": 116,
   "id": "7d46f53f",
   "metadata": {},
   "outputs": [],
   "source": [
    "def es_primo(numero):\n",
    "    if numero < 2:\n",
    "        return False\n",
    "    for i in range(2, int(numero**0.5) + 1):\n",
    "        if numero % i == 0:\n",
    "            return False\n",
    "    return True"
   ]
  },
  {
   "cell_type": "code",
   "execution_count": 117,
   "id": "ed2e0d2e",
   "metadata": {},
   "outputs": [
    {
     "name": "stdout",
     "output_type": "stream",
     "text": [
      "0 False   1 False   2 True   3 True   4 False   5 True   6 False   7 True   8 False   9 False   10 False   11 True   12 False   13 True   14 False   15 False   16 False   17 True   18 False   19 True   20 False   21 False   22 False   23 True   24 False   25 False   26 False   27 False   28 False   29 True   30 False   31 True   32 False   33 False   34 False   35 False   36 False   37 True   38 False   39 False   40 False   41 True   42 False   43 True   44 False   45 False   46 False   47 True   48 False   49 False   50 False   51 False   52 False   53 True   54 False   55 False   56 False   57 False   58 False   59 True   60 False   61 True   62 False   63 False   64 False   65 False   66 False   67 True   68 False   69 False   70 False   71 True   72 False   73 True   74 False   75 False   76 False   77 False   78 False   79 True   80 False   81 False   82 False   83 True   84 False   85 False   86 False   87 False   88 False   89 True   90 False   91 False   92 False   93 False   94 False   95 False   96 False   97 True   98 False   99 False   "
     ]
    }
   ],
   "source": [
    "for i in range(100):\n",
    "    print(i, es_primo(i), end='   ')"
   ]
  },
  {
   "cell_type": "code",
   "execution_count": 118,
   "id": "f8dabeba",
   "metadata": {},
   "outputs": [],
   "source": [
    "def extremos(arr):\n",
    "    maximo = arr[0]\n",
    "    minimo = arr[0]\n",
    "\n",
    "    for elemento in arr:\n",
    "        if (elemento > maximo):\n",
    "            maximo = elemento\n",
    "\n",
    "    for elemento in arr:\n",
    "        if (elemento < minimo):\n",
    "            minimo = elemento\n",
    "\n",
    "    return maximo, minimo\n",
    "# O(N + N) = O(2N)"
   ]
  },
  {
   "cell_type": "code",
   "execution_count": 119,
   "id": "c57a47c0",
   "metadata": {},
   "outputs": [
    {
     "name": "stdout",
     "output_type": "stream",
     "text": [
      "5.95 µs ± 276 ns per loop (mean ± std. dev. of 7 runs, 100,000 loops each)\n"
     ]
    }
   ],
   "source": [
    "%timeit extremos(arreglo)"
   ]
  },
  {
   "cell_type": "code",
   "execution_count": 120,
   "id": "babf84c7",
   "metadata": {},
   "outputs": [],
   "source": [
    "def extremos2(arr):\n",
    "    maximo = arr[0]\n",
    "    minimo = arr[0]\n",
    "    for elemento in arr:\n",
    "        if (elemento > maximo):\n",
    "            maximo = elemento\n",
    "        if (elemento < minimo):\n",
    "            minimo = elemento\n",
    "    return maximo, minimo\n",
    "# O( N ) = O(N)"
   ]
  },
  {
   "cell_type": "code",
   "execution_count": 121,
   "id": "ce94765a",
   "metadata": {},
   "outputs": [
    {
     "name": "stdout",
     "output_type": "stream",
     "text": [
      "4.01 µs ± 180 ns per loop (mean ± std. dev. of 7 runs, 100,000 loops each)\n"
     ]
    }
   ],
   "source": [
    "%timeit extremos2(arreglo)"
   ]
  },
  {
   "cell_type": "markdown",
   "id": "55c5910b",
   "metadata": {},
   "source": [
    "## Complejidad temporal\n",
    "\n",
    "1. Tiempo constante (O(1)):\n",
    "   - Acceso a un elemento de un arreglo dado su índice.\n",
    "   - Realizar una operación matemática básica, como sumar dos números.\n",
    "\n",
    "2. Tiempo logarítmico (O(log n)):\n",
    "   - Búsqueda binaria en un arreglo ordenado.\n",
    "   - Árboles de búsqueda balanceados, como árboles AVL o árboles binarios de búsqueda.\n",
    "\n",
    "3. Tiempo lineal (O(n)):\n",
    "   - Recorrer una lista o arreglo una vez para realizar una operación en cada elemento.\n",
    "   - Encontrar el elemento máximo en una lista desordenada.\n",
    "\n",
    "4. Tiempo lineal-logarítmico (O(n log n)):\n",
    "   - Algoritmo de ordenamiento rápido (quicksort).\n",
    "   - Algoritmo de mezcla (mergesort).\n",
    "\n",
    "5. Tiempo cuadrático (O(n^2)):\n",
    "   - Algoritmo de ordenamiento de burbuja.\n",
    "   - Búsqueda exhaustiva de pares de elementos en una lista.\n",
    "\n",
    "6. Tiempo cúbico (O(n^3)):\n",
    "   - Algoritmo para resolver el problema del cubo de Rubik.\n",
    "   - Algoritmo para encontrar todas las combinaciones posibles de elementos en una lista de tamaño n.\n",
    "\n",
    "7. Tiempo exponencial (O(2^n)):\n",
    "   - Algoritmo de fuerza bruta para encontrar todas las subconjuntos de un conjunto dado.\n",
    "   - Algoritmo de backtracking para resolver problemas de combinaciones o permutaciones."
   ]
  },
  {
   "cell_type": "markdown",
   "id": "eb9e0a68",
   "metadata": {},
   "source": [
    "## Complejidad espacial\n",
    "\n",
    "1. Espacio constante (O(1)):\n",
    "   - Variables individuales o constantes.\n",
    "   - Algoritmos que no requieren almacenar datos adicionales.\n",
    "\n",
    "2. Espacio lineal (O(n)):\n",
    "   - Arreglos o listas que crecen linealmente con el tamaño de entrada.\n",
    "   - Estructuras de datos simples que almacenan elementos en orden lineal.\n",
    "\n",
    "3. Espacio cuadrático (O(n^2)):\n",
    "   - Matrices bidimensionales de tamaño n x n.\n",
    "   - Almacenar todas las combinaciones posibles de elementos en una lista.\n",
    "\n",
    "4. Espacio logarítmico (O(log n)):\n",
    "   - Pilas y colas que mantienen un número limitado de elementos.\n",
    "   - Estructuras de datos basadas en árboles balanceados, como árboles AVL o árboles binarios de búsqueda.\n",
    "\n",
    "5. Espacio polinómico (O(n^k)):\n",
    "   - Matrices tridimensionales de tamaño n x n x n.\n",
    "   - Almacenar resultados intermedios en algoritmos recursivos con múltiples llamadas recursivas.\n",
    "\n",
    "6. Espacio exponencial (O(2^n)):\n",
    "   - Almacenar todos los subconjuntos posibles de un conjunto dado.\n",
    "   - Almacenar información adicional para algoritmos de backtracking que exploran todas las posibilidades."
   ]
  },
  {
   "cell_type": "markdown",
   "id": "1c7bd6a1",
   "metadata": {},
   "source": [
    "## Clases de complejidad\n",
    "\n",
    "Las clases de complejidad son categorías o conjuntos de problemas que comparten características similares en términos de su complejidad computacional. Representan grupos de problemas que requieren una cantidad similar de recursos computacionales para ser resueltos.\n",
    "\n",
    "En teoría de la complejidad computacional, las clases de complejidad se definen en función de los recursos necesarios para resolver un problema en relación con el tamaño de entrada. Los dos recursos principales que se consideran son el tiempo de ejecución y el espacio de memoria requerido.\n",
    "\n",
    "Las clases de complejidad se representan mediante notaciones matemáticas, como la notación \"O grande\" (Big O), y se clasifican en función de su crecimiento asintótico en relación con el tamaño de entrada. Algunas de las clases de complejidad más conocidas son:\n",
    "\n",
    "1. P: La clase de problemas resolubles en tiempo polinómico. Estos problemas pueden ser resueltos eficientemente en términos de tiempo de ejecución.\n",
    "\n",
    "2. NP: La clase de problemas para los cuales una solución se puede verificar en tiempo polinómico. No se ha demostrado si NP es igual a P o si es diferente.\n",
    "\n",
    "3. NP-completo: Una subclase de NP que contiene problemas que son tan difíciles como cualquier otro problema en NP. Si un problema NP-completo se puede resolver en tiempo polinómico, todos los problemas en NP también se pueden resolver en tiempo polinómico.\n",
    "\n",
    "4. NP-duro: Una clase de problemas que son al menos tan difíciles como los problemas NP-completos. No se requiere que los problemas NP-duros estén en NP.\n",
    "\n",
    "Las clases de complejidad proporcionan una forma de clasificar y comparar problemas en función de su dificultad computacional y de establecer límites para la eficiencia algorítmica. Además, el estudio de las clases de complejidad ayuda a comprender la relación entre diferentes tipos de problemas y a identificar problemas que pueden ser más difíciles de resolver que otros."
   ]
  },
  {
   "cell_type": "markdown",
   "id": "ab7bc5d6",
   "metadata": {},
   "source": [
    "# Ejemplos de problemas P y NP\n",
    "\n",
    "\n",
    "### Clase P (Problemas resolubles en tiempo polinómico):\n",
    "\n",
    "- Problema del ordenamiento: Dado un conjunto de elementos, se puede resolver eficientemente utilizando algoritmos de ordenamiento, como Quicksort o Mergesort, que tienen un tiempo de ejecución en el peor de los casos de O(n log n).\n",
    "\n",
    "- Problema de búsqueda binaria: Dado un arreglo ordenado y un elemento objetivo, se puede resolver utilizando la búsqueda binaria, que tiene un tiempo de ejecución en el peor de los casos de O(log n).\n",
    "\n",
    "- Problema de encontrar el máximo elemento: Dado un conjunto de elementos, se puede encontrar el elemento máximo recorriendo la lista una vez, lo cual tiene un tiempo de ejecución en el peor de los casos de O(n).\n",
    "\n",
    "### Clase NP (Problemas verificables en tiempo polinómico):\n",
    "\n",
    "- Problema del viajante de comercio (TSP): Dado un conjunto de ciudades y las distancias entre ellas, verificar si existe una ruta que visite todas las ciudades una vez y regrese al punto de partida con una longitud total menor o igual a un valor objetivo. Aunque resolver el TSP es NP-duro, se puede verificar una solución en tiempo polinómico verificando si la ruta propuesta visita cada ciudad exactamente una vez y si la longitud total es menor o igual al valor objetivo.\n",
    "\n",
    "- Problema del subconjunto: Dado un conjunto y un objetivo, verificar si existe un subconjunto cuya suma o producto sea igual al objetivo. Si se proporciona un subconjunto propuesto, se puede verificar en tiempo polinómico si la suma o el producto es igual al objetivo.\n",
    "\n",
    "Para los problemas en la clase NP, se puede verificar una solución propuesta en tiempo polinómico, pero no necesariamente se puede encontrar una solución en tiempo polinómico. \n",
    "\n",
    "La pregunta abierta en la teoría de la complejidad es si P es igual a NP, lo que implicaría que los problemas en NP también se pueden resolver en tiempo polinómico."
   ]
  },
  {
   "cell_type": "markdown",
   "id": "cd17cf24",
   "metadata": {},
   "source": [
    "## Buscar elementos repetidos"
   ]
  },
  {
   "cell_type": "code",
   "execution_count": 47,
   "id": "e92bba27",
   "metadata": {},
   "outputs": [],
   "source": [
    "def repetidos(arr):\n",
    "    for elemento_1 in arr:\n",
    "        for elemento_2 in arr:\n",
    "            if (elemento_1 == elemento_2):\n",
    "#                 print(elemento_1)\n",
    "                return True\n",
    "# O( N x N) = O (n²)"
   ]
  },
  {
   "cell_type": "code",
   "execution_count": 48,
   "id": "ebeb8910",
   "metadata": {},
   "outputs": [
    {
     "name": "stdout",
     "output_type": "stream",
     "text": [
      "185 ns ± 2.85 ns per loop (mean ± std. dev. of 7 runs, 10,000,000 loops each)\n"
     ]
    }
   ],
   "source": [
    "%timeit repetidos(arreglo)"
   ]
  },
  {
   "cell_type": "markdown",
   "id": "9dcf84b1",
   "metadata": {},
   "source": [
    "# Insertion sort"
   ]
  },
  {
   "cell_type": "markdown",
   "id": "cc8d22a7",
   "metadata": {},
   "source": [
    "https://visualgo.net/en/sorting"
   ]
  },
  {
   "cell_type": "markdown",
   "id": "4e96bdb3",
   "metadata": {},
   "source": [
    "El algoritmo recorre la lista desde el segundo elemento hasta el final, y en cada paso compara el valor actual con los elementos anteriores. Si encuentra un elemento mayor que el valor actual, desplaza ese elemento una posición hacia adelante para hacer espacio y luego coloca el valor actual en su posición correcta."
   ]
  },
  {
   "cell_type": "code",
   "execution_count": 1,
   "id": "1d01b39c",
   "metadata": {},
   "outputs": [],
   "source": [
    "def insertion_sort(arr):\n",
    "    \"\"\"\n",
    "    Ordena una lista utilizando el algoritmo de ordenamiento por inserción.\n",
    "\n",
    "    Args:\n",
    "        arr (list): La lista a ordenar.\n",
    "\n",
    "    Returns:\n",
    "        list: La lista ordenada.\n",
    "    \"\"\"\n",
    "    # Recorremos desde el segundo elemento hasta el final de la lista\n",
    "    for i in range(1, len(arr)):\n",
    "        # Almacenamos el valor actual y lo comparamos con los elementos anteriores\n",
    "        current = arr[i]\n",
    "        j = i - 1\n",
    "\n",
    "        # Desplazamos los elementos mayores que el valor actual una posición hacia adelante\n",
    "        while j >= 0 and arr[j] > current:\n",
    "            arr[j + 1] = arr[j]\n",
    "            j -= 1\n",
    "\n",
    "        # Colocamos el valor actual en su posición correcta\n",
    "        arr[j + 1] = current\n",
    "\n",
    "    return arr\n"
   ]
  },
  {
   "cell_type": "code",
   "execution_count": 2,
   "id": "d7348a02",
   "metadata": {},
   "outputs": [
    {
     "ename": "NameError",
     "evalue": "name 'arreglo' is not defined",
     "output_type": "error",
     "traceback": [
      "\u001b[1;31m---------------------------------------------------------------------------\u001b[0m",
      "\u001b[1;31mNameError\u001b[0m                                 Traceback (most recent call last)",
      "\u001b[1;32m~\\AppData\\Local\\Temp\\ipykernel_14212\\2145259438.py\u001b[0m in \u001b[0;36m<module>\u001b[1;34m\u001b[0m\n\u001b[1;32m----> 1\u001b[1;33m \u001b[0minsertion_sort\u001b[0m\u001b[1;33m(\u001b[0m\u001b[0marreglo\u001b[0m\u001b[1;33m)\u001b[0m\u001b[1;33m\u001b[0m\u001b[1;33m\u001b[0m\u001b[0m\n\u001b[0m",
      "\u001b[1;31mNameError\u001b[0m: name 'arreglo' is not defined"
     ]
    }
   ],
   "source": [
    "insertion_sort(arreglo)"
   ]
  },
  {
   "cell_type": "markdown",
   "id": "a72759be",
   "metadata": {},
   "source": [
    "- **Peor caso**:  \n",
    "En el peor de los casos, cuando la lista de entrada está en orden inverso, se deben realizar comparaciones e intercambios en cada iteración del bucle principal. Por lo tanto, el número de comparaciones e intercambios es aproximadamente n/2 para una lista de longitud n. Esto da como resultado una complejidad de tiempo de O(n^2) en el peor caso.\n",
    "\n",
    "- **Mejor caso**:  \n",
    "En el mejor de los casos, cuando la lista de entrada ya está ordenada, no se realizarán intercambios en el bucle interno. Sin embargo, aún se deben realizar comparaciones en cada iteración del bucle principal. En este caso, el número de comparaciones es aproximadamente n-1. Por lo tanto, la complejidad de tiempo en el mejor caso es O(n).\n",
    "\n",
    "- **Caso promedio**:  \n",
    "En el caso promedio, el rendimiento del algoritmo de ordenamiento por inserción se encuentra entre el mejor y el peor caso. Por lo tanto, la complejidad de tiempo promedio es O(n^2).\n",
    "\n",
    "En cuanto a la **complejidad de espacio**, el algoritmo de ordenamiento por inserción utiliza una cantidad constante de espacio adicional para almacenar variables temporales. Por lo tanto, la complejidad de espacio es O(1).\n",
    "\n",
    "Es importante tener en cuenta que el algoritmo de ordenamiento por inserción es eficiente para listas pequeñas o casi ordenadas, pero su rendimiento puede deteriorarse rápidamente para listas más grandes debido a su complejidad cuadrática. \n",
    "\n",
    "Si fuera necesario ordenar listas grandes, existen otros algoritmos más eficientes, como el algoritmo de ordenamiento rápido (quicksort) o el algoritmo de ordenamiento por mezcla (mergesort), que tienen una complejidad de tiempo promedio de O(n log n)."
   ]
  },
  {
   "cell_type": "markdown",
   "id": "1589aad7",
   "metadata": {},
   "source": [
    "# BubbleSort"
   ]
  },
  {
   "cell_type": "markdown",
   "id": "dcca402d",
   "metadata": {},
   "source": [
    "1. Recorré los elementos: si dos items adyacentes estan desordenados, hacé un swap.\n",
    "\n",
    "2. Si terminas un recorrido sin hacer un swap, ya está ordenado."
   ]
  },
  {
   "cell_type": "code",
   "execution_count": 3,
   "id": "9454452d",
   "metadata": {},
   "outputs": [],
   "source": [
    "def bubble_sort(arr):\n",
    "    \"\"\"\n",
    "    Ordena una lista utilizando el algoritmo de ordenamiento de burbuja.\n",
    "\n",
    "    Args:\n",
    "        arr (list): La lista a ordenar.\n",
    "\n",
    "    Returns:\n",
    "        list: La lista ordenada.\n",
    "    \"\"\"\n",
    "    n = len(arr)\n",
    "\n",
    "    # Recorremos la lista n - 1 veces\n",
    "    for i in range(n - 1):\n",
    "        # En cada iteración, se lleva el elemento más grande al final\n",
    "        for j in range(n - i - 1):\n",
    "            # Comparamos elementos adyacentes y los intercambiamos si están en el orden incorrecto\n",
    "            if arr[j] > arr[j + 1]:\n",
    "                arr[j], arr[j + 1] = arr[j + 1], arr[j]\n",
    "\n",
    "    return arr\n"
   ]
  },
  {
   "cell_type": "code",
   "execution_count": 19,
   "id": "a0d56ced",
   "metadata": {},
   "outputs": [
    {
     "name": "stdout",
     "output_type": "stream",
     "text": [
      "4.95 ms ± 55.5 µs per loop (mean ± std. dev. of 7 runs, 100 loops each)\n"
     ]
    }
   ],
   "source": [
    "%timeit bubble_sort(np.random.randint(0, 1000000, 100))"
   ]
  },
  {
   "cell_type": "markdown",
   "id": "514d3194",
   "metadata": {},
   "source": [
    "- **Peor caso**:  \n",
    "En el peor caso, el algoritmo de ordenamiento de burbuja debe recorrer la lista completa n-1 veces, donde n es la longitud de la lista. En cada iteración, se compara y se intercambian elementos adyacentes si están en el orden incorrecto. Esto implica que en cada pasada se coloca el elemento más grande en su posición correcta al final de la lista. Por lo tanto, en el peor caso, se realizan aproximadamente (n-1) + (n-2) + ... + 2 + 1 comparaciones e intercambios, lo que resulta en una complejidad de tiempo de O(n^2).\n",
    "\n",
    "- **Mejor caso**:  \n",
    "En el mejor caso, la lista ya está completamente ordenada, por lo que no se requieren intercambios en ninguna de las iteraciones. Sin embargo, el algoritmo aún debe realizar las comparaciones para verificar que la lista esté ordenada. Por lo tanto, en el mejor caso, se realizan n-1 comparaciones en cada una de las n-1 iteraciones del bucle principal, lo que da como resultado una complejidad de tiempo de O(n^2).\n",
    "\n",
    "- **Caso promedio**:  \n",
    "En el caso promedio, el rendimiento del algoritmo de ordenamiento de burbuja se encuentra entre el mejor y el peor caso. Por lo tanto, la complejidad de tiempo promedio también es O(n^2).\n",
    "\n",
    "En cuanto a la **complejidad de espacio**, el algoritmo de ordenamiento de burbuja utiliza una cantidad constante de espacio adicional para almacenar variables temporales. Por lo tanto, la complejidad de espacio es O(1).\n",
    "\n",
    "Es importante destacar que el algoritmo de ordenamiento de burbuja es generalmente menos eficiente que otros algoritmos de ordenamiento más avanzados, como el ordenamiento rápido (quicksort) o el ordenamiento por mezcla (mergesort), que tienen una complejidad de tiempo promedio de O(n log n). Sin embargo, el bubble sort puede ser útil en ciertos casos específicos, como cuando la lista está casi ordenada o cuando se necesita un algoritmo simple de implementar y entender."
   ]
  },
  {
   "cell_type": "code",
   "execution_count": 44,
   "id": "fb95eae3",
   "metadata": {},
   "outputs": [],
   "source": [
    "def evaluate_sorting_algorithms():\n",
    "    sizes = list(range(100, 1001, 100))  # Tamaños de lista a evaluar\n",
    "    bubble_sort_times = []\n",
    "    insertion_sort_times = []\n",
    "\n",
    "    for size in sizes:\n",
    "        unsorted_1 = random.sample(range(size), size)\n",
    "\n",
    "        start_time = time.time()\n",
    "        bubble_sort(unsorted_1)\n",
    "        end_time = time.time()\n",
    "        bubble_sort_time = end_time - start_time\n",
    "        bubble_sort_times.append(bubble_sort_time)\n",
    "        \n",
    "        unsorted_2 = random.sample(range(size), size)\n",
    "\n",
    "        start_time = time.time()\n",
    "        insertion_sort(unsorted_2)\n",
    "        end_time = time.time()\n",
    "        insertion_sort_time = end_time - start_time\n",
    "        insertion_sort_times.append(insertion_sort_time)\n",
    "\n",
    "    # Gráfico de rendimiento\n",
    "    plt.plot(sizes, [i**2 for i in np.linspace(0, 0.25, 10)], label='x^2')\n",
    "    plt.plot(sizes, bubble_sort_times, label='Bubble Sort')\n",
    "    plt.plot(sizes, insertion_sort_times, label='Insertion Sort')\n",
    "    plt.xlabel('Tamaño de la lista')\n",
    "    plt.ylabel('Tiempo de ejecución (segundos)')\n",
    "    plt.title('Rendimiento de los algoritmos de ordenamiento')\n",
    "    plt.legend()\n",
    "    plt.show()"
   ]
  },
  {
   "cell_type": "code",
   "execution_count": 43,
   "id": "b2864bb9",
   "metadata": {},
   "outputs": [
    {
     "data": {
      "image/png": "[encoded data removed]",
      "text/plain": [
       "<Figure size 640x480 with 1 Axes>"
      ]
     },
     "metadata": {},
     "output_type": "display_data"
    }
   ],
   "source": [
    "# Ejecutar la evaluación\n",
    "evaluate_sorting_algorithms()"
   ]
  },
  {
   "cell_type": "code",
   "execution_count": null,
   "id": "3ef017cd",
   "metadata": {},
   "outputs": [],
   "source": []
  }
 ],
 "metadata": {
  "kernelspec": {
   "display_name": "Python 3 (ipykernel)",
   "language": "python",
   "name": "python3"
  },
  "language_info": {
   "codemirror_mode": {
    "name": "ipython",
    "version": 3
   },
   "file_extension": ".py",
   "mimetype": "text/x-python",
   "name": "python",
   "nbconvert_exporter": "python",
   "pygments_lexer": "ipython3",
   "version": "3.9.13"
  }
 },
 "nbformat": 4,
 "nbformat_minor": 5
}
