{
 "cells": [
  {
   "cell_type": "markdown",
   "id": "8d5d45dd",
   "metadata": {
    "slideshow": {
     "slide_type": "slide"
    }
   },
   "source": [
    "# Clase 7: Árboles"
   ]
  },
  {
   "cell_type": "markdown",
   "id": "c4eb0d34",
   "metadata": {
    "slideshow": {
     "slide_type": "slide"
    }
   },
   "source": [
    "Los árboles son estructuras de datos que consiste en una serie de **nodos** conectados entre ellos y que se asemeja a un árbol (al revés). \n",
    "\n",
    "Para que una estructura de nodos sea un árbol tiene que ser:\n",
    "- **dirigido** (o sea que se pueda ir de un nodo al hijo, pero no al revés, como en las listas enlazadas)\n",
    "\n",
    "![Grafo](imagenes/undirected.png) "
   ]
  },
  {
   "cell_type": "markdown",
   "id": "e7faf3d9",
   "metadata": {},
   "source": [
    "![dirigido](imagenes/directed.png)"
   ]
  },
  {
   "cell_type": "markdown",
   "id": "14e7a062",
   "metadata": {},
   "source": [
    "- no tiene que tener **ciclos** (o sea que no exista un camino para llegar de un nodo al mismo nodo sin pasar dos veces por otro nodo)\n",
    "\n",
    "![ciclo](imagenes/ciclo.png)"
   ]
  },
  {
   "cell_type": "markdown",
   "id": "f9083063",
   "metadata": {},
   "source": [
    "- tiene que ser **conexo**, es decir que no haya nodos 'sueltos'\n",
    "\n",
    "![conexo](imagenes/no_conexo.png)"
   ]
  },
  {
   "cell_type": "markdown",
   "id": "0627eed1",
   "metadata": {},
   "source": [
    "- dos nodos cualesquiera tienen que estar conectados sólo por **un único camino**."
   ]
  },
  {
   "cell_type": "markdown",
   "id": "a7d8f3ef",
   "metadata": {},
   "source": [
    "Todo árbol tiene:\n",
    "\n",
    "- **Raíz** - El nodo superior del árbol.\n",
    "- **Hojas** - Nodos sin hijos.\n",
    "![raiz](imagenes/tiposdenodos.png)\n",
    "- **Padre** - Nodo con hijos.\n",
    "- **Hijo** - Nodo descendiente de otro nodo.\n",
    "- **Hermanos** - Nodos que comparten el mismo padre.\n",
    "\n",
    "![parent](imagenes/nodospadrehijohermano.png)\n",
    "\n",
    "- **Nivel** - El nivel de un nodo está definido por el número de conexiones entre el nodo y la raíz.\n",
    "![niveles](imagenes/alturaniveles.png)\n",
    "- **Camino** - Una secuencia de nodos por los que tenemos que pasar para llegar de un nodo a otro."
   ]
  },
  {
   "cell_type": "markdown",
   "id": "156e2327",
   "metadata": {},
   "source": [
    "## Ejemplos\n",
    "\n",
    "- Casi todos los sistemas operativos almacenan sus **archivos** en árboles o estructuras similares a árboles.\n",
    "\n",
    "![dirtree](imagenes/dirtree.png)"
   ]
  },
  {
   "cell_type": "markdown",
   "id": "19ca3890",
   "metadata": {},
   "source": [
    "La definición de árbol es muy general, por ejemplo, **una lista enlazada es un árbol**, cuya raíz es la cabeza y cada nodo tiene un sólo hijo; es un caso particular de un árbol. \n",
    "\n",
    "Es más, **un árbol es un caso particular de un grafo**. \n",
    "\n",
    "También podemos definir al árbol de forma **recursiva**, ya que si lo pensamos, **cada nodo es un árbol**, o sea que un árbol está formado por árboles. Veamos algunos tipos de árboles que vamos a usar."
   ]
  },
  {
   "cell_type": "markdown",
   "id": "d756c348",
   "metadata": {},
   "source": [
    "### Arbol"
   ]
  },
  {
   "cell_type": "code",
   "execution_count": 50,
   "id": "9114c2c0",
   "metadata": {},
   "outputs": [],
   "source": [
    "class Nodo:\n",
    "    \n",
    "    def __init__(self, dato):\n",
    "        self.valor = dato\n",
    "        return None\n",
    "    \n",
    "    def setValor(self, dato):\n",
    "        self.valor = dato"
   ]
  },
  {
   "cell_type": "code",
   "execution_count": 51,
   "id": "1f0ff22c",
   "metadata": {},
   "outputs": [],
   "source": [
    "class Arbol:\n",
    "    \n",
    "    def __init__(self):\n",
    "        self.raiz = None\n",
    "        self.hijos = []\n",
    "        return None\n",
    "    \n",
    "    def insertarNodo(self, dato):\n",
    "        nodo = Nodo(dato)\n",
    "        if self.raiz == None:\n",
    "            self.raiz = nodo\n",
    "            return None\n",
    "        else:\n",
    "            nodo_hijo = Arbol()\n",
    "            nodo_hijo.raiz = nodo\n",
    "            self.hijos.append(nodo_hijo)\n",
    "            return None\n",
    "    \n",
    "    def verRaiz(self):\n",
    "        return self.raiz\n",
    "    \n",
    "    def verHijos(self):\n",
    "        return [self.hijos[i].raiz.valor for i in range(len(self.hijos))]\n",
    "    \n",
    "    \n",
    "    def imprimirArbol(self, espacio=0):\n",
    "        if self.raiz:\n",
    "            print('    ' * espacio + str(self.raiz.valor))\n",
    "            for nodo in self.hijos:\n",
    "                nodo.imprimirArbol(espacio + 1)\n",
    "        return None"
   ]
  },
  {
   "cell_type": "code",
   "execution_count": 52,
   "id": "16a6c6d8",
   "metadata": {},
   "outputs": [],
   "source": [
    "arbol = Arbol()"
   ]
  },
  {
   "cell_type": "code",
   "execution_count": 53,
   "id": "295ac4f6",
   "metadata": {},
   "outputs": [
    {
     "name": "stdout",
     "output_type": "stream",
     "text": [
      "None\n"
     ]
    }
   ],
   "source": [
    "print(arbol.raiz)"
   ]
  },
  {
   "cell_type": "code",
   "execution_count": 54,
   "id": "a15d2829",
   "metadata": {},
   "outputs": [
    {
     "data": {
      "text/plain": [
       "[]"
      ]
     },
     "execution_count": 54,
     "metadata": {},
     "output_type": "execute_result"
    }
   ],
   "source": [
    "arbol.hijos"
   ]
  },
  {
   "cell_type": "code",
   "execution_count": 55,
   "id": "c1de3081",
   "metadata": {},
   "outputs": [],
   "source": [
    "arbol.insertarNodo(10)"
   ]
  },
  {
   "cell_type": "code",
   "execution_count": 56,
   "id": "9768aa92",
   "metadata": {},
   "outputs": [
    {
     "name": "stdout",
     "output_type": "stream",
     "text": [
      "<__main__.Nodo object at 0x0000019B27EF9BB0>\n",
      "<class '__main__.Nodo'>\n"
     ]
    }
   ],
   "source": [
    "print(arbol.raiz)\n",
    "print(type(arbol.raiz))"
   ]
  },
  {
   "cell_type": "code",
   "execution_count": 57,
   "id": "df71a80b",
   "metadata": {},
   "outputs": [],
   "source": [
    "nodo_raiz = arbol.raiz"
   ]
  },
  {
   "cell_type": "code",
   "execution_count": 58,
   "id": "2b62d934",
   "metadata": {},
   "outputs": [
    {
     "data": {
      "text/plain": [
       "10"
      ]
     },
     "execution_count": 58,
     "metadata": {},
     "output_type": "execute_result"
    }
   ],
   "source": [
    "nodo_raiz.valor"
   ]
  },
  {
   "cell_type": "code",
   "execution_count": 59,
   "id": "a4434946",
   "metadata": {},
   "outputs": [
    {
     "data": {
      "text/plain": [
       "10"
      ]
     },
     "execution_count": 59,
     "metadata": {},
     "output_type": "execute_result"
    }
   ],
   "source": [
    "arbol.raiz.valor"
   ]
  },
  {
   "cell_type": "code",
   "execution_count": 60,
   "id": "48d6799c",
   "metadata": {},
   "outputs": [],
   "source": [
    "arbol.insertarNodo(20)"
   ]
  },
  {
   "cell_type": "code",
   "execution_count": 61,
   "id": "bd838e0f",
   "metadata": {},
   "outputs": [],
   "source": [
    "arbol.insertarNodo(30)"
   ]
  },
  {
   "cell_type": "code",
   "execution_count": 62,
   "id": "06563c7e",
   "metadata": {},
   "outputs": [
    {
     "data": {
      "text/plain": [
       "10"
      ]
     },
     "execution_count": 62,
     "metadata": {},
     "output_type": "execute_result"
    }
   ],
   "source": [
    "arbol.raiz.valor"
   ]
  },
  {
   "cell_type": "code",
   "execution_count": 63,
   "id": "a8ce802d",
   "metadata": {},
   "outputs": [
    {
     "data": {
      "text/plain": [
       "[<__main__.Arbol at 0x19b27ef9460>, <__main__.Arbol at 0x19b27ef9820>]"
      ]
     },
     "execution_count": 63,
     "metadata": {},
     "output_type": "execute_result"
    }
   ],
   "source": [
    "arbol.hijos"
   ]
  },
  {
   "cell_type": "code",
   "execution_count": 64,
   "id": "0033e8c7",
   "metadata": {},
   "outputs": [
    {
     "data": {
      "text/plain": [
       "[20, 30]"
      ]
     },
     "execution_count": 64,
     "metadata": {},
     "output_type": "execute_result"
    }
   ],
   "source": [
    "[arbol.raiz.valor for arbol in arbol.hijos]"
   ]
  },
  {
   "cell_type": "code",
   "execution_count": 65,
   "id": "70511f42",
   "metadata": {},
   "outputs": [
    {
     "data": {
      "text/plain": [
       "[20, 30]"
      ]
     },
     "execution_count": 65,
     "metadata": {},
     "output_type": "execute_result"
    }
   ],
   "source": [
    "arbol.verHijos()"
   ]
  },
  {
   "cell_type": "code",
   "execution_count": 66,
   "id": "4e78c3d3",
   "metadata": {},
   "outputs": [
    {
     "name": "stdout",
     "output_type": "stream",
     "text": [
      "10\n",
      "    20\n",
      "    30\n"
     ]
    }
   ],
   "source": [
    "arbol.imprimirArbol()"
   ]
  },
  {
   "cell_type": "code",
   "execution_count": 67,
   "id": "ad857a9c",
   "metadata": {},
   "outputs": [],
   "source": [
    "arbol.hijos[0].insertarNodo(100)"
   ]
  },
  {
   "cell_type": "code",
   "execution_count": 68,
   "id": "5498635c",
   "metadata": {},
   "outputs": [
    {
     "name": "stdout",
     "output_type": "stream",
     "text": [
      "10\n",
      "    20\n",
      "        100\n",
      "    30\n"
     ]
    }
   ],
   "source": [
    "arbol.imprimirArbol()"
   ]
  },
  {
   "cell_type": "code",
   "execution_count": 71,
   "id": "b08dff6f",
   "metadata": {},
   "outputs": [],
   "source": [
    "arbol.raiz.setValor(500)"
   ]
  },
  {
   "cell_type": "code",
   "execution_count": 73,
   "id": "15fe9a28",
   "metadata": {},
   "outputs": [
    {
     "data": {
      "text/plain": [
       "500"
      ]
     },
     "execution_count": 73,
     "metadata": {},
     "output_type": "execute_result"
    }
   ],
   "source": [
    "arbol.raiz.valor"
   ]
  },
  {
   "cell_type": "code",
   "execution_count": 74,
   "id": "6b4e1bbc",
   "metadata": {},
   "outputs": [
    {
     "name": "stdout",
     "output_type": "stream",
     "text": [
      "500\n",
      "    20\n",
      "        100\n",
      "    30\n"
     ]
    }
   ],
   "source": [
    "arbol.imprimirArbol()"
   ]
  },
  {
   "cell_type": "code",
   "execution_count": 87,
   "id": "fc7be98b",
   "metadata": {},
   "outputs": [],
   "source": [
    "arbol.hijos[0].hijos[0].insertarNodo(1000)"
   ]
  },
  {
   "cell_type": "code",
   "execution_count": 78,
   "id": "f84591c9",
   "metadata": {},
   "outputs": [
    {
     "data": {
      "text/plain": [
       "[20, 30]"
      ]
     },
     "execution_count": 78,
     "metadata": {},
     "output_type": "execute_result"
    }
   ],
   "source": [
    "arbol.verHijos()"
   ]
  },
  {
   "cell_type": "code",
   "execution_count": 88,
   "id": "26e7ad9d",
   "metadata": {},
   "outputs": [
    {
     "name": "stdout",
     "output_type": "stream",
     "text": [
      "500\n",
      "    20\n",
      "        100\n",
      "            1000\n",
      "    30\n"
     ]
    }
   ],
   "source": [
    "arbol.imprimirArbol()"
   ]
  },
  {
   "cell_type": "code",
   "execution_count": 90,
   "id": "1e3bf977",
   "metadata": {},
   "outputs": [
    {
     "data": {
      "text/plain": [
       "1000"
      ]
     },
     "execution_count": 90,
     "metadata": {},
     "output_type": "execute_result"
    }
   ],
   "source": [
    "arbol.hijos[0].hijos[0].hijos[0].raiz.valor"
   ]
  },
  {
   "cell_type": "code",
   "execution_count": 92,
   "id": "a301a42c",
   "metadata": {},
   "outputs": [],
   "source": [
    "arbol.hijos[1].insertarNodo(300)"
   ]
  },
  {
   "cell_type": "code",
   "execution_count": 93,
   "id": "1f12b6b4",
   "metadata": {},
   "outputs": [
    {
     "name": "stdout",
     "output_type": "stream",
     "text": [
      "500\n",
      "    20\n",
      "        100\n",
      "            1000\n",
      "    30\n",
      "        300\n"
     ]
    }
   ],
   "source": [
    "arbol.imprimirArbol()"
   ]
  },
  {
   "cell_type": "code",
   "execution_count": 94,
   "id": "930c5cf9",
   "metadata": {},
   "outputs": [],
   "source": [
    "arbol.raiz.setValor(10)"
   ]
  },
  {
   "cell_type": "code",
   "execution_count": 95,
   "id": "8819394c",
   "metadata": {},
   "outputs": [
    {
     "data": {
      "text/plain": [
       "10"
      ]
     },
     "execution_count": 95,
     "metadata": {},
     "output_type": "execute_result"
    }
   ],
   "source": [
    "arbol.raiz.valor"
   ]
  },
  {
   "cell_type": "code",
   "execution_count": 96,
   "id": "e0cffa49",
   "metadata": {},
   "outputs": [
    {
     "name": "stdout",
     "output_type": "stream",
     "text": [
      "10\n",
      "    20\n",
      "        100\n",
      "            1000\n",
      "    30\n",
      "        300\n"
     ]
    }
   ],
   "source": [
    "arbol.imprimirArbol()"
   ]
  },
  {
   "cell_type": "code",
   "execution_count": 97,
   "id": "1b262ed1",
   "metadata": {},
   "outputs": [],
   "source": [
    "arbol.insertarNodo(50)"
   ]
  },
  {
   "cell_type": "code",
   "execution_count": 98,
   "id": "3f98f3e4",
   "metadata": {},
   "outputs": [
    {
     "name": "stdout",
     "output_type": "stream",
     "text": [
      "10\n",
      "    20\n",
      "        100\n",
      "            1000\n",
      "    30\n",
      "        300\n",
      "    50\n"
     ]
    }
   ],
   "source": [
    "arbol.imprimirArbol()"
   ]
  },
  {
   "cell_type": "code",
   "execution_count": null,
   "id": "170bfed6",
   "metadata": {},
   "outputs": [],
   "source": []
  },
  {
   "cell_type": "code",
   "execution_count": null,
   "id": "c95dd816",
   "metadata": {},
   "outputs": [],
   "source": []
  },
  {
   "cell_type": "code",
   "execution_count": null,
   "id": "af4486ec",
   "metadata": {},
   "outputs": [],
   "source": []
  },
  {
   "cell_type": "markdown",
   "id": "69ec66af",
   "metadata": {},
   "source": [
    "### Árbol binario\n",
    "\n",
    "Este es un árbol particular que tiene como característica que la cantidad máxima de hijos que puede tener un nodo está restringida a dos."
   ]
  },
  {
   "cell_type": "markdown",
   "id": "7b0c106e",
   "metadata": {},
   "source": [
    "Un árbol de este estilo puede estar **balanceado** o no"
   ]
  },
  {
   "cell_type": "code",
   "execution_count": 125,
   "id": "fafc2bd8",
   "metadata": {},
   "outputs": [],
   "source": [
    "class ArbolBinario(Arbol):\n",
    "    \n",
    "    def insertarNodo(self, dato):\n",
    "        nodo = Nodo(dato)\n",
    "        if self.raiz == None:\n",
    "            self.raiz = nodo\n",
    "            \n",
    "        elif len(self.hijos) < 2:\n",
    "            nodo_hijo = ArbolBinario()\n",
    "            nodo_hijo.raiz = nodo\n",
    "            self.hijos.append(nodo_hijo)\n",
    "        else:\n",
    "            print(\"No pueden insertarse más nodos hijos en este nodo\")\n",
    "        return None"
   ]
  },
  {
   "cell_type": "code",
   "execution_count": 126,
   "id": "ddc50deb",
   "metadata": {},
   "outputs": [],
   "source": [
    "binario = ArbolBinario()"
   ]
  },
  {
   "cell_type": "code",
   "execution_count": 127,
   "id": "f7584f32",
   "metadata": {},
   "outputs": [
    {
     "name": "stdout",
     "output_type": "stream",
     "text": [
      "None\n"
     ]
    }
   ],
   "source": [
    "print(binario.raiz)"
   ]
  },
  {
   "cell_type": "code",
   "execution_count": 128,
   "id": "df0d35c1",
   "metadata": {},
   "outputs": [
    {
     "data": {
      "text/plain": [
       "[]"
      ]
     },
     "execution_count": 128,
     "metadata": {},
     "output_type": "execute_result"
    }
   ],
   "source": [
    "binario.hijos"
   ]
  },
  {
   "cell_type": "code",
   "execution_count": 129,
   "id": "d41984f6",
   "metadata": {},
   "outputs": [],
   "source": [
    "binario.insertarNodo(0)"
   ]
  },
  {
   "cell_type": "code",
   "execution_count": 130,
   "id": "63dec65f",
   "metadata": {},
   "outputs": [
    {
     "data": {
      "text/plain": [
       "0"
      ]
     },
     "execution_count": 130,
     "metadata": {},
     "output_type": "execute_result"
    }
   ],
   "source": [
    "binario.raiz.valor"
   ]
  },
  {
   "cell_type": "code",
   "execution_count": 131,
   "id": "2bf547f7",
   "metadata": {},
   "outputs": [
    {
     "name": "stdout",
     "output_type": "stream",
     "text": [
      "0\n"
     ]
    }
   ],
   "source": [
    "binario.imprimirArbol()"
   ]
  },
  {
   "cell_type": "code",
   "execution_count": 132,
   "id": "053263f2",
   "metadata": {},
   "outputs": [],
   "source": [
    "binario.insertarNodo(10)"
   ]
  },
  {
   "cell_type": "code",
   "execution_count": 133,
   "id": "1278b4dd",
   "metadata": {},
   "outputs": [
    {
     "name": "stdout",
     "output_type": "stream",
     "text": [
      "0\n",
      "    10\n"
     ]
    }
   ],
   "source": [
    "binario.imprimirArbol()"
   ]
  },
  {
   "cell_type": "code",
   "execution_count": 134,
   "id": "8a925448",
   "metadata": {},
   "outputs": [],
   "source": [
    "binario.insertarNodo(20)"
   ]
  },
  {
   "cell_type": "code",
   "execution_count": 135,
   "id": "907f00df",
   "metadata": {},
   "outputs": [
    {
     "name": "stdout",
     "output_type": "stream",
     "text": [
      "0\n",
      "    10\n",
      "    20\n"
     ]
    }
   ],
   "source": [
    "binario.imprimirArbol()"
   ]
  },
  {
   "cell_type": "code",
   "execution_count": 136,
   "id": "3d627ad1",
   "metadata": {},
   "outputs": [
    {
     "name": "stdout",
     "output_type": "stream",
     "text": [
      "No pueden insertarse más nodos hijos en este nodo\n"
     ]
    }
   ],
   "source": [
    "binario.insertarNodo(30)"
   ]
  },
  {
   "cell_type": "code",
   "execution_count": 137,
   "id": "c1e122e3",
   "metadata": {},
   "outputs": [],
   "source": [
    "binario.hijos[0].insertarNodo(100)"
   ]
  },
  {
   "cell_type": "code",
   "execution_count": 138,
   "id": "cee6ca99",
   "metadata": {},
   "outputs": [
    {
     "name": "stdout",
     "output_type": "stream",
     "text": [
      "0\n",
      "    10\n",
      "        100\n",
      "    20\n"
     ]
    }
   ],
   "source": [
    "binario.imprimirArbol()"
   ]
  },
  {
   "cell_type": "code",
   "execution_count": 139,
   "id": "9c902f9f",
   "metadata": {},
   "outputs": [],
   "source": [
    "binario.hijos[0].insertarNodo(200)"
   ]
  },
  {
   "cell_type": "code",
   "execution_count": 140,
   "id": "75cecb99",
   "metadata": {},
   "outputs": [
    {
     "name": "stdout",
     "output_type": "stream",
     "text": [
      "No pueden insertarse más nodos hijos en este nodo\n"
     ]
    }
   ],
   "source": [
    "binario.hijos[0].insertarNodo(300)"
   ]
  },
  {
   "cell_type": "code",
   "execution_count": 141,
   "id": "1b12691f",
   "metadata": {},
   "outputs": [],
   "source": [
    "binario.hijos[1].insertarNodo(300)"
   ]
  },
  {
   "cell_type": "code",
   "execution_count": 142,
   "id": "b09d6986",
   "metadata": {},
   "outputs": [],
   "source": [
    "binario.hijos[1].insertarNodo(400)"
   ]
  },
  {
   "cell_type": "code",
   "execution_count": 143,
   "id": "cb65e1b4",
   "metadata": {},
   "outputs": [
    {
     "name": "stdout",
     "output_type": "stream",
     "text": [
      "No pueden insertarse más nodos hijos en este nodo\n"
     ]
    }
   ],
   "source": [
    "binario.hijos[1].insertarNodo(500)"
   ]
  },
  {
   "cell_type": "code",
   "execution_count": 144,
   "id": "fcda9f1e",
   "metadata": {},
   "outputs": [
    {
     "name": "stdout",
     "output_type": "stream",
     "text": [
      "0\n",
      "    10\n",
      "        100\n",
      "        200\n",
      "    20\n",
      "        300\n",
      "        400\n"
     ]
    }
   ],
   "source": [
    "binario.imprimirArbol()"
   ]
  },
  {
   "cell_type": "code",
   "execution_count": null,
   "id": "6e521548",
   "metadata": {},
   "outputs": [],
   "source": []
  },
  {
   "cell_type": "code",
   "execution_count": null,
   "id": "79baa59d",
   "metadata": {},
   "outputs": [],
   "source": []
  },
  {
   "cell_type": "markdown",
   "id": "39364663",
   "metadata": {},
   "source": [
    "### Árbol AVL\n",
    "\n",
    "Los árboles AVL (por sus inventores Georgy Adelson-Velsky y Evgenii Landis) es un **árbol binario de búsqueda**, pero que mantiene todo el tiempo al árbol **balanceado**. \n",
    "\n",
    "Básicamente lo que hace es, cada vez que se inserta o saca un nodo controla que todos los nodos estén balanceados. Y si no lo están **reacomoda** el árbol de tal forma que queden balanceados.\n",
    "\n",
    "Las operaciones de **insertar** y **sacar** son muchos más caras que las de cualquier otra estructura. Pero nos da la posibilidad de estar seguros que nunca vamos a tardar más de log n pasos en buscar un elemento. Según la naturaleza del problema que tengamos, nos va a convenir este método o no."
   ]
  },
  {
   "cell_type": "markdown",
   "id": "ef55d03e",
   "metadata": {},
   "source": [
    "\n",
    "![AVL](imagenes/AVL-Tree1.jpg)"
   ]
  },
  {
   "cell_type": "markdown",
   "id": "8f6684e4",
   "metadata": {},
   "source": [
    "![No_AVL](imagenes/Not-AVL1.jpg)"
   ]
  },
  {
   "cell_type": "markdown",
   "id": "b7536b16",
   "metadata": {},
   "source": [
    "### Heap\n",
    "\n",
    "Un heap es un árbol binario, con las condiciónes que \n",
    "- cada nodo tiene que contener un valor **igual o mayor que los de sus hijos**\n",
    "- **que sea completo** es decir que todas las hojas estén en el último nivel del árbol (o uno menos) y además que esté completo desde la izquierda.\n",
    "\n",
    "Cuando se construye un heap al agregar cada valor, tenemos que buscar la posición que les corresponde. O sea, que en cada paso vamos a tener que ir reacomodando el árbol para que siga siendo un heap."
   ]
  },
  {
   "cell_type": "markdown",
   "id": "a9ac8f8e",
   "metadata": {},
   "source": [
    "![heap](imagenes/heap.png)"
   ]
  },
  {
   "cell_type": "code",
   "execution_count": null,
   "id": "946b55e3",
   "metadata": {},
   "outputs": [],
   "source": []
  }
 ],
 "metadata": {
  "kernelspec": {
   "display_name": "Python 3 (ipykernel)",
   "language": "python",
   "name": "python3"
  },
  "language_info": {
   "codemirror_mode": {
    "name": "ipython",
    "version": 3
   },
   "file_extension": ".py",
   "mimetype": "text/x-python",
   "name": "python",
   "nbconvert_exporter": "python",
   "pygments_lexer": "ipython3",
   "version": "3.9.13"
  },
  "vscode": {
   "interpreter": {
    "hash": "24db0e425a899b595982fbe2dea540dfaa86d21b0466e3b13bf2e3dc218744e1"
   }
  }
 },
 "nbformat": 4,
 "nbformat_minor": 5
}
