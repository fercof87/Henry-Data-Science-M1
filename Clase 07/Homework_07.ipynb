{
 "cells": [
  {
   "attachments": {},
   "cell_type": "markdown",
   "metadata": {},
   "source": [
    "# Práctica Clase 7"
   ]
  },
  {
   "attachments": {},
   "cell_type": "markdown",
   "metadata": {},
   "source": [
    "1) Diseñar una clase que permita trabajar con un árbol binario y que contenga los métodos:<br>\n",
    "    * insertaVal: para insertar un dato<br>\n",
    "    * buscaVal: que devuelva True o False si existe o no un dato<br>\n",
    "    * verVal: que imprima por pantalla los valores del árbol<br>\n",
    "\n",
    "Nota: Se puede utilizar la recursividad\n"
   ]
  },
  {
   "cell_type": "code",
   "execution_count": 33,
   "metadata": {},
   "outputs": [],
   "source": [
    "class Nodo():\n",
    "    \n",
    "    def __init__(self, dato):\n",
    "        self.dato = dato\n",
    "        self.izq = None\n",
    "        self.der = None"
   ]
  },
  {
   "cell_type": "code",
   "execution_count": 34,
   "metadata": {},
   "outputs": [],
   "source": [
    "class Arbol():\n",
    "\n",
    "\n",
    "    def __init__(self):\n",
    "        self.raiz = None\n",
    "    \n",
    "\n",
    "    def insertaVal(self,valor):\n",
    "        nuevo_nodo = Nodo(valor)\n",
    "\n",
    "        if(self.raiz is None):\n",
    "            self.raiz = nuevo_nodo\n",
    "        else:\n",
    "            nodo_actual = self.raiz\n",
    "            while(True):\n",
    "                if(valor < nodo_actual.dato):\n",
    "                    if(nodo_actual.izq is None):\n",
    "                        nodo_actual.izq = nuevo_nodo\n",
    "                        break   \n",
    "                    else:\n",
    "                        nodo_actual = nodo_actual.izq\n",
    "                elif(valor > nodo_actual.dato):\n",
    "                    if(nodo_actual.der is None):\n",
    "                        nodo_actual.der = nuevo_nodo\n",
    "                        break\n",
    "                    else:\n",
    "                        nodo_actual = nodo_actual.der\n",
    "                else:\n",
    "                    break\n",
    "\n",
    "        return None\n",
    "    \n",
    "\n",
    "    def buscaVal(self, valor):\n",
    "        nodo_actual = self.raiz\n",
    "        \n",
    "        while(nodo_actual != None):\n",
    "            if(valor < nodo_actual.dato):\n",
    "                nodo_actual = nodo_actual.izq\n",
    "            elif(valor > nodo_actual.dato):\n",
    "                nodo_actual = nodo_actual.der\n",
    "            else:\n",
    "                return True  \n",
    "        return False\n",
    "    \n",
    "\n",
    "    def verVal(self, nodo=None, espacio=0):\n",
    "        if nodo is not None:\n",
    "            self.verVal(nodo.izq, espacio + 1)\n",
    "            print(\"    \" * espacio + str(nodo.dato) + \"\\n\")\n",
    "            self.verVal(nodo.der, espacio + 1)\n",
    "    \n",
    "    def verVal2(self, nodo=None, espacio=0):\n",
    "        if nodo is not None:\n",
    "            self.verVal(nodo.der, espacio + 1)\n",
    "            print(\"    \" * espacio + str(nodo.dato) + \"\\n\")\n",
    "            self.verVal(nodo.izq, espacio + 1)\n"
   ]
  },
  {
   "cell_type": "code",
   "execution_count": 35,
   "metadata": {},
   "outputs": [],
   "source": [
    "arbol = Arbol()"
   ]
  },
  {
   "cell_type": "code",
   "execution_count": 27,
   "metadata": {},
   "outputs": [
    {
     "name": "stdout",
     "output_type": "stream",
     "text": [
      "None\n"
     ]
    }
   ],
   "source": [
    "print(arbol.raiz)"
   ]
  },
  {
   "cell_type": "code",
   "execution_count": 10,
   "metadata": {},
   "outputs": [],
   "source": [
    "arbol.insertaVal(0)"
   ]
  },
  {
   "cell_type": "code",
   "execution_count": 28,
   "metadata": {},
   "outputs": [
    {
     "ename": "AttributeError",
     "evalue": "'NoneType' object has no attribute 'dato'",
     "output_type": "error",
     "traceback": [
      "\u001b[1;31m---------------------------------------------------------------------------\u001b[0m",
      "\u001b[1;31mAttributeError\u001b[0m                            Traceback (most recent call last)",
      "Cell \u001b[1;32mIn[28], line 1\u001b[0m\n\u001b[1;32m----> 1\u001b[0m arbol\u001b[39m.\u001b[39;49mraiz\u001b[39m.\u001b[39;49mdato\n",
      "\u001b[1;31mAttributeError\u001b[0m: 'NoneType' object has no attribute 'dato'"
     ]
    }
   ],
   "source": [
    "arbol.raiz.dato"
   ]
  },
  {
   "cell_type": "code",
   "execution_count": 16,
   "metadata": {},
   "outputs": [
    {
     "ename": "AttributeError",
     "evalue": "'NoneType' object has no attribute 'izq'",
     "output_type": "error",
     "traceback": [
      "\u001b[1;31m---------------------------------------------------------------------------\u001b[0m",
      "\u001b[1;31mAttributeError\u001b[0m                            Traceback (most recent call last)",
      "Cell \u001b[1;32mIn[16], line 1\u001b[0m\n\u001b[1;32m----> 1\u001b[0m \u001b[39mprint\u001b[39m(arbol\u001b[39m.\u001b[39;49mraiz\u001b[39m.\u001b[39;49mizq)\n\u001b[0;32m      2\u001b[0m \u001b[39mprint\u001b[39m(arbol\u001b[39m.\u001b[39mraiz\u001b[39m.\u001b[39mder)\n",
      "\u001b[1;31mAttributeError\u001b[0m: 'NoneType' object has no attribute 'izq'"
     ]
    }
   ],
   "source": [
    "print(arbol.raiz.izq)\n",
    "print(arbol.raiz.der)"
   ]
  },
  {
   "cell_type": "code",
   "execution_count": 36,
   "metadata": {},
   "outputs": [],
   "source": [
    "for i in range(-10,-50,-10):\n",
    "    arbol.insertaVal(i)"
   ]
  },
  {
   "cell_type": "code",
   "execution_count": 37,
   "metadata": {},
   "outputs": [],
   "source": [
    "for i in range(10,50,10):\n",
    "    arbol.insertaVal(i)"
   ]
  },
  {
   "cell_type": "code",
   "execution_count": 31,
   "metadata": {},
   "outputs": [
    {
     "data": {
      "text/plain": [
       "10"
      ]
     },
     "execution_count": 31,
     "metadata": {},
     "output_type": "execute_result"
    }
   ],
   "source": [
    "arbol.raiz.dato"
   ]
  },
  {
   "cell_type": "code",
   "execution_count": 38,
   "metadata": {},
   "outputs": [
    {
     "name": "stdout",
     "output_type": "stream",
     "text": [
      "            -40\n",
      "\n",
      "        -30\n",
      "\n",
      "    -20\n",
      "\n",
      "-10\n",
      "\n",
      "    10\n",
      "\n",
      "        20\n",
      "\n",
      "            30\n",
      "\n",
      "                40\n",
      "\n"
     ]
    }
   ],
   "source": [
    "arbol.verVal(arbol.raiz)"
   ]
  },
  {
   "cell_type": "code",
   "execution_count": 39,
   "metadata": {},
   "outputs": [
    {
     "name": "stdout",
     "output_type": "stream",
     "text": [
      "    10\n",
      "\n",
      "        20\n",
      "\n",
      "            30\n",
      "\n",
      "                40\n",
      "\n",
      "-10\n",
      "\n",
      "            -40\n",
      "\n",
      "        -30\n",
      "\n",
      "    -20\n",
      "\n"
     ]
    }
   ],
   "source": [
    "arbol.verVal2(arbol.raiz)"
   ]
  }
 ],
 "metadata": {
  "kernelspec": {
   "display_name": "Python 3",
   "language": "python",
   "name": "python3"
  },
  "language_info": {
   "codemirror_mode": {
    "name": "ipython",
    "version": 3
   },
   "file_extension": ".py",
   "mimetype": "text/x-python",
   "name": "python",
   "nbconvert_exporter": "python",
   "pygments_lexer": "ipython3",
   "version": "3.11.3"
  }
 },
 "nbformat": 4,
 "nbformat_minor": 4
}
