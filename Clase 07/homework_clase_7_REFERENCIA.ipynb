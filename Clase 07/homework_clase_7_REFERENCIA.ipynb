{
 "cells": [
  {
   "cell_type": "markdown",
   "id": "78c9c90f",
   "metadata": {},
   "source": [
    "# Práctica Clase 7"
   ]
  },
  {
   "cell_type": "markdown",
   "id": "056b67de",
   "metadata": {},
   "source": [
    "Diseñar una clase que permita trabajar con un árbol binario y que contenga los métodos:\n",
    "\n",
    "`insertaVal`: para insertar un dato\n",
    "\n",
    "`buscaVal`: que devuelva True o False si existe o no un dato\n",
    "\n",
    "`verVal`: que imprima por pantalla los valores del árbol\n",
    "\n",
    "Nota: Se puede utilizar la recursividad"
   ]
  },
  {
   "cell_type": "code",
   "execution_count": 1,
   "id": "81895186",
   "metadata": {},
   "outputs": [],
   "source": [
    "class Nodo():\n",
    "    def __init__(self, dato):\n",
    "        \"\"\"\n",
    "        Inicializa un nodo con el valor dado.\n",
    "        \"\"\"\n",
    "        self.dato = dato\n",
    "        self.izq = None\n",
    "        self.der = None"
   ]
  },
  {
   "cell_type": "code",
   "execution_count": 40,
   "id": "164f0637",
   "metadata": {},
   "outputs": [],
   "source": [
    "class Arbol():\n",
    "    def __init__(self):\n",
    "        \"\"\"\n",
    "        Inicializa un árbol binario vacío.\n",
    "        \"\"\"\n",
    "        self.raiz = None\n",
    "\n",
    "    def insertaVal(self, valor):\n",
    "        \"\"\"\n",
    "        Inserta un nuevo nodo con el valor dado en el árbol.\n",
    "        \"\"\"\n",
    "        nuevo_nodo = Nodo(valor)  # Crea un nuevo nodo con el valor dado\n",
    "\n",
    "        if self.raiz is None:\n",
    "            # Si el árbol está vacío, el nuevo nodo se convierte en la raíz\n",
    "            self.raiz = nuevo_nodo\n",
    "        else:\n",
    "            nodo_actual = self.raiz\n",
    "            while True:\n",
    "                if valor < nodo_actual.dato:\n",
    "                    # Si el valor es menor, lo insertamos en el subárbol izquierdo\n",
    "                    if nodo_actual.izq is None:\n",
    "                        # Si no hay subárbol izquierdo, insertamos el nodo aquí\n",
    "                        nodo_actual.izq = nuevo_nodo\n",
    "                        break\n",
    "                    else:\n",
    "                        # Si hay subárbol izquierdo, continuamos la búsqueda en ese subárbol\n",
    "                        nodo_actual = nodo_actual.izq\n",
    "                elif valor > nodo_actual.dato:\n",
    "                    # Si el valor es mayor, lo insertamos en el subárbol derecho\n",
    "                    if nodo_actual.der is None:\n",
    "                        # Si no hay subárbol derecho, insertamos el nodo aquí\n",
    "                        nodo_actual.der = nuevo_nodo\n",
    "                        break\n",
    "                    else:\n",
    "                        # Si hay subárbol derecho, continuamos la búsqueda en ese subárbol\n",
    "                        nodo_actual = nodo_actual.der\n",
    "                else:\n",
    "                    # Si el valor ya existe en el árbol, no hacemos nada\n",
    "                    break\n",
    "\n",
    "    def buscaVal(self, valor):\n",
    "        \"\"\"\n",
    "        Busca un nodo con el valor dado en el árbol y devuelve True si se encuentra, False en caso contrario.\n",
    "        \"\"\"\n",
    "        nodo_actual = self.raiz\n",
    "        while nodo_actual is not None:\n",
    "            if valor < nodo_actual.dato:\n",
    "                # Si el valor es menor, buscamos en el subárbol izquierdo\n",
    "                nodo_actual = nodo_actual.izq\n",
    "            elif valor > nodo_actual.dato:\n",
    "                # Si el valor es mayor, buscamos en el subárbol derecho\n",
    "                nodo_actual = nodo_actual.der\n",
    "            else:\n",
    "                # El valor coincide, se encuentra en el árbol\n",
    "                return True\n",
    "        # No se encontró el valor en el árbol\n",
    "        return False\n",
    "        \n",
    "    def verVal(self, nodo, espacio=0):\n",
    "        \"\"\"\n",
    "        Imprime los valores del árbol en orden ascendente.\n",
    "        \"\"\"\n",
    "        if nodo is not None:\n",
    "            self.verVal(nodo.izq, espacio + 1) # Imprimir subárbol izquierdo\n",
    "            print('        ' * espacio + str(nodo.dato) + '\\n') # Imprimir el valor del nodo actual\n",
    "            self.verVal(nodo.der, espacio + 1) # Imprimir subárbol derecho"
   ]
  },
  {
   "cell_type": "code",
   "execution_count": 41,
   "id": "af020b3c",
   "metadata": {},
   "outputs": [],
   "source": [
    "arbol = Arbol()"
   ]
  },
  {
   "cell_type": "code",
   "execution_count": 42,
   "id": "bd0b63d4",
   "metadata": {},
   "outputs": [
    {
     "name": "stdout",
     "output_type": "stream",
     "text": [
      "None\n"
     ]
    }
   ],
   "source": [
    "print(arbol.raiz)"
   ]
  },
  {
   "cell_type": "code",
   "execution_count": 43,
   "id": "ed0d28d1",
   "metadata": {},
   "outputs": [],
   "source": [
    "arbol.insertaVal(0)"
   ]
  },
  {
   "cell_type": "code",
   "execution_count": 44,
   "id": "7ece65c5",
   "metadata": {},
   "outputs": [
    {
     "data": {
      "text/plain": [
       "0"
      ]
     },
     "execution_count": 44,
     "metadata": {},
     "output_type": "execute_result"
    }
   ],
   "source": [
    "arbol.raiz.dato"
   ]
  },
  {
   "cell_type": "code",
   "execution_count": 45,
   "id": "fc729d7c",
   "metadata": {},
   "outputs": [
    {
     "name": "stdout",
     "output_type": "stream",
     "text": [
      "0\n",
      "\n"
     ]
    }
   ],
   "source": [
    "arbol.verVal(arbol.raiz)"
   ]
  },
  {
   "cell_type": "code",
   "execution_count": 46,
   "id": "7fb61c96",
   "metadata": {},
   "outputs": [],
   "source": [
    "for i in range(-10, -50, -10):\n",
    "    arbol.insertaVal(i)"
   ]
  },
  {
   "cell_type": "code",
   "execution_count": 47,
   "id": "f1fad1a0",
   "metadata": {},
   "outputs": [],
   "source": [
    "for i in range(10, 50, 10):\n",
    "    arbol.insertaVal(i)"
   ]
  },
  {
   "cell_type": "code",
   "execution_count": 48,
   "id": "a2186a2e",
   "metadata": {},
   "outputs": [],
   "source": [
    "for i in range(-45, 50, 10):\n",
    "    arbol.insertaVal(i)"
   ]
  },
  {
   "cell_type": "code",
   "execution_count": 49,
   "id": "46e15cf7",
   "metadata": {},
   "outputs": [],
   "source": [
    "for i in range(-47, 50, 5):\n",
    "    arbol.insertaVal(i)"
   ]
  },
  {
   "cell_type": "code",
   "execution_count": 50,
   "id": "3137a196",
   "metadata": {},
   "outputs": [
    {
     "name": "stdout",
     "output_type": "stream",
     "text": [
      "                                                -47\n",
      "\n",
      "                                        -45\n",
      "\n",
      "                                                -42\n",
      "\n",
      "                                -40\n",
      "\n",
      "                                                -37\n",
      "\n",
      "                                        -35\n",
      "\n",
      "                                                -32\n",
      "\n",
      "                        -30\n",
      "\n",
      "                                        -27\n",
      "\n",
      "                                -25\n",
      "\n",
      "                                        -22\n",
      "\n",
      "                -20\n",
      "\n",
      "                                -17\n",
      "\n",
      "                        -15\n",
      "\n",
      "                                -12\n",
      "\n",
      "        -10\n",
      "\n",
      "                        -7\n",
      "\n",
      "                -5\n",
      "\n",
      "                        -2\n",
      "\n",
      "0\n",
      "\n",
      "                        3\n",
      "\n",
      "                5\n",
      "\n",
      "                        8\n",
      "\n",
      "        10\n",
      "\n",
      "                                13\n",
      "\n",
      "                        15\n",
      "\n",
      "                                18\n",
      "\n",
      "                20\n",
      "\n",
      "                                        23\n",
      "\n",
      "                                25\n",
      "\n",
      "                                        28\n",
      "\n",
      "                        30\n",
      "\n",
      "                                                33\n",
      "\n",
      "                                        35\n",
      "\n",
      "                                                38\n",
      "\n",
      "                                40\n",
      "\n",
      "                                                43\n",
      "\n",
      "                                        45\n",
      "\n",
      "                                                48\n",
      "\n"
     ]
    }
   ],
   "source": [
    "arbol.verVal(arbol.raiz)"
   ]
  },
  {
   "cell_type": "code",
   "execution_count": 13,
   "id": "04ee244e",
   "metadata": {},
   "outputs": [
    {
     "data": {
      "text/plain": [
       "0"
      ]
     },
     "execution_count": 13,
     "metadata": {},
     "output_type": "execute_result"
    }
   ],
   "source": [
    "arbol.raiz.dato"
   ]
  },
  {
   "cell_type": "code",
   "execution_count": 14,
   "id": "70fbf0be",
   "metadata": {},
   "outputs": [
    {
     "name": "stdout",
     "output_type": "stream",
     "text": [
      "-10\n"
     ]
    }
   ],
   "source": [
    "print(arbol.raiz.izq.dato)"
   ]
  },
  {
   "cell_type": "code",
   "execution_count": 15,
   "id": "0c95a19e",
   "metadata": {},
   "outputs": [
    {
     "data": {
      "text/plain": [
       "True"
      ]
     },
     "execution_count": 15,
     "metadata": {},
     "output_type": "execute_result"
    }
   ],
   "source": [
    "arbol.buscaVal(5)"
   ]
  },
  {
   "cell_type": "code",
   "execution_count": 16,
   "id": "cfa93a4f",
   "metadata": {},
   "outputs": [
    {
     "data": {
      "text/plain": [
       "True"
      ]
     },
     "execution_count": 16,
     "metadata": {},
     "output_type": "execute_result"
    }
   ],
   "source": [
    "arbol.buscaVal(10)"
   ]
  },
  {
   "cell_type": "code",
   "execution_count": 17,
   "id": "00fe7b89",
   "metadata": {},
   "outputs": [
    {
     "data": {
      "text/plain": [
       "True"
      ]
     },
     "execution_count": 17,
     "metadata": {},
     "output_type": "execute_result"
    }
   ],
   "source": [
    "arbol.buscaVal(-20)"
   ]
  },
  {
   "cell_type": "code",
   "execution_count": null,
   "id": "0b34948b",
   "metadata": {},
   "outputs": [],
   "source": []
  }
 ],
 "metadata": {
  "kernelspec": {
   "display_name": "Python 3 (ipykernel)",
   "language": "python",
   "name": "python3"
  },
  "language_info": {
   "codemirror_mode": {
    "name": "ipython",
    "version": 3
   },
   "file_extension": ".py",
   "mimetype": "text/x-python",
   "name": "python",
   "nbconvert_exporter": "python",
   "pygments_lexer": "ipython3",
   "version": "3.9.13"
  }
 },
 "nbformat": 4,
 "nbformat_minor": 5
}
