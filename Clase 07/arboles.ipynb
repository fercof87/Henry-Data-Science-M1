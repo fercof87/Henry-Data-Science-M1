{
 "cells": [
  {
   "cell_type": "code",
   "execution_count": 37,
   "metadata": {},
   "outputs": [],
   "source": [
    "class Nodo:\n",
    "    \n",
    "    def __init__(self,dato):\n",
    "        self.valor = dato\n",
    "\n",
    "    def setValor(self,valor):\n",
    "        self.valor = valor\n",
    "\n",
    "class Arbol:\n",
    "\n",
    "    def __init__(self):\n",
    "        self.raiz = None\n",
    "        self.hijos = []\n",
    "\n",
    "    def insertarNodo(self,dato):\n",
    "        nodo = Nodo(dato)\n",
    "        if self.raiz == None:\n",
    "            self.raiz = nodo\n",
    "        else:\n",
    "            nodo_hijo = Arbol()\n",
    "            nodo_hijo.raiz = nodo\n",
    "            self.hijos.append(nodo_hijo)\n",
    "        return None\n",
    "    \n",
    "    def verRaiz(self):\n",
    "        return self.raiz\n",
    "\n",
    "    def verHijos(self):\n",
    "        return [self.hijos[i].raiz.valor for i in range(len(self.hijos))]\n",
    "    \n",
    "    def imprimirArbol(self, espacio =0):\n",
    "        if self.raiz:\n",
    "            print(\"    \" * espacio + str(self.raiz.valor))\n",
    "            for nodo in self.hijos:\n",
    "                    nodo.imprimirArbol(espacio + 1)\n",
    "        return None\n"
   ]
  },
  {
   "cell_type": "code",
   "execution_count": 18,
   "metadata": {},
   "outputs": [],
   "source": [
    "arbol = Arbol()"
   ]
  },
  {
   "cell_type": "code",
   "execution_count": 19,
   "metadata": {},
   "outputs": [
    {
     "name": "stdout",
     "output_type": "stream",
     "text": [
      "None\n"
     ]
    }
   ],
   "source": [
    "print(arbol.raiz)"
   ]
  },
  {
   "cell_type": "code",
   "execution_count": 20,
   "metadata": {},
   "outputs": [
    {
     "name": "stdout",
     "output_type": "stream",
     "text": [
      "[]\n"
     ]
    }
   ],
   "source": [
    "print(arbol.hijos)"
   ]
  },
  {
   "cell_type": "code",
   "execution_count": 21,
   "metadata": {},
   "outputs": [],
   "source": [
    "arbol.insertarNodo(10)"
   ]
  },
  {
   "cell_type": "code",
   "execution_count": 22,
   "metadata": {},
   "outputs": [
    {
     "name": "stdout",
     "output_type": "stream",
     "text": [
      "<__main__.Nodo object at 0x0000019DC1F29150>\n",
      "<class '__main__.Nodo'>\n"
     ]
    }
   ],
   "source": [
    "print(arbol.raiz)\n",
    "print(type(arbol.raiz))"
   ]
  },
  {
   "cell_type": "code",
   "execution_count": 23,
   "metadata": {},
   "outputs": [],
   "source": [
    "nodo_raiz = arbol.raiz"
   ]
  },
  {
   "cell_type": "code",
   "execution_count": 24,
   "metadata": {},
   "outputs": [
    {
     "data": {
      "text/plain": [
       "10"
      ]
     },
     "execution_count": 24,
     "metadata": {},
     "output_type": "execute_result"
    }
   ],
   "source": [
    "nodo_raiz.valor"
   ]
  },
  {
   "cell_type": "code",
   "execution_count": 25,
   "metadata": {},
   "outputs": [
    {
     "data": {
      "text/plain": [
       "10"
      ]
     },
     "execution_count": 25,
     "metadata": {},
     "output_type": "execute_result"
    }
   ],
   "source": [
    "arbol.raiz.valor"
   ]
  },
  {
   "cell_type": "code",
   "execution_count": 26,
   "metadata": {},
   "outputs": [],
   "source": [
    "arbol.insertarNodo(20)\n",
    "arbol.insertarNodo(30)"
   ]
  },
  {
   "cell_type": "code",
   "execution_count": 27,
   "metadata": {},
   "outputs": [
    {
     "data": {
      "text/plain": [
       "10"
      ]
     },
     "execution_count": 27,
     "metadata": {},
     "output_type": "execute_result"
    }
   ],
   "source": [
    "arbol.raiz.valor"
   ]
  },
  {
   "cell_type": "code",
   "execution_count": 28,
   "metadata": {},
   "outputs": [
    {
     "data": {
      "text/plain": [
       "[<__main__.Arbol at 0x19dc1f03f10>, <__main__.Arbol at 0x19dc1f29910>]"
      ]
     },
     "execution_count": 28,
     "metadata": {},
     "output_type": "execute_result"
    }
   ],
   "source": [
    "arbol.hijos"
   ]
  },
  {
   "cell_type": "code",
   "execution_count": 29,
   "metadata": {},
   "outputs": [
    {
     "data": {
      "text/plain": [
       "[20, 30]"
      ]
     },
     "execution_count": 29,
     "metadata": {},
     "output_type": "execute_result"
    }
   ],
   "source": [
    "[arbol.raiz.valor for arbol in arbol.hijos]"
   ]
  },
  {
   "cell_type": "code",
   "execution_count": 30,
   "metadata": {},
   "outputs": [
    {
     "data": {
      "text/plain": [
       "[20, 30]"
      ]
     },
     "execution_count": 30,
     "metadata": {},
     "output_type": "execute_result"
    }
   ],
   "source": [
    "arbol.verHijos()"
   ]
  },
  {
   "cell_type": "code",
   "execution_count": null,
   "metadata": {},
   "outputs": [],
   "source": [
    "arbol.hijos"
   ]
  },
  {
   "cell_type": "code",
   "execution_count": 39,
   "metadata": {},
   "outputs": [
    {
     "ename": "AttributeError",
     "evalue": "'Arbol' object has no attribute 'valor'",
     "output_type": "error",
     "traceback": [
      "\u001b[1;31m---------------------------------------------------------------------------\u001b[0m",
      "\u001b[1;31mAttributeError\u001b[0m                            Traceback (most recent call last)",
      "Cell \u001b[1;32mIn[39], line 1\u001b[0m\n\u001b[1;32m----> 1\u001b[0m arbol\u001b[39m.\u001b[39;49mimprimirArbol()\n",
      "Cell \u001b[1;32mIn[17], line 30\u001b[0m, in \u001b[0;36mArbol.imprimirArbol\u001b[1;34m(self, espacio)\u001b[0m\n\u001b[0;32m     28\u001b[0m \u001b[39mdef\u001b[39;00m \u001b[39mimprimirArbol\u001b[39m(\u001b[39mself\u001b[39m, espacio \u001b[39m=\u001b[39m\u001b[39m0\u001b[39m):\n\u001b[0;32m     29\u001b[0m     \u001b[39mif\u001b[39;00m \u001b[39mself\u001b[39m\u001b[39m.\u001b[39mraiz:\n\u001b[1;32m---> 30\u001b[0m         \u001b[39mprint\u001b[39m(\u001b[39m\"\u001b[39m\u001b[39m    \u001b[39m\u001b[39m\"\u001b[39m \u001b[39m*\u001b[39m espacio \u001b[39m+\u001b[39m \u001b[39mstr\u001b[39m(\u001b[39mself\u001b[39;49m\u001b[39m.\u001b[39;49mvalor))\n\u001b[0;32m     31\u001b[0m         \u001b[39mfor\u001b[39;00m nodo \u001b[39min\u001b[39;00m \u001b[39mself\u001b[39m\u001b[39m.\u001b[39mhijos:\n\u001b[0;32m     32\u001b[0m                 nodo\u001b[39m.\u001b[39mimprimirArbol(espacio \u001b[39m+\u001b[39m\u001b[39m1\u001b[39m)\n",
      "\u001b[1;31mAttributeError\u001b[0m: 'Arbol' object has no attribute 'valor'"
     ]
    }
   ],
   "source": [
    "arbol.imprimirArbol()"
   ]
  },
  {
   "cell_type": "code",
   "execution_count": 40,
   "metadata": {},
   "outputs": [],
   "source": [
    "class ArbolBinario(Arbol):\n",
    "    \n",
    "    def __init__(self,dato):\n",
    "        nodo = Nodo(dato)\n",
    "        if self.raiz == None:\n",
    "            self.raiz = nodo\n",
    "        elif len(self.hijos) < 2:\n",
    "            nodo_hijo = ArbolBinario()\n",
    "            nodo_hijo.raiz = nodo\n",
    "            self.hijos.append(nodo_hijo)\n",
    "        else:\n",
    "            print(\"No pueden insertarse mas nodos en este nivel\")\n",
    "        return None"
   ]
  },
  {
   "cell_type": "code",
   "execution_count": 41,
   "metadata": {},
   "outputs": [
    {
     "ename": "TypeError",
     "evalue": "ArbolBinario.__init__() missing 1 required positional argument: 'dato'",
     "output_type": "error",
     "traceback": [
      "\u001b[1;31m---------------------------------------------------------------------------\u001b[0m",
      "\u001b[1;31mTypeError\u001b[0m                                 Traceback (most recent call last)",
      "Cell \u001b[1;32mIn[41], line 1\u001b[0m\n\u001b[1;32m----> 1\u001b[0m binario \u001b[39m=\u001b[39m ArbolBinario()\n",
      "\u001b[1;31mTypeError\u001b[0m: ArbolBinario.__init__() missing 1 required positional argument: 'dato'"
     ]
    }
   ],
   "source": [
    "binario = ArbolBinario()"
   ]
  }
 ],
 "metadata": {
  "kernelspec": {
   "display_name": "Python 3",
   "language": "python",
   "name": "python3"
  },
  "language_info": {
   "codemirror_mode": {
    "name": "ipython",
    "version": 3
   },
   "file_extension": ".py",
   "mimetype": "text/x-python",
   "name": "python",
   "nbconvert_exporter": "python",
   "pygments_lexer": "ipython3",
   "version": "3.11.3"
  },
  "orig_nbformat": 4
 },
 "nbformat": 4,
 "nbformat_minor": 2
}
