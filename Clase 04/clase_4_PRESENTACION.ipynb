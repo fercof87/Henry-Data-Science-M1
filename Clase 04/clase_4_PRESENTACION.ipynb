{
 "cells": [
  {
   "cell_type": "markdown",
   "id": "4540918a",
   "metadata": {},
   "source": [
    "# Pandas"
   ]
  },
  {
   "cell_type": "code",
   "execution_count": 1,
   "id": "0a967a47",
   "metadata": {},
   "outputs": [],
   "source": [
    "# !pip install pandas"
   ]
  },
  {
   "cell_type": "code",
   "execution_count": 2,
   "id": "ec3078fa",
   "metadata": {},
   "outputs": [],
   "source": [
    "import pandas as pd\n",
    "import numpy as np"
   ]
  },
  {
   "cell_type": "markdown",
   "id": "26bf9f5b",
   "metadata": {},
   "source": [
    "# Series"
   ]
  },
  {
   "cell_type": "code",
   "execution_count": 5,
   "id": "4bf06bb7",
   "metadata": {},
   "outputs": [],
   "source": [
    "lista = ['Matemática', 'Historia', 'Economía', 'Programación', 'Inglés']"
   ]
  },
  {
   "cell_type": "code",
   "execution_count": 7,
   "id": "969e9e05",
   "metadata": {},
   "outputs": [
    {
     "data": {
      "text/plain": [
       "['Matemática', 'Historia', 'Economía', 'Programación', 'Inglés']"
      ]
     },
     "execution_count": 7,
     "metadata": {},
     "output_type": "execute_result"
    }
   ],
   "source": [
    "lista"
   ]
  },
  {
   "cell_type": "code",
   "execution_count": 8,
   "id": "9c8048cf",
   "metadata": {},
   "outputs": [
    {
     "data": {
      "text/plain": [
       "list"
      ]
     },
     "execution_count": 8,
     "metadata": {},
     "output_type": "execute_result"
    }
   ],
   "source": [
    "type(lista)"
   ]
  },
  {
   "cell_type": "code",
   "execution_count": 9,
   "id": "4c3d3638",
   "metadata": {},
   "outputs": [],
   "source": [
    "series_1 = pd.Series(lista, dtype='string')"
   ]
  },
  {
   "cell_type": "code",
   "execution_count": 10,
   "id": "2f1f3647",
   "metadata": {},
   "outputs": [
    {
     "data": {
      "text/plain": [
       "0      Matemática\n",
       "1        Historia\n",
       "2        Economía\n",
       "3    Programación\n",
       "4          Inglés\n",
       "dtype: string"
      ]
     },
     "execution_count": 10,
     "metadata": {},
     "output_type": "execute_result"
    }
   ],
   "source": [
    "series_1"
   ]
  },
  {
   "cell_type": "code",
   "execution_count": 11,
   "id": "7b306558",
   "metadata": {},
   "outputs": [
    {
     "data": {
      "text/plain": [
       "pandas.core.series.Series"
      ]
     },
     "execution_count": 11,
     "metadata": {},
     "output_type": "execute_result"
    }
   ],
   "source": [
    "type(series_1)"
   ]
  },
  {
   "cell_type": "code",
   "execution_count": 12,
   "id": "740c4117",
   "metadata": {},
   "outputs": [],
   "source": [
    "np_lista = np.arange(10, 100, 10)"
   ]
  },
  {
   "cell_type": "code",
   "execution_count": 13,
   "id": "9bcf8e50",
   "metadata": {},
   "outputs": [
    {
     "data": {
      "text/plain": [
       "array([10, 20, 30, 40, 50, 60, 70, 80, 90])"
      ]
     },
     "execution_count": 13,
     "metadata": {},
     "output_type": "execute_result"
    }
   ],
   "source": [
    "np_lista"
   ]
  },
  {
   "cell_type": "code",
   "execution_count": 15,
   "id": "be129a3e",
   "metadata": {},
   "outputs": [
    {
     "data": {
      "text/plain": [
       "0    10\n",
       "1    20\n",
       "2    30\n",
       "3    40\n",
       "4    50\n",
       "5    60\n",
       "6    70\n",
       "7    80\n",
       "8    90\n",
       "dtype: int32"
      ]
     },
     "execution_count": 15,
     "metadata": {},
     "output_type": "execute_result"
    }
   ],
   "source": [
    "pd.Series(np_lista)"
   ]
  },
  {
   "cell_type": "code",
   "execution_count": 16,
   "id": "8c2ab7ef",
   "metadata": {},
   "outputs": [],
   "source": [
    "diccionario = {'Matemática': 6.0, 'Economía': 4.5, 'Programación': 8.5}"
   ]
  },
  {
   "cell_type": "code",
   "execution_count": 20,
   "id": "c58e0f32",
   "metadata": {},
   "outputs": [],
   "source": [
    "series_2 = pd.Series(diccionario)"
   ]
  },
  {
   "cell_type": "code",
   "execution_count": 21,
   "id": "998a5380",
   "metadata": {},
   "outputs": [
    {
     "data": {
      "text/plain": [
       "Matemática      6.0\n",
       "Economía        4.5\n",
       "Programación    8.5\n",
       "dtype: float64"
      ]
     },
     "execution_count": 21,
     "metadata": {},
     "output_type": "execute_result"
    }
   ],
   "source": [
    "series_2"
   ]
  },
  {
   "cell_type": "code",
   "execution_count": 22,
   "id": "f6b65b55",
   "metadata": {},
   "outputs": [
    {
     "data": {
      "text/plain": [
       "4.5"
      ]
     },
     "execution_count": 22,
     "metadata": {},
     "output_type": "execute_result"
    }
   ],
   "source": [
    "series_2[1]"
   ]
  },
  {
   "cell_type": "code",
   "execution_count": 25,
   "id": "14a8df5e",
   "metadata": {},
   "outputs": [],
   "source": [
    "serie_3 = pd.Series(np.random.randint(1, 11, 20))"
   ]
  },
  {
   "cell_type": "code",
   "execution_count": 26,
   "id": "dad72920",
   "metadata": {},
   "outputs": [
    {
     "data": {
      "text/plain": [
       "0      9\n",
       "1      3\n",
       "2      8\n",
       "3      9\n",
       "4      6\n",
       "5      9\n",
       "6     10\n",
       "7      1\n",
       "8      6\n",
       "9      2\n",
       "10     5\n",
       "11     6\n",
       "12     8\n",
       "13     3\n",
       "14     4\n",
       "15     4\n",
       "16     4\n",
       "17    10\n",
       "18     7\n",
       "19     3\n",
       "dtype: int32"
      ]
     },
     "execution_count": 26,
     "metadata": {},
     "output_type": "execute_result"
    }
   ],
   "source": [
    "serie_3"
   ]
  },
  {
   "cell_type": "code",
   "execution_count": 30,
   "id": "88067d53",
   "metadata": {},
   "outputs": [
    {
     "data": {
      "text/plain": [
       "20"
      ]
     },
     "execution_count": 30,
     "metadata": {},
     "output_type": "execute_result"
    }
   ],
   "source": [
    "serie_3.size"
   ]
  },
  {
   "cell_type": "code",
   "execution_count": 32,
   "id": "821f2b98",
   "metadata": {},
   "outputs": [
    {
     "data": {
      "text/plain": [
       "20"
      ]
     },
     "execution_count": 32,
     "metadata": {},
     "output_type": "execute_result"
    }
   ],
   "source": [
    "len(serie_3)"
   ]
  },
  {
   "cell_type": "code",
   "execution_count": 28,
   "id": "55af800a",
   "metadata": {},
   "outputs": [
    {
     "data": {
      "text/plain": [
       "RangeIndex(start=0, stop=20, step=1)"
      ]
     },
     "execution_count": 28,
     "metadata": {},
     "output_type": "execute_result"
    }
   ],
   "source": [
    "serie_3.index"
   ]
  },
  {
   "cell_type": "code",
   "execution_count": 29,
   "id": "ecce0cb6",
   "metadata": {},
   "outputs": [
    {
     "data": {
      "text/plain": [
       "Index(['Matemática', 'Economía', 'Programación'], dtype='object')"
      ]
     },
     "execution_count": 29,
     "metadata": {},
     "output_type": "execute_result"
    }
   ],
   "source": [
    "series_2.index"
   ]
  },
  {
   "cell_type": "code",
   "execution_count": 33,
   "id": "216e6f4e",
   "metadata": {},
   "outputs": [
    {
     "data": {
      "text/plain": [
       "dtype('int32')"
      ]
     },
     "execution_count": 33,
     "metadata": {},
     "output_type": "execute_result"
    }
   ],
   "source": [
    "serie_3.dtype"
   ]
  },
  {
   "cell_type": "code",
   "execution_count": 34,
   "id": "edc508bf",
   "metadata": {},
   "outputs": [
    {
     "data": {
      "text/plain": [
       "0      9\n",
       "1      3\n",
       "2      8\n",
       "3      9\n",
       "4      6\n",
       "5      9\n",
       "6     10\n",
       "7      1\n",
       "8      6\n",
       "9      2\n",
       "10     5\n",
       "11     6\n",
       "12     8\n",
       "13     3\n",
       "14     4\n",
       "15     4\n",
       "16     4\n",
       "17    10\n",
       "18     7\n",
       "19     3\n",
       "dtype: int32"
      ]
     },
     "execution_count": 34,
     "metadata": {},
     "output_type": "execute_result"
    }
   ],
   "source": [
    "serie_3"
   ]
  },
  {
   "cell_type": "code",
   "execution_count": 38,
   "id": "42dd605d",
   "metadata": {},
   "outputs": [
    {
     "data": {
      "text/plain": [
       "10    5\n",
       "12    8\n",
       "14    4\n",
       "dtype: int32"
      ]
     },
     "execution_count": 38,
     "metadata": {},
     "output_type": "execute_result"
    }
   ],
   "source": [
    "serie_3[10:15:2]"
   ]
  },
  {
   "cell_type": "code",
   "execution_count": 39,
   "id": "e1b62c6c",
   "metadata": {},
   "outputs": [
    {
     "data": {
      "text/plain": [
       "Matemática      6.0\n",
       "Economía        4.5\n",
       "Programación    8.5\n",
       "dtype: float64"
      ]
     },
     "execution_count": 39,
     "metadata": {},
     "output_type": "execute_result"
    }
   ],
   "source": [
    "series_2"
   ]
  },
  {
   "cell_type": "code",
   "execution_count": 41,
   "id": "d0f6d20d",
   "metadata": {},
   "outputs": [
    {
     "data": {
      "text/plain": [
       "4.5"
      ]
     },
     "execution_count": 41,
     "metadata": {},
     "output_type": "execute_result"
    }
   ],
   "source": [
    "series_2[1]"
   ]
  },
  {
   "cell_type": "code",
   "execution_count": 42,
   "id": "7c739271",
   "metadata": {},
   "outputs": [
    {
     "data": {
      "text/plain": [
       "6.0"
      ]
     },
     "execution_count": 42,
     "metadata": {},
     "output_type": "execute_result"
    }
   ],
   "source": [
    "series_2['Matemática']"
   ]
  },
  {
   "cell_type": "code",
   "execution_count": 43,
   "id": "6cdfb533",
   "metadata": {},
   "outputs": [
    {
     "data": {
      "text/plain": [
       "4.5"
      ]
     },
     "execution_count": 43,
     "metadata": {},
     "output_type": "execute_result"
    }
   ],
   "source": [
    "series_2['Economía']"
   ]
  },
  {
   "cell_type": "code",
   "execution_count": 44,
   "id": "9cefdf1f",
   "metadata": {},
   "outputs": [
    {
     "data": {
      "text/plain": [
       "0      9\n",
       "1      3\n",
       "2      8\n",
       "3      9\n",
       "4      6\n",
       "5      9\n",
       "6     10\n",
       "7      1\n",
       "8      6\n",
       "9      2\n",
       "10     5\n",
       "11     6\n",
       "12     8\n",
       "13     3\n",
       "14     4\n",
       "15     4\n",
       "16     4\n",
       "17    10\n",
       "18     7\n",
       "19     3\n",
       "dtype: int32"
      ]
     },
     "execution_count": 44,
     "metadata": {},
     "output_type": "execute_result"
    }
   ],
   "source": [
    "serie_3"
   ]
  },
  {
   "cell_type": "code",
   "execution_count": 46,
   "id": "6013b836",
   "metadata": {},
   "outputs": [
    {
     "data": {
      "text/plain": [
       "20"
      ]
     },
     "execution_count": 46,
     "metadata": {},
     "output_type": "execute_result"
    }
   ],
   "source": [
    "serie_3.count()"
   ]
  },
  {
   "cell_type": "code",
   "execution_count": 47,
   "id": "0dc02707",
   "metadata": {},
   "outputs": [
    {
     "data": {
      "text/plain": [
       "117"
      ]
     },
     "execution_count": 47,
     "metadata": {},
     "output_type": "execute_result"
    }
   ],
   "source": [
    "serie_3.sum()"
   ]
  },
  {
   "cell_type": "code",
   "execution_count": 50,
   "id": "e0292002",
   "metadata": {},
   "outputs": [
    {
     "name": "stdout",
     "output_type": "stream",
     "text": [
      "0      9\n",
      "1      3\n",
      "2      8\n",
      "3      9\n",
      "4      6\n",
      "5      9\n",
      "6     10\n",
      "7      1\n",
      "8      6\n",
      "9      2\n",
      "10     5\n",
      "11     6\n",
      "12     8\n",
      "13     3\n",
      "14     4\n",
      "15     4\n",
      "16     4\n",
      "17    10\n",
      "18     7\n",
      "19     3\n",
      "dtype: int32\n",
      "0       9\n",
      "1      12\n",
      "2      20\n",
      "3      29\n",
      "4      35\n",
      "5      44\n",
      "6      54\n",
      "7      55\n",
      "8      61\n",
      "9      63\n",
      "10     68\n",
      "11     74\n",
      "12     82\n",
      "13     85\n",
      "14     89\n",
      "15     93\n",
      "16     97\n",
      "17    107\n",
      "18    114\n",
      "19    117\n",
      "dtype: int32\n"
     ]
    }
   ],
   "source": [
    "print(serie_3)\n",
    "print(serie_3.cumsum())"
   ]
  },
  {
   "cell_type": "code",
   "execution_count": 51,
   "id": "aba213be",
   "metadata": {},
   "outputs": [
    {
     "data": {
      "text/plain": [
       "9     3\n",
       "3     3\n",
       "6     3\n",
       "4     3\n",
       "8     2\n",
       "10    2\n",
       "1     1\n",
       "2     1\n",
       "5     1\n",
       "7     1\n",
       "dtype: int64"
      ]
     },
     "execution_count": 51,
     "metadata": {},
     "output_type": "execute_result"
    }
   ],
   "source": [
    "serie_3.value_counts()"
   ]
  },
  {
   "cell_type": "code",
   "execution_count": 52,
   "id": "086a6c86",
   "metadata": {},
   "outputs": [
    {
     "data": {
      "text/plain": [
       "10"
      ]
     },
     "execution_count": 52,
     "metadata": {},
     "output_type": "execute_result"
    }
   ],
   "source": [
    "serie_3.max()"
   ]
  },
  {
   "cell_type": "code",
   "execution_count": 53,
   "id": "173ea28d",
   "metadata": {},
   "outputs": [
    {
     "data": {
      "text/plain": [
       "1"
      ]
     },
     "execution_count": 53,
     "metadata": {},
     "output_type": "execute_result"
    }
   ],
   "source": [
    "serie_3.min()"
   ]
  },
  {
   "cell_type": "code",
   "execution_count": 54,
   "id": "f24507e3",
   "metadata": {},
   "outputs": [
    {
     "data": {
      "text/plain": [
       "5.85"
      ]
     },
     "execution_count": 54,
     "metadata": {},
     "output_type": "execute_result"
    }
   ],
   "source": [
    "serie_3.mean()"
   ]
  },
  {
   "cell_type": "code",
   "execution_count": 55,
   "id": "1548d3c2",
   "metadata": {},
   "outputs": [
    {
     "data": {
      "text/plain": [
       "2.796143961356707"
      ]
     },
     "execution_count": 55,
     "metadata": {},
     "output_type": "execute_result"
    }
   ],
   "source": [
    "serie_3.std()"
   ]
  },
  {
   "cell_type": "code",
   "execution_count": 56,
   "id": "3349e5ba",
   "metadata": {},
   "outputs": [
    {
     "data": {
      "text/plain": [
       "count    20.000000\n",
       "mean      5.850000\n",
       "std       2.796144\n",
       "min       1.000000\n",
       "25%       3.750000\n",
       "50%       6.000000\n",
       "75%       8.250000\n",
       "max      10.000000\n",
       "dtype: float64"
      ]
     },
     "execution_count": 56,
     "metadata": {},
     "output_type": "execute_result"
    }
   ],
   "source": [
    "serie_3.describe()"
   ]
  },
  {
   "cell_type": "code",
   "execution_count": 63,
   "id": "9f211000",
   "metadata": {},
   "outputs": [
    {
     "data": {
      "text/plain": [
       "10"
      ]
     },
     "execution_count": 63,
     "metadata": {},
     "output_type": "execute_result"
    }
   ],
   "source": [
    "serie_3.nunique()"
   ]
  },
  {
   "cell_type": "code",
   "execution_count": 75,
   "id": "bd51ca33",
   "metadata": {},
   "outputs": [],
   "source": [
    "serie_4 = pd.Series(np.arange(1, 6))"
   ]
  },
  {
   "cell_type": "code",
   "execution_count": 76,
   "id": "f70c6c23",
   "metadata": {},
   "outputs": [
    {
     "data": {
      "text/plain": [
       "0    1\n",
       "1    2\n",
       "2    3\n",
       "3    4\n",
       "4    5\n",
       "dtype: int32"
      ]
     },
     "execution_count": 76,
     "metadata": {},
     "output_type": "execute_result"
    }
   ],
   "source": [
    "serie_4"
   ]
  },
  {
   "cell_type": "code",
   "execution_count": 77,
   "id": "dcbe9d21",
   "metadata": {},
   "outputs": [
    {
     "data": {
      "text/plain": [
       "0    2\n",
       "1    3\n",
       "2    4\n",
       "3    5\n",
       "4    6\n",
       "dtype: int32"
      ]
     },
     "execution_count": 77,
     "metadata": {},
     "output_type": "execute_result"
    }
   ],
   "source": [
    "serie_4 + 1"
   ]
  },
  {
   "cell_type": "code",
   "execution_count": 78,
   "id": "c3c6a6fd",
   "metadata": {},
   "outputs": [
    {
     "data": {
      "text/plain": [
       "0     2\n",
       "1     4\n",
       "2     6\n",
       "3     8\n",
       "4    10\n",
       "dtype: int32"
      ]
     },
     "execution_count": 78,
     "metadata": {},
     "output_type": "execute_result"
    }
   ],
   "source": [
    "serie_4 * 2"
   ]
  },
  {
   "cell_type": "code",
   "execution_count": 79,
   "id": "b5532499",
   "metadata": {},
   "outputs": [
    {
     "data": {
      "text/plain": [
       "0     1\n",
       "1     4\n",
       "2     9\n",
       "3    16\n",
       "4    25\n",
       "dtype: int32"
      ]
     },
     "execution_count": 79,
     "metadata": {},
     "output_type": "execute_result"
    }
   ],
   "source": [
    "serie_4 ** 2"
   ]
  },
  {
   "cell_type": "code",
   "execution_count": 80,
   "id": "ce3b7386",
   "metadata": {},
   "outputs": [],
   "source": [
    "def to_string(s):\n",
    "    return 'valor: ' + str(s)"
   ]
  },
  {
   "cell_type": "code",
   "execution_count": 82,
   "id": "91bc4488",
   "metadata": {},
   "outputs": [
    {
     "data": {
      "text/plain": [
       "'valor: 10'"
      ]
     },
     "execution_count": 82,
     "metadata": {},
     "output_type": "execute_result"
    }
   ],
   "source": [
    "to_string(10)"
   ]
  },
  {
   "cell_type": "code",
   "execution_count": 83,
   "id": "7161df94",
   "metadata": {},
   "outputs": [
    {
     "data": {
      "text/plain": [
       "0    1\n",
       "1    2\n",
       "2    3\n",
       "3    4\n",
       "4    5\n",
       "dtype: int32"
      ]
     },
     "execution_count": 83,
     "metadata": {},
     "output_type": "execute_result"
    }
   ],
   "source": [
    "serie_4"
   ]
  },
  {
   "cell_type": "code",
   "execution_count": 84,
   "id": "da29d816",
   "metadata": {},
   "outputs": [
    {
     "data": {
      "text/plain": [
       "0    valor: 1\n",
       "1    valor: 2\n",
       "2    valor: 3\n",
       "3    valor: 4\n",
       "4    valor: 5\n",
       "dtype: object"
      ]
     },
     "execution_count": 84,
     "metadata": {},
     "output_type": "execute_result"
    }
   ],
   "source": [
    "serie_4.apply(to_string)"
   ]
  },
  {
   "cell_type": "code",
   "execution_count": 85,
   "id": "cc9ecd06",
   "metadata": {},
   "outputs": [
    {
     "data": {
      "text/plain": [
       "0    1\n",
       "1    2\n",
       "2    3\n",
       "3    4\n",
       "4    5\n",
       "dtype: int32"
      ]
     },
     "execution_count": 85,
     "metadata": {},
     "output_type": "execute_result"
    }
   ],
   "source": [
    "serie_4"
   ]
  },
  {
   "cell_type": "code",
   "execution_count": 86,
   "id": "e9fe3a96",
   "metadata": {},
   "outputs": [
    {
     "data": {
      "text/plain": [
       "0    1\n",
       "1    2\n",
       "2    3\n",
       "3    4\n",
       "4    5\n",
       "dtype: int32"
      ]
     },
     "execution_count": 86,
     "metadata": {},
     "output_type": "execute_result"
    }
   ],
   "source": [
    "serie_4"
   ]
  },
  {
   "cell_type": "code",
   "execution_count": 87,
   "id": "c77956b5",
   "metadata": {},
   "outputs": [
    {
     "data": {
      "text/plain": [
       "3    4\n",
       "4    5\n",
       "dtype: int32"
      ]
     },
     "execution_count": 87,
     "metadata": {},
     "output_type": "execute_result"
    }
   ],
   "source": [
    "serie_4[serie_4 > 3]"
   ]
  },
  {
   "cell_type": "code",
   "execution_count": 88,
   "id": "725d9dd2",
   "metadata": {},
   "outputs": [
    {
     "data": {
      "text/plain": [
       "1    2\n",
       "3    4\n",
       "dtype: int32"
      ]
     },
     "execution_count": 88,
     "metadata": {},
     "output_type": "execute_result"
    }
   ],
   "source": [
    "serie_4[serie_4 % 2 == 0]"
   ]
  },
  {
   "cell_type": "code",
   "execution_count": 89,
   "id": "89d88ca8",
   "metadata": {},
   "outputs": [
    {
     "data": {
      "text/plain": [
       "0      9\n",
       "1      3\n",
       "2      8\n",
       "3      9\n",
       "4      6\n",
       "5      9\n",
       "6     10\n",
       "7      1\n",
       "8      6\n",
       "9      2\n",
       "10     5\n",
       "11     6\n",
       "12     8\n",
       "13     3\n",
       "14     4\n",
       "15     4\n",
       "16     4\n",
       "17    10\n",
       "18     7\n",
       "19     3\n",
       "dtype: int32"
      ]
     },
     "execution_count": 89,
     "metadata": {},
     "output_type": "execute_result"
    }
   ],
   "source": [
    "serie_3"
   ]
  },
  {
   "cell_type": "code",
   "execution_count": 90,
   "id": "c780cae9",
   "metadata": {},
   "outputs": [
    {
     "data": {
      "text/plain": [
       "7      1\n",
       "9      2\n",
       "13     3\n",
       "19     3\n",
       "1      3\n",
       "14     4\n",
       "15     4\n",
       "16     4\n",
       "10     5\n",
       "4      6\n",
       "8      6\n",
       "11     6\n",
       "18     7\n",
       "2      8\n",
       "12     8\n",
       "5      9\n",
       "3      9\n",
       "0      9\n",
       "6     10\n",
       "17    10\n",
       "dtype: int32"
      ]
     },
     "execution_count": 90,
     "metadata": {},
     "output_type": "execute_result"
    }
   ],
   "source": [
    "serie_3.sort_values()"
   ]
  },
  {
   "cell_type": "code",
   "execution_count": 95,
   "id": "8569cf5c",
   "metadata": {},
   "outputs": [
    {
     "data": {
      "text/plain": [
       "6     10\n",
       "17    10\n",
       "0      9\n",
       "3      9\n",
       "5      9\n",
       "2      8\n",
       "12     8\n",
       "18     7\n",
       "11     6\n",
       "4      6\n",
       "8      6\n",
       "10     5\n",
       "14     4\n",
       "15     4\n",
       "16     4\n",
       "1      3\n",
       "13     3\n",
       "19     3\n",
       "9      2\n",
       "7      1\n",
       "dtype: int32"
      ]
     },
     "execution_count": 95,
     "metadata": {},
     "output_type": "execute_result"
    }
   ],
   "source": [
    "serie_3.sort_values(ascending=False)"
   ]
  },
  {
   "cell_type": "code",
   "execution_count": 97,
   "id": "a86b3560",
   "metadata": {},
   "outputs": [
    {
     "data": {
      "text/plain": [
       "19     3\n",
       "18     7\n",
       "17    10\n",
       "16     4\n",
       "15     4\n",
       "14     4\n",
       "13     3\n",
       "12     8\n",
       "11     6\n",
       "10     5\n",
       "9      2\n",
       "8      6\n",
       "7      1\n",
       "6     10\n",
       "5      9\n",
       "4      6\n",
       "3      9\n",
       "2      8\n",
       "1      3\n",
       "0      9\n",
       "dtype: int32"
      ]
     },
     "execution_count": 97,
     "metadata": {},
     "output_type": "execute_result"
    }
   ],
   "source": [
    "serie_3.sort_index(ascending=False)"
   ]
  },
  {
   "cell_type": "code",
   "execution_count": 98,
   "id": "e9e602d1",
   "metadata": {},
   "outputs": [],
   "source": [
    "serie_5 = pd.Series(['A', 'B', None, 'C', np.NaN, 'D'])"
   ]
  },
  {
   "cell_type": "code",
   "execution_count": 99,
   "id": "393b9a05",
   "metadata": {},
   "outputs": [
    {
     "data": {
      "text/plain": [
       "0       A\n",
       "1       B\n",
       "2    None\n",
       "3       C\n",
       "4     NaN\n",
       "5       D\n",
       "dtype: object"
      ]
     },
     "execution_count": 99,
     "metadata": {},
     "output_type": "execute_result"
    }
   ],
   "source": [
    "serie_5"
   ]
  },
  {
   "cell_type": "code",
   "execution_count": 100,
   "id": "eb936b6a",
   "metadata": {},
   "outputs": [
    {
     "data": {
      "text/plain": [
       "0    A\n",
       "1    B\n",
       "3    C\n",
       "5    D\n",
       "dtype: object"
      ]
     },
     "execution_count": 100,
     "metadata": {},
     "output_type": "execute_result"
    }
   ],
   "source": [
    "serie_5.dropna()"
   ]
  },
  {
   "cell_type": "markdown",
   "id": "030a0cdb",
   "metadata": {},
   "source": [
    "# DataFrames"
   ]
  },
  {
   "cell_type": "code",
   "execution_count": 101,
   "id": "0bc2d7e0",
   "metadata": {},
   "outputs": [],
   "source": [
    "datos = {\n",
    "    'nombre': ['María', 'Luis', 'Carmen', 'Antonio'],\n",
    "    'edad': [18, 22, 20, 21],\n",
    "    'grado': ['Economía', 'Medicina', 'Arquitectura', 'Economía'],\n",
    "    'correo': ['maria@gmail.com', 'luis@yahoo.es', 'carmen@gmail.com', 'antonio@gmail.com']\n",
    "}"
   ]
  },
  {
   "cell_type": "code",
   "execution_count": 102,
   "id": "ce4b219e",
   "metadata": {},
   "outputs": [],
   "source": [
    "df = pd.DataFrame(datos)"
   ]
  },
  {
   "cell_type": "code",
   "execution_count": 103,
   "id": "4d075dcc",
   "metadata": {},
   "outputs": [
    {
     "data": {
      "text/html": [
       "<div>\n",
       "<style scoped>\n",
       "    .dataframe tbody tr th:only-of-type {\n",
       "        vertical-align: middle;\n",
       "    }\n",
       "\n",
       "    .dataframe tbody tr th {\n",
       "        vertical-align: top;\n",
       "    }\n",
       "\n",
       "    .dataframe thead th {\n",
       "        text-align: right;\n",
       "    }\n",
       "</style>\n",
       "<table border=\"1\" class=\"dataframe\">\n",
       "  <thead>\n",
       "    <tr style=\"text-align: right;\">\n",
       "      <th></th>\n",
       "      <th>nombre</th>\n",
       "      <th>edad</th>\n",
       "      <th>grado</th>\n",
       "      <th>correo</th>\n",
       "    </tr>\n",
       "  </thead>\n",
       "  <tbody>\n",
       "    <tr>\n",
       "      <th>0</th>\n",
       "      <td>María</td>\n",
       "      <td>18</td>\n",
       "      <td>Economía</td>\n",
       "      <td>maria@gmail.com</td>\n",
       "    </tr>\n",
       "    <tr>\n",
       "      <th>1</th>\n",
       "      <td>Luis</td>\n",
       "      <td>22</td>\n",
       "      <td>Medicina</td>\n",
       "      <td>luis@yahoo.es</td>\n",
       "    </tr>\n",
       "    <tr>\n",
       "      <th>2</th>\n",
       "      <td>Carmen</td>\n",
       "      <td>20</td>\n",
       "      <td>Arquitectura</td>\n",
       "      <td>carmen@gmail.com</td>\n",
       "    </tr>\n",
       "    <tr>\n",
       "      <th>3</th>\n",
       "      <td>Antonio</td>\n",
       "      <td>21</td>\n",
       "      <td>Economía</td>\n",
       "      <td>antonio@gmail.com</td>\n",
       "    </tr>\n",
       "  </tbody>\n",
       "</table>\n",
       "</div>"
      ],
      "text/plain": [
       "    nombre  edad         grado             correo\n",
       "0    María    18      Economía    maria@gmail.com\n",
       "1     Luis    22      Medicina      luis@yahoo.es\n",
       "2   Carmen    20  Arquitectura   carmen@gmail.com\n",
       "3  Antonio    21      Economía  antonio@gmail.com"
      ]
     },
     "execution_count": 103,
     "metadata": {},
     "output_type": "execute_result"
    }
   ],
   "source": [
    "df"
   ]
  },
  {
   "cell_type": "code",
   "execution_count": 104,
   "id": "e756d291",
   "metadata": {},
   "outputs": [
    {
     "data": {
      "text/plain": [
       "pandas.core.frame.DataFrame"
      ]
     },
     "execution_count": 104,
     "metadata": {},
     "output_type": "execute_result"
    }
   ],
   "source": [
    "type(df)"
   ]
  },
  {
   "cell_type": "code",
   "execution_count": 105,
   "id": "504f2e6a",
   "metadata": {},
   "outputs": [],
   "source": [
    "df_2 = pd.DataFrame([['María', 18], ['Luis', 22], ['Carmen', 20]], columns=['Nombre', 'Edad'])"
   ]
  },
  {
   "cell_type": "code",
   "execution_count": 106,
   "id": "a23e9d16",
   "metadata": {},
   "outputs": [
    {
     "data": {
      "text/html": [
       "<div>\n",
       "<style scoped>\n",
       "    .dataframe tbody tr th:only-of-type {\n",
       "        vertical-align: middle;\n",
       "    }\n",
       "\n",
       "    .dataframe tbody tr th {\n",
       "        vertical-align: top;\n",
       "    }\n",
       "\n",
       "    .dataframe thead th {\n",
       "        text-align: right;\n",
       "    }\n",
       "</style>\n",
       "<table border=\"1\" class=\"dataframe\">\n",
       "  <thead>\n",
       "    <tr style=\"text-align: right;\">\n",
       "      <th></th>\n",
       "      <th>Nombre</th>\n",
       "      <th>Edad</th>\n",
       "    </tr>\n",
       "  </thead>\n",
       "  <tbody>\n",
       "    <tr>\n",
       "      <th>0</th>\n",
       "      <td>María</td>\n",
       "      <td>18</td>\n",
       "    </tr>\n",
       "    <tr>\n",
       "      <th>1</th>\n",
       "      <td>Luis</td>\n",
       "      <td>22</td>\n",
       "    </tr>\n",
       "    <tr>\n",
       "      <th>2</th>\n",
       "      <td>Carmen</td>\n",
       "      <td>20</td>\n",
       "    </tr>\n",
       "  </tbody>\n",
       "</table>\n",
       "</div>"
      ],
      "text/plain": [
       "   Nombre  Edad\n",
       "0   María    18\n",
       "1    Luis    22\n",
       "2  Carmen    20"
      ]
     },
     "execution_count": 106,
     "metadata": {},
     "output_type": "execute_result"
    }
   ],
   "source": [
    "df_2"
   ]
  },
  {
   "cell_type": "code",
   "execution_count": 108,
   "id": "a3c3d07a",
   "metadata": {},
   "outputs": [
    {
     "data": {
      "text/plain": [
       "pandas.core.series.Series"
      ]
     },
     "execution_count": 108,
     "metadata": {},
     "output_type": "execute_result"
    }
   ],
   "source": [
    "type(df_2['Nombre'])"
   ]
  },
  {
   "cell_type": "code",
   "execution_count": 109,
   "id": "27c3e728",
   "metadata": {},
   "outputs": [
    {
     "data": {
      "text/plain": [
       "pandas.core.frame.DataFrame"
      ]
     },
     "execution_count": 109,
     "metadata": {},
     "output_type": "execute_result"
    }
   ],
   "source": [
    "type(df_2)"
   ]
  },
  {
   "cell_type": "code",
   "execution_count": 112,
   "id": "41b53a13",
   "metadata": {},
   "outputs": [
    {
     "data": {
      "text/html": [
       "<div>\n",
       "<style scoped>\n",
       "    .dataframe tbody tr th:only-of-type {\n",
       "        vertical-align: middle;\n",
       "    }\n",
       "\n",
       "    .dataframe tbody tr th {\n",
       "        vertical-align: top;\n",
       "    }\n",
       "\n",
       "    .dataframe thead th {\n",
       "        text-align: right;\n",
       "    }\n",
       "</style>\n",
       "<table border=\"1\" class=\"dataframe\">\n",
       "  <thead>\n",
       "    <tr style=\"text-align: right;\">\n",
       "      <th></th>\n",
       "      <th>A</th>\n",
       "      <th>B</th>\n",
       "      <th>C</th>\n",
       "    </tr>\n",
       "  </thead>\n",
       "  <tbody>\n",
       "    <tr>\n",
       "      <th>0</th>\n",
       "      <td>-0.177329</td>\n",
       "      <td>0.974997</td>\n",
       "      <td>-1.061670</td>\n",
       "    </tr>\n",
       "    <tr>\n",
       "      <th>1</th>\n",
       "      <td>0.136158</td>\n",
       "      <td>1.480897</td>\n",
       "      <td>1.059716</td>\n",
       "    </tr>\n",
       "    <tr>\n",
       "      <th>2</th>\n",
       "      <td>-0.699582</td>\n",
       "      <td>0.265172</td>\n",
       "      <td>1.843828</td>\n",
       "    </tr>\n",
       "    <tr>\n",
       "      <th>3</th>\n",
       "      <td>1.316456</td>\n",
       "      <td>-0.049963</td>\n",
       "      <td>1.069304</td>\n",
       "    </tr>\n",
       "  </tbody>\n",
       "</table>\n",
       "</div>"
      ],
      "text/plain": [
       "          A         B         C\n",
       "0 -0.177329  0.974997 -1.061670\n",
       "1  0.136158  1.480897  1.059716\n",
       "2 -0.699582  0.265172  1.843828\n",
       "3  1.316456 -0.049963  1.069304"
      ]
     },
     "execution_count": 112,
     "metadata": {},
     "output_type": "execute_result"
    }
   ],
   "source": [
    "pd.DataFrame(np.random.randn(4, 3), columns=['A', 'B', 'C'])"
   ]
  },
  {
   "cell_type": "code",
   "execution_count": 118,
   "id": "839df214",
   "metadata": {},
   "outputs": [],
   "source": [
    "colesterol = pd.read_csv('colesterol.csv', sep=';', decimal=',')"
   ]
  },
  {
   "cell_type": "code",
   "execution_count": 124,
   "id": "5ae89aef",
   "metadata": {},
   "outputs": [
    {
     "data": {
      "text/html": [
       "<div>\n",
       "<style scoped>\n",
       "    .dataframe tbody tr th:only-of-type {\n",
       "        vertical-align: middle;\n",
       "    }\n",
       "\n",
       "    .dataframe tbody tr th {\n",
       "        vertical-align: top;\n",
       "    }\n",
       "\n",
       "    .dataframe thead th {\n",
       "        text-align: right;\n",
       "    }\n",
       "</style>\n",
       "<table border=\"1\" class=\"dataframe\">\n",
       "  <thead>\n",
       "    <tr style=\"text-align: right;\">\n",
       "      <th></th>\n",
       "      <th>nombre</th>\n",
       "      <th>edad</th>\n",
       "      <th>sexo</th>\n",
       "      <th>peso</th>\n",
       "      <th>altura</th>\n",
       "      <th>colesterol</th>\n",
       "    </tr>\n",
       "  </thead>\n",
       "  <tbody>\n",
       "    <tr>\n",
       "      <th>0</th>\n",
       "      <td>José Luis Martínez Izquierdo</td>\n",
       "      <td>18</td>\n",
       "      <td>H</td>\n",
       "      <td>85.0</td>\n",
       "      <td>1.79</td>\n",
       "      <td>182.0</td>\n",
       "    </tr>\n",
       "    <tr>\n",
       "      <th>1</th>\n",
       "      <td>Rosa Díaz Díaz</td>\n",
       "      <td>32</td>\n",
       "      <td>M</td>\n",
       "      <td>65.0</td>\n",
       "      <td>1.73</td>\n",
       "      <td>232.0</td>\n",
       "    </tr>\n",
       "    <tr>\n",
       "      <th>2</th>\n",
       "      <td>Javier García Sánchez</td>\n",
       "      <td>24</td>\n",
       "      <td>H</td>\n",
       "      <td>NaN</td>\n",
       "      <td>1.81</td>\n",
       "      <td>191.0</td>\n",
       "    </tr>\n",
       "    <tr>\n",
       "      <th>3</th>\n",
       "      <td>Carmen López Pinzón</td>\n",
       "      <td>35</td>\n",
       "      <td>M</td>\n",
       "      <td>65.0</td>\n",
       "      <td>1.70</td>\n",
       "      <td>200.0</td>\n",
       "    </tr>\n",
       "    <tr>\n",
       "      <th>4</th>\n",
       "      <td>Marisa López Collado</td>\n",
       "      <td>46</td>\n",
       "      <td>M</td>\n",
       "      <td>51.0</td>\n",
       "      <td>1.58</td>\n",
       "      <td>148.0</td>\n",
       "    </tr>\n",
       "  </tbody>\n",
       "</table>\n",
       "</div>"
      ],
      "text/plain": [
       "                         nombre  edad sexo  peso  altura  colesterol\n",
       "0  José Luis Martínez Izquierdo    18    H  85.0    1.79       182.0\n",
       "1                Rosa Díaz Díaz    32    M  65.0    1.73       232.0\n",
       "2         Javier García Sánchez    24    H   NaN    1.81       191.0\n",
       "3           Carmen López Pinzón    35    M  65.0    1.70       200.0\n",
       "4          Marisa López Collado    46    M  51.0    1.58       148.0"
      ]
     },
     "execution_count": 124,
     "metadata": {},
     "output_type": "execute_result"
    }
   ],
   "source": [
    "colesterol.head()"
   ]
  },
  {
   "cell_type": "code",
   "execution_count": 125,
   "id": "6a002a71",
   "metadata": {},
   "outputs": [
    {
     "data": {
      "text/html": [
       "<div>\n",
       "<style scoped>\n",
       "    .dataframe tbody tr th:only-of-type {\n",
       "        vertical-align: middle;\n",
       "    }\n",
       "\n",
       "    .dataframe tbody tr th {\n",
       "        vertical-align: top;\n",
       "    }\n",
       "\n",
       "    .dataframe thead th {\n",
       "        text-align: right;\n",
       "    }\n",
       "</style>\n",
       "<table border=\"1\" class=\"dataframe\">\n",
       "  <thead>\n",
       "    <tr style=\"text-align: right;\">\n",
       "      <th></th>\n",
       "      <th>nombre</th>\n",
       "      <th>edad</th>\n",
       "      <th>sexo</th>\n",
       "      <th>peso</th>\n",
       "      <th>altura</th>\n",
       "      <th>colesterol</th>\n",
       "    </tr>\n",
       "  </thead>\n",
       "  <tbody>\n",
       "    <tr>\n",
       "      <th>9</th>\n",
       "      <td>Santiago Reillo Manzano</td>\n",
       "      <td>46</td>\n",
       "      <td>H</td>\n",
       "      <td>75.0</td>\n",
       "      <td>1.85</td>\n",
       "      <td>280.0</td>\n",
       "    </tr>\n",
       "    <tr>\n",
       "      <th>10</th>\n",
       "      <td>Macarena Álvarez Luna</td>\n",
       "      <td>53</td>\n",
       "      <td>M</td>\n",
       "      <td>55.0</td>\n",
       "      <td>1.62</td>\n",
       "      <td>262.0</td>\n",
       "    </tr>\n",
       "    <tr>\n",
       "      <th>11</th>\n",
       "      <td>José María de la Guía Sanz</td>\n",
       "      <td>58</td>\n",
       "      <td>H</td>\n",
       "      <td>78.0</td>\n",
       "      <td>1.87</td>\n",
       "      <td>198.0</td>\n",
       "    </tr>\n",
       "    <tr>\n",
       "      <th>12</th>\n",
       "      <td>Miguel Angel Cuadrado Gutiérrez</td>\n",
       "      <td>27</td>\n",
       "      <td>H</td>\n",
       "      <td>109.0</td>\n",
       "      <td>1.98</td>\n",
       "      <td>210.0</td>\n",
       "    </tr>\n",
       "    <tr>\n",
       "      <th>13</th>\n",
       "      <td>Carolina Rubio Moreno</td>\n",
       "      <td>20</td>\n",
       "      <td>M</td>\n",
       "      <td>61.0</td>\n",
       "      <td>1.77</td>\n",
       "      <td>194.0</td>\n",
       "    </tr>\n",
       "  </tbody>\n",
       "</table>\n",
       "</div>"
      ],
      "text/plain": [
       "                             nombre  edad sexo   peso  altura  colesterol\n",
       "9           Santiago Reillo Manzano    46    H   75.0    1.85       280.0\n",
       "10            Macarena Álvarez Luna    53    M   55.0    1.62       262.0\n",
       "11       José María de la Guía Sanz    58    H   78.0    1.87       198.0\n",
       "12  Miguel Angel Cuadrado Gutiérrez    27    H  109.0    1.98       210.0\n",
       "13            Carolina Rubio Moreno    20    M   61.0    1.77       194.0"
      ]
     },
     "execution_count": 125,
     "metadata": {},
     "output_type": "execute_result"
    }
   ],
   "source": [
    "colesterol.tail()"
   ]
  },
  {
   "cell_type": "code",
   "execution_count": 126,
   "id": "c41320da",
   "metadata": {},
   "outputs": [
    {
     "name": "stdout",
     "output_type": "stream",
     "text": [
      "<class 'pandas.core.frame.DataFrame'>\n",
      "RangeIndex: 14 entries, 0 to 13\n",
      "Data columns (total 6 columns):\n",
      " #   Column      Non-Null Count  Dtype  \n",
      "---  ------      --------------  -----  \n",
      " 0   nombre      14 non-null     object \n",
      " 1   edad        14 non-null     int64  \n",
      " 2   sexo        14 non-null     object \n",
      " 3   peso        13 non-null     float64\n",
      " 4   altura      14 non-null     float64\n",
      " 5   colesterol  13 non-null     float64\n",
      "dtypes: float64(3), int64(1), object(2)\n",
      "memory usage: 800.0+ bytes\n"
     ]
    }
   ],
   "source": [
    "colesterol.info()"
   ]
  },
  {
   "cell_type": "code",
   "execution_count": 134,
   "id": "f6b82565",
   "metadata": {},
   "outputs": [
    {
     "data": {
      "text/plain": [
       "(14, 6)"
      ]
     },
     "execution_count": 134,
     "metadata": {},
     "output_type": "execute_result"
    }
   ],
   "source": [
    "colesterol.shape"
   ]
  },
  {
   "cell_type": "code",
   "execution_count": 135,
   "id": "6b7ede48",
   "metadata": {},
   "outputs": [
    {
     "data": {
      "text/html": [
       "<div>\n",
       "<style scoped>\n",
       "    .dataframe tbody tr th:only-of-type {\n",
       "        vertical-align: middle;\n",
       "    }\n",
       "\n",
       "    .dataframe tbody tr th {\n",
       "        vertical-align: top;\n",
       "    }\n",
       "\n",
       "    .dataframe thead th {\n",
       "        text-align: right;\n",
       "    }\n",
       "</style>\n",
       "<table border=\"1\" class=\"dataframe\">\n",
       "  <thead>\n",
       "    <tr style=\"text-align: right;\">\n",
       "      <th></th>\n",
       "      <th>nombre</th>\n",
       "      <th>edad</th>\n",
       "      <th>sexo</th>\n",
       "      <th>peso</th>\n",
       "      <th>altura</th>\n",
       "      <th>colesterol</th>\n",
       "    </tr>\n",
       "  </thead>\n",
       "  <tbody>\n",
       "    <tr>\n",
       "      <th>0</th>\n",
       "      <td>José Luis Martínez Izquierdo</td>\n",
       "      <td>18</td>\n",
       "      <td>H</td>\n",
       "      <td>85.0</td>\n",
       "      <td>1.79</td>\n",
       "      <td>182.0</td>\n",
       "    </tr>\n",
       "    <tr>\n",
       "      <th>1</th>\n",
       "      <td>Rosa Díaz Díaz</td>\n",
       "      <td>32</td>\n",
       "      <td>M</td>\n",
       "      <td>65.0</td>\n",
       "      <td>1.73</td>\n",
       "      <td>232.0</td>\n",
       "    </tr>\n",
       "    <tr>\n",
       "      <th>2</th>\n",
       "      <td>Javier García Sánchez</td>\n",
       "      <td>24</td>\n",
       "      <td>H</td>\n",
       "      <td>NaN</td>\n",
       "      <td>1.81</td>\n",
       "      <td>191.0</td>\n",
       "    </tr>\n",
       "    <tr>\n",
       "      <th>3</th>\n",
       "      <td>Carmen López Pinzón</td>\n",
       "      <td>35</td>\n",
       "      <td>M</td>\n",
       "      <td>65.0</td>\n",
       "      <td>1.70</td>\n",
       "      <td>200.0</td>\n",
       "    </tr>\n",
       "    <tr>\n",
       "      <th>4</th>\n",
       "      <td>Marisa López Collado</td>\n",
       "      <td>46</td>\n",
       "      <td>M</td>\n",
       "      <td>51.0</td>\n",
       "      <td>1.58</td>\n",
       "      <td>148.0</td>\n",
       "    </tr>\n",
       "    <tr>\n",
       "      <th>5</th>\n",
       "      <td>Antonio Ruiz Cruz</td>\n",
       "      <td>68</td>\n",
       "      <td>H</td>\n",
       "      <td>66.0</td>\n",
       "      <td>1.74</td>\n",
       "      <td>249.0</td>\n",
       "    </tr>\n",
       "    <tr>\n",
       "      <th>6</th>\n",
       "      <td>Antonio Fernández Ocaña</td>\n",
       "      <td>51</td>\n",
       "      <td>H</td>\n",
       "      <td>62.0</td>\n",
       "      <td>1.72</td>\n",
       "      <td>276.0</td>\n",
       "    </tr>\n",
       "    <tr>\n",
       "      <th>7</th>\n",
       "      <td>Pilar Martín González</td>\n",
       "      <td>22</td>\n",
       "      <td>M</td>\n",
       "      <td>60.0</td>\n",
       "      <td>1.66</td>\n",
       "      <td>NaN</td>\n",
       "    </tr>\n",
       "    <tr>\n",
       "      <th>8</th>\n",
       "      <td>Pedro Gálvez Tenorio</td>\n",
       "      <td>35</td>\n",
       "      <td>H</td>\n",
       "      <td>90.0</td>\n",
       "      <td>1.94</td>\n",
       "      <td>241.0</td>\n",
       "    </tr>\n",
       "    <tr>\n",
       "      <th>9</th>\n",
       "      <td>Santiago Reillo Manzano</td>\n",
       "      <td>46</td>\n",
       "      <td>H</td>\n",
       "      <td>75.0</td>\n",
       "      <td>1.85</td>\n",
       "      <td>280.0</td>\n",
       "    </tr>\n",
       "    <tr>\n",
       "      <th>10</th>\n",
       "      <td>Macarena Álvarez Luna</td>\n",
       "      <td>53</td>\n",
       "      <td>M</td>\n",
       "      <td>55.0</td>\n",
       "      <td>1.62</td>\n",
       "      <td>262.0</td>\n",
       "    </tr>\n",
       "    <tr>\n",
       "      <th>11</th>\n",
       "      <td>José María de la Guía Sanz</td>\n",
       "      <td>58</td>\n",
       "      <td>H</td>\n",
       "      <td>78.0</td>\n",
       "      <td>1.87</td>\n",
       "      <td>198.0</td>\n",
       "    </tr>\n",
       "    <tr>\n",
       "      <th>12</th>\n",
       "      <td>Miguel Angel Cuadrado Gutiérrez</td>\n",
       "      <td>27</td>\n",
       "      <td>H</td>\n",
       "      <td>109.0</td>\n",
       "      <td>1.98</td>\n",
       "      <td>210.0</td>\n",
       "    </tr>\n",
       "    <tr>\n",
       "      <th>13</th>\n",
       "      <td>Carolina Rubio Moreno</td>\n",
       "      <td>20</td>\n",
       "      <td>M</td>\n",
       "      <td>61.0</td>\n",
       "      <td>1.77</td>\n",
       "      <td>194.0</td>\n",
       "    </tr>\n",
       "  </tbody>\n",
       "</table>\n",
       "</div>"
      ],
      "text/plain": [
       "                             nombre  edad sexo   peso  altura  colesterol\n",
       "0      José Luis Martínez Izquierdo    18    H   85.0    1.79       182.0\n",
       "1                    Rosa Díaz Díaz    32    M   65.0    1.73       232.0\n",
       "2             Javier García Sánchez    24    H    NaN    1.81       191.0\n",
       "3               Carmen López Pinzón    35    M   65.0    1.70       200.0\n",
       "4              Marisa López Collado    46    M   51.0    1.58       148.0\n",
       "5                 Antonio Ruiz Cruz    68    H   66.0    1.74       249.0\n",
       "6           Antonio Fernández Ocaña    51    H   62.0    1.72       276.0\n",
       "7             Pilar Martín González    22    M   60.0    1.66         NaN\n",
       "8              Pedro Gálvez Tenorio    35    H   90.0    1.94       241.0\n",
       "9           Santiago Reillo Manzano    46    H   75.0    1.85       280.0\n",
       "10            Macarena Álvarez Luna    53    M   55.0    1.62       262.0\n",
       "11       José María de la Guía Sanz    58    H   78.0    1.87       198.0\n",
       "12  Miguel Angel Cuadrado Gutiérrez    27    H  109.0    1.98       210.0\n",
       "13            Carolina Rubio Moreno    20    M   61.0    1.77       194.0"
      ]
     },
     "execution_count": 135,
     "metadata": {},
     "output_type": "execute_result"
    }
   ],
   "source": [
    "colesterol"
   ]
  },
  {
   "cell_type": "code",
   "execution_count": 131,
   "id": "f303dc72",
   "metadata": {},
   "outputs": [
    {
     "data": {
      "text/plain": [
       "84"
      ]
     },
     "execution_count": 131,
     "metadata": {},
     "output_type": "execute_result"
    }
   ],
   "source": [
    "colesterol.size"
   ]
  },
  {
   "cell_type": "code",
   "execution_count": 132,
   "id": "789272f8",
   "metadata": {},
   "outputs": [
    {
     "data": {
      "text/plain": [
       "RangeIndex(start=0, stop=14, step=1)"
      ]
     },
     "execution_count": 132,
     "metadata": {},
     "output_type": "execute_result"
    }
   ],
   "source": [
    "colesterol.index"
   ]
  },
  {
   "cell_type": "code",
   "execution_count": 133,
   "id": "f7eb3aaf",
   "metadata": {},
   "outputs": [
    {
     "data": {
      "text/plain": [
       "nombre         object\n",
       "edad            int64\n",
       "sexo           object\n",
       "peso          float64\n",
       "altura        float64\n",
       "colesterol    float64\n",
       "dtype: object"
      ]
     },
     "execution_count": 133,
     "metadata": {},
     "output_type": "execute_result"
    }
   ],
   "source": [
    "colesterol.dtypes"
   ]
  },
  {
   "cell_type": "code",
   "execution_count": 136,
   "id": "0a6cfeb1",
   "metadata": {},
   "outputs": [
    {
     "data": {
      "text/html": [
       "<div>\n",
       "<style scoped>\n",
       "    .dataframe tbody tr th:only-of-type {\n",
       "        vertical-align: middle;\n",
       "    }\n",
       "\n",
       "    .dataframe tbody tr th {\n",
       "        vertical-align: top;\n",
       "    }\n",
       "\n",
       "    .dataframe thead th {\n",
       "        text-align: right;\n",
       "    }\n",
       "</style>\n",
       "<table border=\"1\" class=\"dataframe\">\n",
       "  <thead>\n",
       "    <tr style=\"text-align: right;\">\n",
       "      <th></th>\n",
       "      <th>nombre y apellido</th>\n",
       "      <th>edad</th>\n",
       "      <th>sexo</th>\n",
       "      <th>peso</th>\n",
       "      <th>estatura</th>\n",
       "      <th>colesterol</th>\n",
       "    </tr>\n",
       "  </thead>\n",
       "  <tbody>\n",
       "    <tr>\n",
       "      <th>0</th>\n",
       "      <td>José Luis Martínez Izquierdo</td>\n",
       "      <td>18</td>\n",
       "      <td>H</td>\n",
       "      <td>85.0</td>\n",
       "      <td>1.79</td>\n",
       "      <td>182.0</td>\n",
       "    </tr>\n",
       "    <tr>\n",
       "      <th>1</th>\n",
       "      <td>Rosa Díaz Díaz</td>\n",
       "      <td>32</td>\n",
       "      <td>M</td>\n",
       "      <td>65.0</td>\n",
       "      <td>1.73</td>\n",
       "      <td>232.0</td>\n",
       "    </tr>\n",
       "    <tr>\n",
       "      <th>2</th>\n",
       "      <td>Javier García Sánchez</td>\n",
       "      <td>24</td>\n",
       "      <td>H</td>\n",
       "      <td>NaN</td>\n",
       "      <td>1.81</td>\n",
       "      <td>191.0</td>\n",
       "    </tr>\n",
       "    <tr>\n",
       "      <th>3</th>\n",
       "      <td>Carmen López Pinzón</td>\n",
       "      <td>35</td>\n",
       "      <td>M</td>\n",
       "      <td>65.0</td>\n",
       "      <td>1.70</td>\n",
       "      <td>200.0</td>\n",
       "    </tr>\n",
       "    <tr>\n",
       "      <th>4</th>\n",
       "      <td>Marisa López Collado</td>\n",
       "      <td>46</td>\n",
       "      <td>M</td>\n",
       "      <td>51.0</td>\n",
       "      <td>1.58</td>\n",
       "      <td>148.0</td>\n",
       "    </tr>\n",
       "    <tr>\n",
       "      <th>5</th>\n",
       "      <td>Antonio Ruiz Cruz</td>\n",
       "      <td>68</td>\n",
       "      <td>H</td>\n",
       "      <td>66.0</td>\n",
       "      <td>1.74</td>\n",
       "      <td>249.0</td>\n",
       "    </tr>\n",
       "    <tr>\n",
       "      <th>6</th>\n",
       "      <td>Antonio Fernández Ocaña</td>\n",
       "      <td>51</td>\n",
       "      <td>H</td>\n",
       "      <td>62.0</td>\n",
       "      <td>1.72</td>\n",
       "      <td>276.0</td>\n",
       "    </tr>\n",
       "    <tr>\n",
       "      <th>7</th>\n",
       "      <td>Pilar Martín González</td>\n",
       "      <td>22</td>\n",
       "      <td>M</td>\n",
       "      <td>60.0</td>\n",
       "      <td>1.66</td>\n",
       "      <td>NaN</td>\n",
       "    </tr>\n",
       "    <tr>\n",
       "      <th>8</th>\n",
       "      <td>Pedro Gálvez Tenorio</td>\n",
       "      <td>35</td>\n",
       "      <td>H</td>\n",
       "      <td>90.0</td>\n",
       "      <td>1.94</td>\n",
       "      <td>241.0</td>\n",
       "    </tr>\n",
       "    <tr>\n",
       "      <th>9</th>\n",
       "      <td>Santiago Reillo Manzano</td>\n",
       "      <td>46</td>\n",
       "      <td>H</td>\n",
       "      <td>75.0</td>\n",
       "      <td>1.85</td>\n",
       "      <td>280.0</td>\n",
       "    </tr>\n",
       "    <tr>\n",
       "      <th>10</th>\n",
       "      <td>Macarena Álvarez Luna</td>\n",
       "      <td>53</td>\n",
       "      <td>M</td>\n",
       "      <td>55.0</td>\n",
       "      <td>1.62</td>\n",
       "      <td>262.0</td>\n",
       "    </tr>\n",
       "    <tr>\n",
       "      <th>11</th>\n",
       "      <td>José María de la Guía Sanz</td>\n",
       "      <td>58</td>\n",
       "      <td>H</td>\n",
       "      <td>78.0</td>\n",
       "      <td>1.87</td>\n",
       "      <td>198.0</td>\n",
       "    </tr>\n",
       "    <tr>\n",
       "      <th>12</th>\n",
       "      <td>Miguel Angel Cuadrado Gutiérrez</td>\n",
       "      <td>27</td>\n",
       "      <td>H</td>\n",
       "      <td>109.0</td>\n",
       "      <td>1.98</td>\n",
       "      <td>210.0</td>\n",
       "    </tr>\n",
       "    <tr>\n",
       "      <th>13</th>\n",
       "      <td>Carolina Rubio Moreno</td>\n",
       "      <td>20</td>\n",
       "      <td>M</td>\n",
       "      <td>61.0</td>\n",
       "      <td>1.77</td>\n",
       "      <td>194.0</td>\n",
       "    </tr>\n",
       "  </tbody>\n",
       "</table>\n",
       "</div>"
      ],
      "text/plain": [
       "                  nombre y apellido  edad sexo   peso  estatura  colesterol\n",
       "0      José Luis Martínez Izquierdo    18    H   85.0      1.79       182.0\n",
       "1                    Rosa Díaz Díaz    32    M   65.0      1.73       232.0\n",
       "2             Javier García Sánchez    24    H    NaN      1.81       191.0\n",
       "3               Carmen López Pinzón    35    M   65.0      1.70       200.0\n",
       "4              Marisa López Collado    46    M   51.0      1.58       148.0\n",
       "5                 Antonio Ruiz Cruz    68    H   66.0      1.74       249.0\n",
       "6           Antonio Fernández Ocaña    51    H   62.0      1.72       276.0\n",
       "7             Pilar Martín González    22    M   60.0      1.66         NaN\n",
       "8              Pedro Gálvez Tenorio    35    H   90.0      1.94       241.0\n",
       "9           Santiago Reillo Manzano    46    H   75.0      1.85       280.0\n",
       "10            Macarena Álvarez Luna    53    M   55.0      1.62       262.0\n",
       "11       José María de la Guía Sanz    58    H   78.0      1.87       198.0\n",
       "12  Miguel Angel Cuadrado Gutiérrez    27    H  109.0      1.98       210.0\n",
       "13            Carolina Rubio Moreno    20    M   61.0      1.77       194.0"
      ]
     },
     "execution_count": 136,
     "metadata": {},
     "output_type": "execute_result"
    }
   ],
   "source": [
    "colesterol.rename(columns={'nombre': 'nombre y apellido', 'altura': 'estatura'})"
   ]
  },
  {
   "cell_type": "code",
   "execution_count": 137,
   "id": "2755579b",
   "metadata": {},
   "outputs": [
    {
     "data": {
      "text/html": [
       "<div>\n",
       "<style scoped>\n",
       "    .dataframe tbody tr th:only-of-type {\n",
       "        vertical-align: middle;\n",
       "    }\n",
       "\n",
       "    .dataframe tbody tr th {\n",
       "        vertical-align: top;\n",
       "    }\n",
       "\n",
       "    .dataframe thead th {\n",
       "        text-align: right;\n",
       "    }\n",
       "</style>\n",
       "<table border=\"1\" class=\"dataframe\">\n",
       "  <thead>\n",
       "    <tr style=\"text-align: right;\">\n",
       "      <th></th>\n",
       "      <th>nombre</th>\n",
       "      <th>edad</th>\n",
       "      <th>sexo</th>\n",
       "      <th>peso</th>\n",
       "      <th>altura</th>\n",
       "      <th>colesterol</th>\n",
       "    </tr>\n",
       "  </thead>\n",
       "  <tbody>\n",
       "    <tr>\n",
       "      <th>1000</th>\n",
       "      <td>José Luis Martínez Izquierdo</td>\n",
       "      <td>18</td>\n",
       "      <td>H</td>\n",
       "      <td>85.0</td>\n",
       "      <td>1.79</td>\n",
       "      <td>182.0</td>\n",
       "    </tr>\n",
       "    <tr>\n",
       "      <th>1001</th>\n",
       "      <td>Rosa Díaz Díaz</td>\n",
       "      <td>32</td>\n",
       "      <td>M</td>\n",
       "      <td>65.0</td>\n",
       "      <td>1.73</td>\n",
       "      <td>232.0</td>\n",
       "    </tr>\n",
       "    <tr>\n",
       "      <th>1002</th>\n",
       "      <td>Javier García Sánchez</td>\n",
       "      <td>24</td>\n",
       "      <td>H</td>\n",
       "      <td>NaN</td>\n",
       "      <td>1.81</td>\n",
       "      <td>191.0</td>\n",
       "    </tr>\n",
       "    <tr>\n",
       "      <th>3</th>\n",
       "      <td>Carmen López Pinzón</td>\n",
       "      <td>35</td>\n",
       "      <td>M</td>\n",
       "      <td>65.0</td>\n",
       "      <td>1.70</td>\n",
       "      <td>200.0</td>\n",
       "    </tr>\n",
       "    <tr>\n",
       "      <th>4</th>\n",
       "      <td>Marisa López Collado</td>\n",
       "      <td>46</td>\n",
       "      <td>M</td>\n",
       "      <td>51.0</td>\n",
       "      <td>1.58</td>\n",
       "      <td>148.0</td>\n",
       "    </tr>\n",
       "    <tr>\n",
       "      <th>5</th>\n",
       "      <td>Antonio Ruiz Cruz</td>\n",
       "      <td>68</td>\n",
       "      <td>H</td>\n",
       "      <td>66.0</td>\n",
       "      <td>1.74</td>\n",
       "      <td>249.0</td>\n",
       "    </tr>\n",
       "    <tr>\n",
       "      <th>6</th>\n",
       "      <td>Antonio Fernández Ocaña</td>\n",
       "      <td>51</td>\n",
       "      <td>H</td>\n",
       "      <td>62.0</td>\n",
       "      <td>1.72</td>\n",
       "      <td>276.0</td>\n",
       "    </tr>\n",
       "    <tr>\n",
       "      <th>7</th>\n",
       "      <td>Pilar Martín González</td>\n",
       "      <td>22</td>\n",
       "      <td>M</td>\n",
       "      <td>60.0</td>\n",
       "      <td>1.66</td>\n",
       "      <td>NaN</td>\n",
       "    </tr>\n",
       "    <tr>\n",
       "      <th>8</th>\n",
       "      <td>Pedro Gálvez Tenorio</td>\n",
       "      <td>35</td>\n",
       "      <td>H</td>\n",
       "      <td>90.0</td>\n",
       "      <td>1.94</td>\n",
       "      <td>241.0</td>\n",
       "    </tr>\n",
       "    <tr>\n",
       "      <th>9</th>\n",
       "      <td>Santiago Reillo Manzano</td>\n",
       "      <td>46</td>\n",
       "      <td>H</td>\n",
       "      <td>75.0</td>\n",
       "      <td>1.85</td>\n",
       "      <td>280.0</td>\n",
       "    </tr>\n",
       "    <tr>\n",
       "      <th>10</th>\n",
       "      <td>Macarena Álvarez Luna</td>\n",
       "      <td>53</td>\n",
       "      <td>M</td>\n",
       "      <td>55.0</td>\n",
       "      <td>1.62</td>\n",
       "      <td>262.0</td>\n",
       "    </tr>\n",
       "    <tr>\n",
       "      <th>11</th>\n",
       "      <td>José María de la Guía Sanz</td>\n",
       "      <td>58</td>\n",
       "      <td>H</td>\n",
       "      <td>78.0</td>\n",
       "      <td>1.87</td>\n",
       "      <td>198.0</td>\n",
       "    </tr>\n",
       "    <tr>\n",
       "      <th>12</th>\n",
       "      <td>Miguel Angel Cuadrado Gutiérrez</td>\n",
       "      <td>27</td>\n",
       "      <td>H</td>\n",
       "      <td>109.0</td>\n",
       "      <td>1.98</td>\n",
       "      <td>210.0</td>\n",
       "    </tr>\n",
       "    <tr>\n",
       "      <th>13</th>\n",
       "      <td>Carolina Rubio Moreno</td>\n",
       "      <td>20</td>\n",
       "      <td>M</td>\n",
       "      <td>61.0</td>\n",
       "      <td>1.77</td>\n",
       "      <td>194.0</td>\n",
       "    </tr>\n",
       "  </tbody>\n",
       "</table>\n",
       "</div>"
      ],
      "text/plain": [
       "                               nombre  edad sexo   peso  altura  colesterol\n",
       "1000     José Luis Martínez Izquierdo    18    H   85.0    1.79       182.0\n",
       "1001                   Rosa Díaz Díaz    32    M   65.0    1.73       232.0\n",
       "1002            Javier García Sánchez    24    H    NaN    1.81       191.0\n",
       "3                 Carmen López Pinzón    35    M   65.0    1.70       200.0\n",
       "4                Marisa López Collado    46    M   51.0    1.58       148.0\n",
       "5                   Antonio Ruiz Cruz    68    H   66.0    1.74       249.0\n",
       "6             Antonio Fernández Ocaña    51    H   62.0    1.72       276.0\n",
       "7               Pilar Martín González    22    M   60.0    1.66         NaN\n",
       "8                Pedro Gálvez Tenorio    35    H   90.0    1.94       241.0\n",
       "9             Santiago Reillo Manzano    46    H   75.0    1.85       280.0\n",
       "10              Macarena Álvarez Luna    53    M   55.0    1.62       262.0\n",
       "11         José María de la Guía Sanz    58    H   78.0    1.87       198.0\n",
       "12    Miguel Angel Cuadrado Gutiérrez    27    H  109.0    1.98       210.0\n",
       "13              Carolina Rubio Moreno    20    M   61.0    1.77       194.0"
      ]
     },
     "execution_count": 137,
     "metadata": {},
     "output_type": "execute_result"
    }
   ],
   "source": [
    "colesterol.rename(index={0:1000, 1:1001, 2:1002})"
   ]
  },
  {
   "cell_type": "code",
   "execution_count": 140,
   "id": "d1d39c9c",
   "metadata": {},
   "outputs": [
    {
     "data": {
      "text/html": [
       "<div>\n",
       "<style scoped>\n",
       "    .dataframe tbody tr th:only-of-type {\n",
       "        vertical-align: middle;\n",
       "    }\n",
       "\n",
       "    .dataframe tbody tr th {\n",
       "        vertical-align: top;\n",
       "    }\n",
       "\n",
       "    .dataframe thead th {\n",
       "        text-align: right;\n",
       "    }\n",
       "</style>\n",
       "<table border=\"1\" class=\"dataframe\">\n",
       "  <thead>\n",
       "    <tr style=\"text-align: right;\">\n",
       "      <th></th>\n",
       "      <th>nombre</th>\n",
       "      <th>edad</th>\n",
       "      <th>sexo</th>\n",
       "      <th>peso</th>\n",
       "      <th>altura</th>\n",
       "      <th>colesterol</th>\n",
       "    </tr>\n",
       "  </thead>\n",
       "  <tbody>\n",
       "    <tr>\n",
       "      <th>0</th>\n",
       "      <td>José Luis Martínez Izquierdo</td>\n",
       "      <td>18</td>\n",
       "      <td>H</td>\n",
       "      <td>85.0</td>\n",
       "      <td>1.79</td>\n",
       "      <td>182.0</td>\n",
       "    </tr>\n",
       "    <tr>\n",
       "      <th>1</th>\n",
       "      <td>Rosa Díaz Díaz</td>\n",
       "      <td>32</td>\n",
       "      <td>M</td>\n",
       "      <td>65.0</td>\n",
       "      <td>1.73</td>\n",
       "      <td>232.0</td>\n",
       "    </tr>\n",
       "    <tr>\n",
       "      <th>2</th>\n",
       "      <td>Javier García Sánchez</td>\n",
       "      <td>24</td>\n",
       "      <td>H</td>\n",
       "      <td>NaN</td>\n",
       "      <td>1.81</td>\n",
       "      <td>191.0</td>\n",
       "    </tr>\n",
       "    <tr>\n",
       "      <th>3</th>\n",
       "      <td>Carmen López Pinzón</td>\n",
       "      <td>35</td>\n",
       "      <td>M</td>\n",
       "      <td>65.0</td>\n",
       "      <td>1.70</td>\n",
       "      <td>200.0</td>\n",
       "    </tr>\n",
       "    <tr>\n",
       "      <th>4</th>\n",
       "      <td>Marisa López Collado</td>\n",
       "      <td>46</td>\n",
       "      <td>M</td>\n",
       "      <td>51.0</td>\n",
       "      <td>1.58</td>\n",
       "      <td>148.0</td>\n",
       "    </tr>\n",
       "    <tr>\n",
       "      <th>5</th>\n",
       "      <td>Antonio Ruiz Cruz</td>\n",
       "      <td>68</td>\n",
       "      <td>H</td>\n",
       "      <td>66.0</td>\n",
       "      <td>1.74</td>\n",
       "      <td>249.0</td>\n",
       "    </tr>\n",
       "    <tr>\n",
       "      <th>6</th>\n",
       "      <td>Antonio Fernández Ocaña</td>\n",
       "      <td>51</td>\n",
       "      <td>H</td>\n",
       "      <td>62.0</td>\n",
       "      <td>1.72</td>\n",
       "      <td>276.0</td>\n",
       "    </tr>\n",
       "    <tr>\n",
       "      <th>7</th>\n",
       "      <td>Pilar Martín González</td>\n",
       "      <td>22</td>\n",
       "      <td>M</td>\n",
       "      <td>60.0</td>\n",
       "      <td>1.66</td>\n",
       "      <td>NaN</td>\n",
       "    </tr>\n",
       "    <tr>\n",
       "      <th>8</th>\n",
       "      <td>Pedro Gálvez Tenorio</td>\n",
       "      <td>35</td>\n",
       "      <td>H</td>\n",
       "      <td>90.0</td>\n",
       "      <td>1.94</td>\n",
       "      <td>241.0</td>\n",
       "    </tr>\n",
       "    <tr>\n",
       "      <th>9</th>\n",
       "      <td>Santiago Reillo Manzano</td>\n",
       "      <td>46</td>\n",
       "      <td>H</td>\n",
       "      <td>75.0</td>\n",
       "      <td>1.85</td>\n",
       "      <td>280.0</td>\n",
       "    </tr>\n",
       "    <tr>\n",
       "      <th>10</th>\n",
       "      <td>Macarena Álvarez Luna</td>\n",
       "      <td>53</td>\n",
       "      <td>M</td>\n",
       "      <td>55.0</td>\n",
       "      <td>1.62</td>\n",
       "      <td>262.0</td>\n",
       "    </tr>\n",
       "    <tr>\n",
       "      <th>11</th>\n",
       "      <td>José María de la Guía Sanz</td>\n",
       "      <td>58</td>\n",
       "      <td>H</td>\n",
       "      <td>78.0</td>\n",
       "      <td>1.87</td>\n",
       "      <td>198.0</td>\n",
       "    </tr>\n",
       "    <tr>\n",
       "      <th>12</th>\n",
       "      <td>Miguel Angel Cuadrado Gutiérrez</td>\n",
       "      <td>27</td>\n",
       "      <td>H</td>\n",
       "      <td>109.0</td>\n",
       "      <td>1.98</td>\n",
       "      <td>210.0</td>\n",
       "    </tr>\n",
       "    <tr>\n",
       "      <th>13</th>\n",
       "      <td>Carolina Rubio Moreno</td>\n",
       "      <td>20</td>\n",
       "      <td>M</td>\n",
       "      <td>61.0</td>\n",
       "      <td>1.77</td>\n",
       "      <td>194.0</td>\n",
       "    </tr>\n",
       "  </tbody>\n",
       "</table>\n",
       "</div>"
      ],
      "text/plain": [
       "                             nombre  edad sexo   peso  altura  colesterol\n",
       "0      José Luis Martínez Izquierdo    18    H   85.0    1.79       182.0\n",
       "1                    Rosa Díaz Díaz    32    M   65.0    1.73       232.0\n",
       "2             Javier García Sánchez    24    H    NaN    1.81       191.0\n",
       "3               Carmen López Pinzón    35    M   65.0    1.70       200.0\n",
       "4              Marisa López Collado    46    M   51.0    1.58       148.0\n",
       "5                 Antonio Ruiz Cruz    68    H   66.0    1.74       249.0\n",
       "6           Antonio Fernández Ocaña    51    H   62.0    1.72       276.0\n",
       "7             Pilar Martín González    22    M   60.0    1.66         NaN\n",
       "8              Pedro Gálvez Tenorio    35    H   90.0    1.94       241.0\n",
       "9           Santiago Reillo Manzano    46    H   75.0    1.85       280.0\n",
       "10            Macarena Álvarez Luna    53    M   55.0    1.62       262.0\n",
       "11       José María de la Guía Sanz    58    H   78.0    1.87       198.0\n",
       "12  Miguel Angel Cuadrado Gutiérrez    27    H  109.0    1.98       210.0\n",
       "13            Carolina Rubio Moreno    20    M   61.0    1.77       194.0"
      ]
     },
     "execution_count": 140,
     "metadata": {},
     "output_type": "execute_result"
    }
   ],
   "source": [
    "colesterol"
   ]
  },
  {
   "cell_type": "code",
   "execution_count": 151,
   "id": "45564dd0",
   "metadata": {},
   "outputs": [
    {
     "data": {
      "text/html": [
       "<div>\n",
       "<style scoped>\n",
       "    .dataframe tbody tr th:only-of-type {\n",
       "        vertical-align: middle;\n",
       "    }\n",
       "\n",
       "    .dataframe tbody tr th {\n",
       "        vertical-align: top;\n",
       "    }\n",
       "\n",
       "    .dataframe thead th {\n",
       "        text-align: right;\n",
       "    }\n",
       "</style>\n",
       "<table border=\"1\" class=\"dataframe\">\n",
       "  <thead>\n",
       "    <tr style=\"text-align: right;\">\n",
       "      <th></th>\n",
       "      <th>nombre</th>\n",
       "      <th>colesterol</th>\n",
       "    </tr>\n",
       "  </thead>\n",
       "  <tbody>\n",
       "    <tr>\n",
       "      <th>0</th>\n",
       "      <td>José Luis Martínez Izquierdo</td>\n",
       "      <td>182.0</td>\n",
       "    </tr>\n",
       "    <tr>\n",
       "      <th>1</th>\n",
       "      <td>Rosa Díaz Díaz</td>\n",
       "      <td>232.0</td>\n",
       "    </tr>\n",
       "    <tr>\n",
       "      <th>2</th>\n",
       "      <td>Javier García Sánchez</td>\n",
       "      <td>191.0</td>\n",
       "    </tr>\n",
       "    <tr>\n",
       "      <th>3</th>\n",
       "      <td>Carmen López Pinzón</td>\n",
       "      <td>200.0</td>\n",
       "    </tr>\n",
       "    <tr>\n",
       "      <th>4</th>\n",
       "      <td>Marisa López Collado</td>\n",
       "      <td>148.0</td>\n",
       "    </tr>\n",
       "    <tr>\n",
       "      <th>5</th>\n",
       "      <td>Antonio Ruiz Cruz</td>\n",
       "      <td>249.0</td>\n",
       "    </tr>\n",
       "    <tr>\n",
       "      <th>6</th>\n",
       "      <td>Antonio Fernández Ocaña</td>\n",
       "      <td>276.0</td>\n",
       "    </tr>\n",
       "    <tr>\n",
       "      <th>7</th>\n",
       "      <td>Pilar Martín González</td>\n",
       "      <td>NaN</td>\n",
       "    </tr>\n",
       "    <tr>\n",
       "      <th>8</th>\n",
       "      <td>Pedro Gálvez Tenorio</td>\n",
       "      <td>241.0</td>\n",
       "    </tr>\n",
       "    <tr>\n",
       "      <th>9</th>\n",
       "      <td>Santiago Reillo Manzano</td>\n",
       "      <td>280.0</td>\n",
       "    </tr>\n",
       "    <tr>\n",
       "      <th>10</th>\n",
       "      <td>Macarena Álvarez Luna</td>\n",
       "      <td>262.0</td>\n",
       "    </tr>\n",
       "    <tr>\n",
       "      <th>11</th>\n",
       "      <td>José María de la Guía Sanz</td>\n",
       "      <td>198.0</td>\n",
       "    </tr>\n",
       "    <tr>\n",
       "      <th>12</th>\n",
       "      <td>Miguel Angel Cuadrado Gutiérrez</td>\n",
       "      <td>210.0</td>\n",
       "    </tr>\n",
       "    <tr>\n",
       "      <th>13</th>\n",
       "      <td>Carolina Rubio Moreno</td>\n",
       "      <td>194.0</td>\n",
       "    </tr>\n",
       "  </tbody>\n",
       "</table>\n",
       "</div>"
      ],
      "text/plain": [
       "                             nombre  colesterol\n",
       "0      José Luis Martínez Izquierdo       182.0\n",
       "1                    Rosa Díaz Díaz       232.0\n",
       "2             Javier García Sánchez       191.0\n",
       "3               Carmen López Pinzón       200.0\n",
       "4              Marisa López Collado       148.0\n",
       "5                 Antonio Ruiz Cruz       249.0\n",
       "6           Antonio Fernández Ocaña       276.0\n",
       "7             Pilar Martín González         NaN\n",
       "8              Pedro Gálvez Tenorio       241.0\n",
       "9           Santiago Reillo Manzano       280.0\n",
       "10            Macarena Álvarez Luna       262.0\n",
       "11       José María de la Guía Sanz       198.0\n",
       "12  Miguel Angel Cuadrado Gutiérrez       210.0\n",
       "13            Carolina Rubio Moreno       194.0"
      ]
     },
     "execution_count": 151,
     "metadata": {},
     "output_type": "execute_result"
    }
   ],
   "source": [
    "colesterol.iloc[:, [0,5]]"
   ]
  },
  {
   "cell_type": "code",
   "execution_count": 152,
   "id": "2334ced9",
   "metadata": {},
   "outputs": [
    {
     "data": {
      "text/html": [
       "<div>\n",
       "<style scoped>\n",
       "    .dataframe tbody tr th:only-of-type {\n",
       "        vertical-align: middle;\n",
       "    }\n",
       "\n",
       "    .dataframe tbody tr th {\n",
       "        vertical-align: top;\n",
       "    }\n",
       "\n",
       "    .dataframe thead th {\n",
       "        text-align: right;\n",
       "    }\n",
       "</style>\n",
       "<table border=\"1\" class=\"dataframe\">\n",
       "  <thead>\n",
       "    <tr style=\"text-align: right;\">\n",
       "      <th></th>\n",
       "      <th>nombre</th>\n",
       "      <th>colesterol</th>\n",
       "    </tr>\n",
       "  </thead>\n",
       "  <tbody>\n",
       "    <tr>\n",
       "      <th>0</th>\n",
       "      <td>José Luis Martínez Izquierdo</td>\n",
       "      <td>182.0</td>\n",
       "    </tr>\n",
       "    <tr>\n",
       "      <th>1</th>\n",
       "      <td>Rosa Díaz Díaz</td>\n",
       "      <td>232.0</td>\n",
       "    </tr>\n",
       "    <tr>\n",
       "      <th>2</th>\n",
       "      <td>Javier García Sánchez</td>\n",
       "      <td>191.0</td>\n",
       "    </tr>\n",
       "    <tr>\n",
       "      <th>3</th>\n",
       "      <td>Carmen López Pinzón</td>\n",
       "      <td>200.0</td>\n",
       "    </tr>\n",
       "    <tr>\n",
       "      <th>4</th>\n",
       "      <td>Marisa López Collado</td>\n",
       "      <td>148.0</td>\n",
       "    </tr>\n",
       "    <tr>\n",
       "      <th>5</th>\n",
       "      <td>Antonio Ruiz Cruz</td>\n",
       "      <td>249.0</td>\n",
       "    </tr>\n",
       "    <tr>\n",
       "      <th>6</th>\n",
       "      <td>Antonio Fernández Ocaña</td>\n",
       "      <td>276.0</td>\n",
       "    </tr>\n",
       "    <tr>\n",
       "      <th>7</th>\n",
       "      <td>Pilar Martín González</td>\n",
       "      <td>NaN</td>\n",
       "    </tr>\n",
       "    <tr>\n",
       "      <th>8</th>\n",
       "      <td>Pedro Gálvez Tenorio</td>\n",
       "      <td>241.0</td>\n",
       "    </tr>\n",
       "    <tr>\n",
       "      <th>9</th>\n",
       "      <td>Santiago Reillo Manzano</td>\n",
       "      <td>280.0</td>\n",
       "    </tr>\n",
       "    <tr>\n",
       "      <th>10</th>\n",
       "      <td>Macarena Álvarez Luna</td>\n",
       "      <td>262.0</td>\n",
       "    </tr>\n",
       "    <tr>\n",
       "      <th>11</th>\n",
       "      <td>José María de la Guía Sanz</td>\n",
       "      <td>198.0</td>\n",
       "    </tr>\n",
       "    <tr>\n",
       "      <th>12</th>\n",
       "      <td>Miguel Angel Cuadrado Gutiérrez</td>\n",
       "      <td>210.0</td>\n",
       "    </tr>\n",
       "    <tr>\n",
       "      <th>13</th>\n",
       "      <td>Carolina Rubio Moreno</td>\n",
       "      <td>194.0</td>\n",
       "    </tr>\n",
       "  </tbody>\n",
       "</table>\n",
       "</div>"
      ],
      "text/plain": [
       "                             nombre  colesterol\n",
       "0      José Luis Martínez Izquierdo       182.0\n",
       "1                    Rosa Díaz Díaz       232.0\n",
       "2             Javier García Sánchez       191.0\n",
       "3               Carmen López Pinzón       200.0\n",
       "4              Marisa López Collado       148.0\n",
       "5                 Antonio Ruiz Cruz       249.0\n",
       "6           Antonio Fernández Ocaña       276.0\n",
       "7             Pilar Martín González         NaN\n",
       "8              Pedro Gálvez Tenorio       241.0\n",
       "9           Santiago Reillo Manzano       280.0\n",
       "10            Macarena Álvarez Luna       262.0\n",
       "11       José María de la Guía Sanz       198.0\n",
       "12  Miguel Angel Cuadrado Gutiérrez       210.0\n",
       "13            Carolina Rubio Moreno       194.0"
      ]
     },
     "execution_count": 152,
     "metadata": {},
     "output_type": "execute_result"
    }
   ],
   "source": [
    "colesterol.loc[:, ['nombre', 'colesterol']]"
   ]
  },
  {
   "cell_type": "code",
   "execution_count": 157,
   "id": "c900557f",
   "metadata": {},
   "outputs": [
    {
     "data": {
      "text/plain": [
       "pandas.core.frame.DataFrame"
      ]
     },
     "execution_count": 157,
     "metadata": {},
     "output_type": "execute_result"
    }
   ],
   "source": [
    "type(colesterol[['nombre']])"
   ]
  },
  {
   "cell_type": "code",
   "execution_count": 158,
   "id": "339ae882",
   "metadata": {},
   "outputs": [
    {
     "data": {
      "text/plain": [
       "pandas.core.series.Series"
      ]
     },
     "execution_count": 158,
     "metadata": {},
     "output_type": "execute_result"
    }
   ],
   "source": [
    "type(colesterol['nombre'])"
   ]
  },
  {
   "cell_type": "code",
   "execution_count": 159,
   "id": "ca5241d8",
   "metadata": {},
   "outputs": [
    {
     "data": {
      "text/html": [
       "<div>\n",
       "<style scoped>\n",
       "    .dataframe tbody tr th:only-of-type {\n",
       "        vertical-align: middle;\n",
       "    }\n",
       "\n",
       "    .dataframe tbody tr th {\n",
       "        vertical-align: top;\n",
       "    }\n",
       "\n",
       "    .dataframe thead th {\n",
       "        text-align: right;\n",
       "    }\n",
       "</style>\n",
       "<table border=\"1\" class=\"dataframe\">\n",
       "  <thead>\n",
       "    <tr style=\"text-align: right;\">\n",
       "      <th></th>\n",
       "      <th>nombre</th>\n",
       "      <th>edad</th>\n",
       "    </tr>\n",
       "  </thead>\n",
       "  <tbody>\n",
       "    <tr>\n",
       "      <th>0</th>\n",
       "      <td>José Luis Martínez Izquierdo</td>\n",
       "      <td>18</td>\n",
       "    </tr>\n",
       "    <tr>\n",
       "      <th>1</th>\n",
       "      <td>Rosa Díaz Díaz</td>\n",
       "      <td>32</td>\n",
       "    </tr>\n",
       "    <tr>\n",
       "      <th>2</th>\n",
       "      <td>Javier García Sánchez</td>\n",
       "      <td>24</td>\n",
       "    </tr>\n",
       "    <tr>\n",
       "      <th>3</th>\n",
       "      <td>Carmen López Pinzón</td>\n",
       "      <td>35</td>\n",
       "    </tr>\n",
       "    <tr>\n",
       "      <th>4</th>\n",
       "      <td>Marisa López Collado</td>\n",
       "      <td>46</td>\n",
       "    </tr>\n",
       "    <tr>\n",
       "      <th>5</th>\n",
       "      <td>Antonio Ruiz Cruz</td>\n",
       "      <td>68</td>\n",
       "    </tr>\n",
       "    <tr>\n",
       "      <th>6</th>\n",
       "      <td>Antonio Fernández Ocaña</td>\n",
       "      <td>51</td>\n",
       "    </tr>\n",
       "    <tr>\n",
       "      <th>7</th>\n",
       "      <td>Pilar Martín González</td>\n",
       "      <td>22</td>\n",
       "    </tr>\n",
       "    <tr>\n",
       "      <th>8</th>\n",
       "      <td>Pedro Gálvez Tenorio</td>\n",
       "      <td>35</td>\n",
       "    </tr>\n",
       "    <tr>\n",
       "      <th>9</th>\n",
       "      <td>Santiago Reillo Manzano</td>\n",
       "      <td>46</td>\n",
       "    </tr>\n",
       "    <tr>\n",
       "      <th>10</th>\n",
       "      <td>Macarena Álvarez Luna</td>\n",
       "      <td>53</td>\n",
       "    </tr>\n",
       "    <tr>\n",
       "      <th>11</th>\n",
       "      <td>José María de la Guía Sanz</td>\n",
       "      <td>58</td>\n",
       "    </tr>\n",
       "    <tr>\n",
       "      <th>12</th>\n",
       "      <td>Miguel Angel Cuadrado Gutiérrez</td>\n",
       "      <td>27</td>\n",
       "    </tr>\n",
       "    <tr>\n",
       "      <th>13</th>\n",
       "      <td>Carolina Rubio Moreno</td>\n",
       "      <td>20</td>\n",
       "    </tr>\n",
       "  </tbody>\n",
       "</table>\n",
       "</div>"
      ],
      "text/plain": [
       "                             nombre  edad\n",
       "0      José Luis Martínez Izquierdo    18\n",
       "1                    Rosa Díaz Díaz    32\n",
       "2             Javier García Sánchez    24\n",
       "3               Carmen López Pinzón    35\n",
       "4              Marisa López Collado    46\n",
       "5                 Antonio Ruiz Cruz    68\n",
       "6           Antonio Fernández Ocaña    51\n",
       "7             Pilar Martín González    22\n",
       "8              Pedro Gálvez Tenorio    35\n",
       "9           Santiago Reillo Manzano    46\n",
       "10            Macarena Álvarez Luna    53\n",
       "11       José María de la Guía Sanz    58\n",
       "12  Miguel Angel Cuadrado Gutiérrez    27\n",
       "13            Carolina Rubio Moreno    20"
      ]
     },
     "execution_count": 159,
     "metadata": {},
     "output_type": "execute_result"
    }
   ],
   "source": [
    "colesterol[['nombre', 'edad']]"
   ]
  },
  {
   "cell_type": "code",
   "execution_count": 161,
   "id": "18e6faa8",
   "metadata": {},
   "outputs": [
    {
     "data": {
      "text/plain": [
       "0        José Luis Martínez Izquierdo\n",
       "1                      Rosa Díaz Díaz\n",
       "2               Javier García Sánchez\n",
       "3                 Carmen López Pinzón\n",
       "4                Marisa López Collado\n",
       "5                   Antonio Ruiz Cruz\n",
       "6             Antonio Fernández Ocaña\n",
       "7               Pilar Martín González\n",
       "8                Pedro Gálvez Tenorio\n",
       "9             Santiago Reillo Manzano\n",
       "10              Macarena Álvarez Luna\n",
       "11         José María de la Guía Sanz\n",
       "12    Miguel Angel Cuadrado Gutiérrez\n",
       "13              Carolina Rubio Moreno\n",
       "Name: nombre, dtype: object"
      ]
     },
     "execution_count": 161,
     "metadata": {},
     "output_type": "execute_result"
    }
   ],
   "source": [
    "colesterol.nombre"
   ]
  },
  {
   "cell_type": "code",
   "execution_count": 162,
   "id": "c9a9f8f7",
   "metadata": {},
   "outputs": [
    {
     "data": {
      "text/html": [
       "<div>\n",
       "<style scoped>\n",
       "    .dataframe tbody tr th:only-of-type {\n",
       "        vertical-align: middle;\n",
       "    }\n",
       "\n",
       "    .dataframe tbody tr th {\n",
       "        vertical-align: top;\n",
       "    }\n",
       "\n",
       "    .dataframe thead th {\n",
       "        text-align: right;\n",
       "    }\n",
       "</style>\n",
       "<table border=\"1\" class=\"dataframe\">\n",
       "  <thead>\n",
       "    <tr style=\"text-align: right;\">\n",
       "      <th></th>\n",
       "      <th>nombre</th>\n",
       "      <th>colesterol</th>\n",
       "    </tr>\n",
       "  </thead>\n",
       "  <tbody>\n",
       "    <tr>\n",
       "      <th>3</th>\n",
       "      <td>Carmen López Pinzón</td>\n",
       "      <td>200.0</td>\n",
       "    </tr>\n",
       "    <tr>\n",
       "      <th>4</th>\n",
       "      <td>Marisa López Collado</td>\n",
       "      <td>148.0</td>\n",
       "    </tr>\n",
       "  </tbody>\n",
       "</table>\n",
       "</div>"
      ],
      "text/plain": [
       "                 nombre  colesterol\n",
       "3   Carmen López Pinzón       200.0\n",
       "4  Marisa López Collado       148.0"
      ]
     },
     "execution_count": 162,
     "metadata": {},
     "output_type": "execute_result"
    }
   ],
   "source": [
    "colesterol.loc[3:4, ['nombre', 'colesterol']]"
   ]
  },
  {
   "cell_type": "code",
   "execution_count": 163,
   "id": "e537c205",
   "metadata": {},
   "outputs": [
    {
     "data": {
      "text/html": [
       "<div>\n",
       "<style scoped>\n",
       "    .dataframe tbody tr th:only-of-type {\n",
       "        vertical-align: middle;\n",
       "    }\n",
       "\n",
       "    .dataframe tbody tr th {\n",
       "        vertical-align: top;\n",
       "    }\n",
       "\n",
       "    .dataframe thead th {\n",
       "        text-align: right;\n",
       "    }\n",
       "</style>\n",
       "<table border=\"1\" class=\"dataframe\">\n",
       "  <thead>\n",
       "    <tr style=\"text-align: right;\">\n",
       "      <th></th>\n",
       "      <th>nombre</th>\n",
       "      <th>edad</th>\n",
       "      <th>sexo</th>\n",
       "      <th>peso</th>\n",
       "      <th>altura</th>\n",
       "      <th>colesterol</th>\n",
       "    </tr>\n",
       "  </thead>\n",
       "  <tbody>\n",
       "    <tr>\n",
       "      <th>4</th>\n",
       "      <td>Marisa López Collado</td>\n",
       "      <td>46</td>\n",
       "      <td>M</td>\n",
       "      <td>51.0</td>\n",
       "      <td>1.58</td>\n",
       "      <td>148.0</td>\n",
       "    </tr>\n",
       "    <tr>\n",
       "      <th>5</th>\n",
       "      <td>Antonio Ruiz Cruz</td>\n",
       "      <td>68</td>\n",
       "      <td>H</td>\n",
       "      <td>66.0</td>\n",
       "      <td>1.74</td>\n",
       "      <td>249.0</td>\n",
       "    </tr>\n",
       "    <tr>\n",
       "      <th>6</th>\n",
       "      <td>Antonio Fernández Ocaña</td>\n",
       "      <td>51</td>\n",
       "      <td>H</td>\n",
       "      <td>62.0</td>\n",
       "      <td>1.72</td>\n",
       "      <td>276.0</td>\n",
       "    </tr>\n",
       "    <tr>\n",
       "      <th>9</th>\n",
       "      <td>Santiago Reillo Manzano</td>\n",
       "      <td>46</td>\n",
       "      <td>H</td>\n",
       "      <td>75.0</td>\n",
       "      <td>1.85</td>\n",
       "      <td>280.0</td>\n",
       "    </tr>\n",
       "    <tr>\n",
       "      <th>10</th>\n",
       "      <td>Macarena Álvarez Luna</td>\n",
       "      <td>53</td>\n",
       "      <td>M</td>\n",
       "      <td>55.0</td>\n",
       "      <td>1.62</td>\n",
       "      <td>262.0</td>\n",
       "    </tr>\n",
       "    <tr>\n",
       "      <th>11</th>\n",
       "      <td>José María de la Guía Sanz</td>\n",
       "      <td>58</td>\n",
       "      <td>H</td>\n",
       "      <td>78.0</td>\n",
       "      <td>1.87</td>\n",
       "      <td>198.0</td>\n",
       "    </tr>\n",
       "  </tbody>\n",
       "</table>\n",
       "</div>"
      ],
      "text/plain": [
       "                        nombre  edad sexo  peso  altura  colesterol\n",
       "4         Marisa López Collado    46    M  51.0    1.58       148.0\n",
       "5            Antonio Ruiz Cruz    68    H  66.0    1.74       249.0\n",
       "6      Antonio Fernández Ocaña    51    H  62.0    1.72       276.0\n",
       "9      Santiago Reillo Manzano    46    H  75.0    1.85       280.0\n",
       "10       Macarena Álvarez Luna    53    M  55.0    1.62       262.0\n",
       "11  José María de la Guía Sanz    58    H  78.0    1.87       198.0"
      ]
     },
     "execution_count": 163,
     "metadata": {},
     "output_type": "execute_result"
    }
   ],
   "source": [
    "colesterol.loc[colesterol['edad'] > 35]"
   ]
  },
  {
   "cell_type": "code",
   "execution_count": 164,
   "id": "7ecc1323",
   "metadata": {},
   "outputs": [],
   "source": [
    "colesterol['diabetes'] = pd.Series([False, False, True, False, True])"
   ]
  },
  {
   "cell_type": "code",
   "execution_count": 165,
   "id": "b957c44a",
   "metadata": {},
   "outputs": [
    {
     "data": {
      "text/html": [
       "<div>\n",
       "<style scoped>\n",
       "    .dataframe tbody tr th:only-of-type {\n",
       "        vertical-align: middle;\n",
       "    }\n",
       "\n",
       "    .dataframe tbody tr th {\n",
       "        vertical-align: top;\n",
       "    }\n",
       "\n",
       "    .dataframe thead th {\n",
       "        text-align: right;\n",
       "    }\n",
       "</style>\n",
       "<table border=\"1\" class=\"dataframe\">\n",
       "  <thead>\n",
       "    <tr style=\"text-align: right;\">\n",
       "      <th></th>\n",
       "      <th>nombre</th>\n",
       "      <th>edad</th>\n",
       "      <th>sexo</th>\n",
       "      <th>peso</th>\n",
       "      <th>altura</th>\n",
       "      <th>colesterol</th>\n",
       "      <th>diabetes</th>\n",
       "    </tr>\n",
       "  </thead>\n",
       "  <tbody>\n",
       "    <tr>\n",
       "      <th>0</th>\n",
       "      <td>José Luis Martínez Izquierdo</td>\n",
       "      <td>18</td>\n",
       "      <td>H</td>\n",
       "      <td>85.0</td>\n",
       "      <td>1.79</td>\n",
       "      <td>182.0</td>\n",
       "      <td>False</td>\n",
       "    </tr>\n",
       "    <tr>\n",
       "      <th>1</th>\n",
       "      <td>Rosa Díaz Díaz</td>\n",
       "      <td>32</td>\n",
       "      <td>M</td>\n",
       "      <td>65.0</td>\n",
       "      <td>1.73</td>\n",
       "      <td>232.0</td>\n",
       "      <td>False</td>\n",
       "    </tr>\n",
       "    <tr>\n",
       "      <th>2</th>\n",
       "      <td>Javier García Sánchez</td>\n",
       "      <td>24</td>\n",
       "      <td>H</td>\n",
       "      <td>NaN</td>\n",
       "      <td>1.81</td>\n",
       "      <td>191.0</td>\n",
       "      <td>True</td>\n",
       "    </tr>\n",
       "    <tr>\n",
       "      <th>3</th>\n",
       "      <td>Carmen López Pinzón</td>\n",
       "      <td>35</td>\n",
       "      <td>M</td>\n",
       "      <td>65.0</td>\n",
       "      <td>1.70</td>\n",
       "      <td>200.0</td>\n",
       "      <td>False</td>\n",
       "    </tr>\n",
       "    <tr>\n",
       "      <th>4</th>\n",
       "      <td>Marisa López Collado</td>\n",
       "      <td>46</td>\n",
       "      <td>M</td>\n",
       "      <td>51.0</td>\n",
       "      <td>1.58</td>\n",
       "      <td>148.0</td>\n",
       "      <td>True</td>\n",
       "    </tr>\n",
       "    <tr>\n",
       "      <th>5</th>\n",
       "      <td>Antonio Ruiz Cruz</td>\n",
       "      <td>68</td>\n",
       "      <td>H</td>\n",
       "      <td>66.0</td>\n",
       "      <td>1.74</td>\n",
       "      <td>249.0</td>\n",
       "      <td>NaN</td>\n",
       "    </tr>\n",
       "    <tr>\n",
       "      <th>6</th>\n",
       "      <td>Antonio Fernández Ocaña</td>\n",
       "      <td>51</td>\n",
       "      <td>H</td>\n",
       "      <td>62.0</td>\n",
       "      <td>1.72</td>\n",
       "      <td>276.0</td>\n",
       "      <td>NaN</td>\n",
       "    </tr>\n",
       "    <tr>\n",
       "      <th>7</th>\n",
       "      <td>Pilar Martín González</td>\n",
       "      <td>22</td>\n",
       "      <td>M</td>\n",
       "      <td>60.0</td>\n",
       "      <td>1.66</td>\n",
       "      <td>NaN</td>\n",
       "      <td>NaN</td>\n",
       "    </tr>\n",
       "    <tr>\n",
       "      <th>8</th>\n",
       "      <td>Pedro Gálvez Tenorio</td>\n",
       "      <td>35</td>\n",
       "      <td>H</td>\n",
       "      <td>90.0</td>\n",
       "      <td>1.94</td>\n",
       "      <td>241.0</td>\n",
       "      <td>NaN</td>\n",
       "    </tr>\n",
       "    <tr>\n",
       "      <th>9</th>\n",
       "      <td>Santiago Reillo Manzano</td>\n",
       "      <td>46</td>\n",
       "      <td>H</td>\n",
       "      <td>75.0</td>\n",
       "      <td>1.85</td>\n",
       "      <td>280.0</td>\n",
       "      <td>NaN</td>\n",
       "    </tr>\n",
       "    <tr>\n",
       "      <th>10</th>\n",
       "      <td>Macarena Álvarez Luna</td>\n",
       "      <td>53</td>\n",
       "      <td>M</td>\n",
       "      <td>55.0</td>\n",
       "      <td>1.62</td>\n",
       "      <td>262.0</td>\n",
       "      <td>NaN</td>\n",
       "    </tr>\n",
       "    <tr>\n",
       "      <th>11</th>\n",
       "      <td>José María de la Guía Sanz</td>\n",
       "      <td>58</td>\n",
       "      <td>H</td>\n",
       "      <td>78.0</td>\n",
       "      <td>1.87</td>\n",
       "      <td>198.0</td>\n",
       "      <td>NaN</td>\n",
       "    </tr>\n",
       "    <tr>\n",
       "      <th>12</th>\n",
       "      <td>Miguel Angel Cuadrado Gutiérrez</td>\n",
       "      <td>27</td>\n",
       "      <td>H</td>\n",
       "      <td>109.0</td>\n",
       "      <td>1.98</td>\n",
       "      <td>210.0</td>\n",
       "      <td>NaN</td>\n",
       "    </tr>\n",
       "    <tr>\n",
       "      <th>13</th>\n",
       "      <td>Carolina Rubio Moreno</td>\n",
       "      <td>20</td>\n",
       "      <td>M</td>\n",
       "      <td>61.0</td>\n",
       "      <td>1.77</td>\n",
       "      <td>194.0</td>\n",
       "      <td>NaN</td>\n",
       "    </tr>\n",
       "  </tbody>\n",
       "</table>\n",
       "</div>"
      ],
      "text/plain": [
       "                             nombre  edad sexo   peso  altura  colesterol  \\\n",
       "0      José Luis Martínez Izquierdo    18    H   85.0    1.79       182.0   \n",
       "1                    Rosa Díaz Díaz    32    M   65.0    1.73       232.0   \n",
       "2             Javier García Sánchez    24    H    NaN    1.81       191.0   \n",
       "3               Carmen López Pinzón    35    M   65.0    1.70       200.0   \n",
       "4              Marisa López Collado    46    M   51.0    1.58       148.0   \n",
       "5                 Antonio Ruiz Cruz    68    H   66.0    1.74       249.0   \n",
       "6           Antonio Fernández Ocaña    51    H   62.0    1.72       276.0   \n",
       "7             Pilar Martín González    22    M   60.0    1.66         NaN   \n",
       "8              Pedro Gálvez Tenorio    35    H   90.0    1.94       241.0   \n",
       "9           Santiago Reillo Manzano    46    H   75.0    1.85       280.0   \n",
       "10            Macarena Álvarez Luna    53    M   55.0    1.62       262.0   \n",
       "11       José María de la Guía Sanz    58    H   78.0    1.87       198.0   \n",
       "12  Miguel Angel Cuadrado Gutiérrez    27    H  109.0    1.98       210.0   \n",
       "13            Carolina Rubio Moreno    20    M   61.0    1.77       194.0   \n",
       "\n",
       "   diabetes  \n",
       "0     False  \n",
       "1     False  \n",
       "2      True  \n",
       "3     False  \n",
       "4      True  \n",
       "5       NaN  \n",
       "6       NaN  \n",
       "7       NaN  \n",
       "8       NaN  \n",
       "9       NaN  \n",
       "10      NaN  \n",
       "11      NaN  \n",
       "12      NaN  \n",
       "13      NaN  "
      ]
     },
     "execution_count": 165,
     "metadata": {},
     "output_type": "execute_result"
    }
   ],
   "source": [
    "colesterol"
   ]
  },
  {
   "cell_type": "code",
   "execution_count": 167,
   "id": "7053cefc",
   "metadata": {},
   "outputs": [],
   "source": [
    "colesterol['turno'] = [True, True, False, True, True, False, False, False, True, True, False, True, True, False]"
   ]
  },
  {
   "cell_type": "code",
   "execution_count": 168,
   "id": "3eaa1edc",
   "metadata": {},
   "outputs": [
    {
     "data": {
      "text/html": [
       "<div>\n",
       "<style scoped>\n",
       "    .dataframe tbody tr th:only-of-type {\n",
       "        vertical-align: middle;\n",
       "    }\n",
       "\n",
       "    .dataframe tbody tr th {\n",
       "        vertical-align: top;\n",
       "    }\n",
       "\n",
       "    .dataframe thead th {\n",
       "        text-align: right;\n",
       "    }\n",
       "</style>\n",
       "<table border=\"1\" class=\"dataframe\">\n",
       "  <thead>\n",
       "    <tr style=\"text-align: right;\">\n",
       "      <th></th>\n",
       "      <th>nombre</th>\n",
       "      <th>edad</th>\n",
       "      <th>sexo</th>\n",
       "      <th>peso</th>\n",
       "      <th>altura</th>\n",
       "      <th>colesterol</th>\n",
       "      <th>diabetes</th>\n",
       "      <th>turno</th>\n",
       "    </tr>\n",
       "  </thead>\n",
       "  <tbody>\n",
       "    <tr>\n",
       "      <th>0</th>\n",
       "      <td>José Luis Martínez Izquierdo</td>\n",
       "      <td>18</td>\n",
       "      <td>H</td>\n",
       "      <td>85.0</td>\n",
       "      <td>1.79</td>\n",
       "      <td>182.0</td>\n",
       "      <td>False</td>\n",
       "      <td>True</td>\n",
       "    </tr>\n",
       "    <tr>\n",
       "      <th>1</th>\n",
       "      <td>Rosa Díaz Díaz</td>\n",
       "      <td>32</td>\n",
       "      <td>M</td>\n",
       "      <td>65.0</td>\n",
       "      <td>1.73</td>\n",
       "      <td>232.0</td>\n",
       "      <td>False</td>\n",
       "      <td>True</td>\n",
       "    </tr>\n",
       "    <tr>\n",
       "      <th>2</th>\n",
       "      <td>Javier García Sánchez</td>\n",
       "      <td>24</td>\n",
       "      <td>H</td>\n",
       "      <td>NaN</td>\n",
       "      <td>1.81</td>\n",
       "      <td>191.0</td>\n",
       "      <td>True</td>\n",
       "      <td>False</td>\n",
       "    </tr>\n",
       "    <tr>\n",
       "      <th>3</th>\n",
       "      <td>Carmen López Pinzón</td>\n",
       "      <td>35</td>\n",
       "      <td>M</td>\n",
       "      <td>65.0</td>\n",
       "      <td>1.70</td>\n",
       "      <td>200.0</td>\n",
       "      <td>False</td>\n",
       "      <td>True</td>\n",
       "    </tr>\n",
       "    <tr>\n",
       "      <th>4</th>\n",
       "      <td>Marisa López Collado</td>\n",
       "      <td>46</td>\n",
       "      <td>M</td>\n",
       "      <td>51.0</td>\n",
       "      <td>1.58</td>\n",
       "      <td>148.0</td>\n",
       "      <td>True</td>\n",
       "      <td>True</td>\n",
       "    </tr>\n",
       "    <tr>\n",
       "      <th>5</th>\n",
       "      <td>Antonio Ruiz Cruz</td>\n",
       "      <td>68</td>\n",
       "      <td>H</td>\n",
       "      <td>66.0</td>\n",
       "      <td>1.74</td>\n",
       "      <td>249.0</td>\n",
       "      <td>NaN</td>\n",
       "      <td>False</td>\n",
       "    </tr>\n",
       "    <tr>\n",
       "      <th>6</th>\n",
       "      <td>Antonio Fernández Ocaña</td>\n",
       "      <td>51</td>\n",
       "      <td>H</td>\n",
       "      <td>62.0</td>\n",
       "      <td>1.72</td>\n",
       "      <td>276.0</td>\n",
       "      <td>NaN</td>\n",
       "      <td>False</td>\n",
       "    </tr>\n",
       "    <tr>\n",
       "      <th>7</th>\n",
       "      <td>Pilar Martín González</td>\n",
       "      <td>22</td>\n",
       "      <td>M</td>\n",
       "      <td>60.0</td>\n",
       "      <td>1.66</td>\n",
       "      <td>NaN</td>\n",
       "      <td>NaN</td>\n",
       "      <td>False</td>\n",
       "    </tr>\n",
       "    <tr>\n",
       "      <th>8</th>\n",
       "      <td>Pedro Gálvez Tenorio</td>\n",
       "      <td>35</td>\n",
       "      <td>H</td>\n",
       "      <td>90.0</td>\n",
       "      <td>1.94</td>\n",
       "      <td>241.0</td>\n",
       "      <td>NaN</td>\n",
       "      <td>True</td>\n",
       "    </tr>\n",
       "    <tr>\n",
       "      <th>9</th>\n",
       "      <td>Santiago Reillo Manzano</td>\n",
       "      <td>46</td>\n",
       "      <td>H</td>\n",
       "      <td>75.0</td>\n",
       "      <td>1.85</td>\n",
       "      <td>280.0</td>\n",
       "      <td>NaN</td>\n",
       "      <td>True</td>\n",
       "    </tr>\n",
       "    <tr>\n",
       "      <th>10</th>\n",
       "      <td>Macarena Álvarez Luna</td>\n",
       "      <td>53</td>\n",
       "      <td>M</td>\n",
       "      <td>55.0</td>\n",
       "      <td>1.62</td>\n",
       "      <td>262.0</td>\n",
       "      <td>NaN</td>\n",
       "      <td>False</td>\n",
       "    </tr>\n",
       "    <tr>\n",
       "      <th>11</th>\n",
       "      <td>José María de la Guía Sanz</td>\n",
       "      <td>58</td>\n",
       "      <td>H</td>\n",
       "      <td>78.0</td>\n",
       "      <td>1.87</td>\n",
       "      <td>198.0</td>\n",
       "      <td>NaN</td>\n",
       "      <td>True</td>\n",
       "    </tr>\n",
       "    <tr>\n",
       "      <th>12</th>\n",
       "      <td>Miguel Angel Cuadrado Gutiérrez</td>\n",
       "      <td>27</td>\n",
       "      <td>H</td>\n",
       "      <td>109.0</td>\n",
       "      <td>1.98</td>\n",
       "      <td>210.0</td>\n",
       "      <td>NaN</td>\n",
       "      <td>True</td>\n",
       "    </tr>\n",
       "    <tr>\n",
       "      <th>13</th>\n",
       "      <td>Carolina Rubio Moreno</td>\n",
       "      <td>20</td>\n",
       "      <td>M</td>\n",
       "      <td>61.0</td>\n",
       "      <td>1.77</td>\n",
       "      <td>194.0</td>\n",
       "      <td>NaN</td>\n",
       "      <td>False</td>\n",
       "    </tr>\n",
       "  </tbody>\n",
       "</table>\n",
       "</div>"
      ],
      "text/plain": [
       "                             nombre  edad sexo   peso  altura  colesterol  \\\n",
       "0      José Luis Martínez Izquierdo    18    H   85.0    1.79       182.0   \n",
       "1                    Rosa Díaz Díaz    32    M   65.0    1.73       232.0   \n",
       "2             Javier García Sánchez    24    H    NaN    1.81       191.0   \n",
       "3               Carmen López Pinzón    35    M   65.0    1.70       200.0   \n",
       "4              Marisa López Collado    46    M   51.0    1.58       148.0   \n",
       "5                 Antonio Ruiz Cruz    68    H   66.0    1.74       249.0   \n",
       "6           Antonio Fernández Ocaña    51    H   62.0    1.72       276.0   \n",
       "7             Pilar Martín González    22    M   60.0    1.66         NaN   \n",
       "8              Pedro Gálvez Tenorio    35    H   90.0    1.94       241.0   \n",
       "9           Santiago Reillo Manzano    46    H   75.0    1.85       280.0   \n",
       "10            Macarena Álvarez Luna    53    M   55.0    1.62       262.0   \n",
       "11       José María de la Guía Sanz    58    H   78.0    1.87       198.0   \n",
       "12  Miguel Angel Cuadrado Gutiérrez    27    H  109.0    1.98       210.0   \n",
       "13            Carolina Rubio Moreno    20    M   61.0    1.77       194.0   \n",
       "\n",
       "   diabetes  turno  \n",
       "0     False   True  \n",
       "1     False   True  \n",
       "2      True  False  \n",
       "3     False   True  \n",
       "4      True   True  \n",
       "5       NaN  False  \n",
       "6       NaN  False  \n",
       "7       NaN  False  \n",
       "8       NaN   True  \n",
       "9       NaN   True  \n",
       "10      NaN  False  \n",
       "11      NaN   True  \n",
       "12      NaN   True  \n",
       "13      NaN  False  "
      ]
     },
     "execution_count": 168,
     "metadata": {},
     "output_type": "execute_result"
    }
   ],
   "source": [
    "colesterol"
   ]
  },
  {
   "cell_type": "code",
   "execution_count": 170,
   "id": "d7e2db93",
   "metadata": {},
   "outputs": [
    {
     "data": {
      "text/plain": [
       "0     179.0\n",
       "1     173.0\n",
       "2     181.0\n",
       "3     170.0\n",
       "4     158.0\n",
       "5     174.0\n",
       "6     172.0\n",
       "7     166.0\n",
       "8     194.0\n",
       "9     185.0\n",
       "10    162.0\n",
       "11    187.0\n",
       "12    198.0\n",
       "13    177.0\n",
       "Name: altura, dtype: float64"
      ]
     },
     "execution_count": 170,
     "metadata": {},
     "output_type": "execute_result"
    }
   ],
   "source": [
    "colesterol['altura'] * 100"
   ]
  },
  {
   "cell_type": "code",
   "execution_count": 172,
   "id": "0988bf97",
   "metadata": {},
   "outputs": [],
   "source": [
    "colesterol_final = colesterol[['nombre', 'edad', 'colesterol']]"
   ]
  },
  {
   "cell_type": "code",
   "execution_count": 178,
   "id": "ffb652bd",
   "metadata": {},
   "outputs": [],
   "source": [
    "colesterol_final = colesterol_final.dropna()"
   ]
  },
  {
   "cell_type": "code",
   "execution_count": 180,
   "id": "652eaf50",
   "metadata": {},
   "outputs": [],
   "source": [
    "colesterol_final = colesterol_final.reset_index(drop=True)"
   ]
  },
  {
   "cell_type": "code",
   "execution_count": 181,
   "id": "59dc3365",
   "metadata": {},
   "outputs": [
    {
     "data": {
      "text/html": [
       "<div>\n",
       "<style scoped>\n",
       "    .dataframe tbody tr th:only-of-type {\n",
       "        vertical-align: middle;\n",
       "    }\n",
       "\n",
       "    .dataframe tbody tr th {\n",
       "        vertical-align: top;\n",
       "    }\n",
       "\n",
       "    .dataframe thead th {\n",
       "        text-align: right;\n",
       "    }\n",
       "</style>\n",
       "<table border=\"1\" class=\"dataframe\">\n",
       "  <thead>\n",
       "    <tr style=\"text-align: right;\">\n",
       "      <th></th>\n",
       "      <th>nombre</th>\n",
       "      <th>edad</th>\n",
       "      <th>colesterol</th>\n",
       "    </tr>\n",
       "  </thead>\n",
       "  <tbody>\n",
       "    <tr>\n",
       "      <th>0</th>\n",
       "      <td>José Luis Martínez Izquierdo</td>\n",
       "      <td>18</td>\n",
       "      <td>182.0</td>\n",
       "    </tr>\n",
       "    <tr>\n",
       "      <th>1</th>\n",
       "      <td>Rosa Díaz Díaz</td>\n",
       "      <td>32</td>\n",
       "      <td>232.0</td>\n",
       "    </tr>\n",
       "    <tr>\n",
       "      <th>2</th>\n",
       "      <td>Javier García Sánchez</td>\n",
       "      <td>24</td>\n",
       "      <td>191.0</td>\n",
       "    </tr>\n",
       "    <tr>\n",
       "      <th>3</th>\n",
       "      <td>Carmen López Pinzón</td>\n",
       "      <td>35</td>\n",
       "      <td>200.0</td>\n",
       "    </tr>\n",
       "    <tr>\n",
       "      <th>4</th>\n",
       "      <td>Marisa López Collado</td>\n",
       "      <td>46</td>\n",
       "      <td>148.0</td>\n",
       "    </tr>\n",
       "    <tr>\n",
       "      <th>5</th>\n",
       "      <td>Antonio Ruiz Cruz</td>\n",
       "      <td>68</td>\n",
       "      <td>249.0</td>\n",
       "    </tr>\n",
       "    <tr>\n",
       "      <th>6</th>\n",
       "      <td>Antonio Fernández Ocaña</td>\n",
       "      <td>51</td>\n",
       "      <td>276.0</td>\n",
       "    </tr>\n",
       "    <tr>\n",
       "      <th>7</th>\n",
       "      <td>Pedro Gálvez Tenorio</td>\n",
       "      <td>35</td>\n",
       "      <td>241.0</td>\n",
       "    </tr>\n",
       "    <tr>\n",
       "      <th>8</th>\n",
       "      <td>Santiago Reillo Manzano</td>\n",
       "      <td>46</td>\n",
       "      <td>280.0</td>\n",
       "    </tr>\n",
       "    <tr>\n",
       "      <th>9</th>\n",
       "      <td>Macarena Álvarez Luna</td>\n",
       "      <td>53</td>\n",
       "      <td>262.0</td>\n",
       "    </tr>\n",
       "    <tr>\n",
       "      <th>10</th>\n",
       "      <td>José María de la Guía Sanz</td>\n",
       "      <td>58</td>\n",
       "      <td>198.0</td>\n",
       "    </tr>\n",
       "    <tr>\n",
       "      <th>11</th>\n",
       "      <td>Miguel Angel Cuadrado Gutiérrez</td>\n",
       "      <td>27</td>\n",
       "      <td>210.0</td>\n",
       "    </tr>\n",
       "    <tr>\n",
       "      <th>12</th>\n",
       "      <td>Carolina Rubio Moreno</td>\n",
       "      <td>20</td>\n",
       "      <td>194.0</td>\n",
       "    </tr>\n",
       "  </tbody>\n",
       "</table>\n",
       "</div>"
      ],
      "text/plain": [
       "                             nombre  edad  colesterol\n",
       "0      José Luis Martínez Izquierdo    18       182.0\n",
       "1                    Rosa Díaz Díaz    32       232.0\n",
       "2             Javier García Sánchez    24       191.0\n",
       "3               Carmen López Pinzón    35       200.0\n",
       "4              Marisa López Collado    46       148.0\n",
       "5                 Antonio Ruiz Cruz    68       249.0\n",
       "6           Antonio Fernández Ocaña    51       276.0\n",
       "7              Pedro Gálvez Tenorio    35       241.0\n",
       "8           Santiago Reillo Manzano    46       280.0\n",
       "9             Macarena Álvarez Luna    53       262.0\n",
       "10       José María de la Guía Sanz    58       198.0\n",
       "11  Miguel Angel Cuadrado Gutiérrez    27       210.0\n",
       "12            Carolina Rubio Moreno    20       194.0"
      ]
     },
     "execution_count": 181,
     "metadata": {},
     "output_type": "execute_result"
    }
   ],
   "source": [
    "colesterol_final"
   ]
  },
  {
   "cell_type": "code",
   "execution_count": 176,
   "id": "55710048",
   "metadata": {},
   "outputs": [],
   "source": [
    "colesterol_final.to_csv('demo_final.csv')"
   ]
  },
  {
   "cell_type": "code",
   "execution_count": 177,
   "id": "2d098499",
   "metadata": {},
   "outputs": [],
   "source": [
    "colesterol_final.to_excel('demo_excel.xlsx')"
   ]
  },
  {
   "cell_type": "code",
   "execution_count": null,
   "id": "ffee7df1",
   "metadata": {},
   "outputs": [],
   "source": []
  }
 ],
 "metadata": {
  "kernelspec": {
   "display_name": "Python 3 (ipykernel)",
   "language": "python",
   "name": "python3"
  },
  "language_info": {
   "codemirror_mode": {
    "name": "ipython",
    "version": 3
   },
   "file_extension": ".py",
   "mimetype": "text/x-python",
   "name": "python",
   "nbconvert_exporter": "python",
   "pygments_lexer": "ipython3",
   "version": "3.9.13"
  }
 },
 "nbformat": 4,
 "nbformat_minor": 5
}
