{
 "cells": [
  {
   "attachments": {},
   "cell_type": "markdown",
   "metadata": {},
   "source": [
    "Series"
   ]
  },
  {
   "cell_type": "code",
   "execution_count": 1,
   "metadata": {},
   "outputs": [
    {
     "name": "stdout",
     "output_type": "stream",
     "text": [
      "0     Matemáticas\n",
      "1        Historia\n",
      "2        Economía\n",
      "3    Programación\n",
      "4          Inglés\n",
      "dtype: string\n"
     ]
    }
   ],
   "source": [
    "import pandas as pd\n",
    "\n",
    "s = pd.Series(['Matemáticas', 'Historia', 'Economía', 'Programación', 'Inglés'], dtype='string')\n",
    "print(s)"
   ]
  },
  {
   "cell_type": "code",
   "execution_count": 8,
   "metadata": {},
   "outputs": [
    {
     "name": "stdout",
     "output_type": "stream",
     "text": [
      "Matemáticas     6.0\n",
      "Economía        4.5\n",
      "Programación    8.5\n",
      "dtype: float64\n",
      "Index(['Matemáticas', 'Economía', 'Programación'], dtype='object')\n"
     ]
    }
   ],
   "source": [
    "s = pd.Series({'Matemáticas': 6.0,  'Economía': 4.5, 'Programación': 8.5})\n",
    "print(s)\n",
    "print(s.index)"
   ]
  },
  {
   "cell_type": "code",
   "execution_count": 7,
   "metadata": {},
   "outputs": [
    {
     "name": "stdout",
     "output_type": "stream",
     "text": [
      "10\n",
      "RangeIndex(start=0, stop=10, step=1)\n",
      "int64\n"
     ]
    }
   ],
   "source": [
    "# atributos\n",
    "s = pd.Series([1, 2, 2, 3, 3, 3, 4, 4, 4, 4])\n",
    "print(s.size)\n",
    "print(s.index)\n",
    "print(s.dtype)"
   ]
  },
  {
   "cell_type": "code",
   "execution_count": 8,
   "metadata": {},
   "outputs": [
    {
     "name": "stdout",
     "output_type": "stream",
     "text": [
      "Economía        4.5\n",
      "Programación    8.5\n",
      "dtype: float64\n",
      "4.5\n",
      "Economía       4.5\n",
      "Matemáticas    6.0\n",
      "dtype: float64\n"
     ]
    }
   ],
   "source": [
    "# acceso\n",
    "s = pd.Series({'Matemáticas': 6.0,  'Economía': 4.5, 'Programación': 8.5})\n",
    "print(s[1:3])\n",
    "print(s[\"Economía\"])\n",
    "print(s[[\"Economía\", \"Matemáticas\"]])"
   ]
  },
  {
   "cell_type": "code",
   "execution_count": 12,
   "metadata": {},
   "outputs": [
    {
     "name": "stdout",
     "output_type": "stream",
     "text": [
      "[[5 9 8]\n",
      " [1 1 2]\n",
      " [4 3 6]]\n",
      "[[33 50]\n",
      " [26 15]\n",
      " [ 6 77]\n",
      " [28 36]\n",
      " [28 54]]\n"
     ]
    }
   ],
   "source": [
    "import numpy as np\n",
    "print(np.random.randint(low=0, high=10, size=(3,3)))\n",
    "print((np.random.randint(1,100,10)).reshape(5,2))"
   ]
  },
  {
   "cell_type": "code",
   "execution_count": 22,
   "metadata": {},
   "outputs": [
    {
     "name": "stdout",
     "output_type": "stream",
     "text": [
      "3\n",
      "19.0\n",
      "Matemáticas      6.0\n",
      "Economía        10.5\n",
      "Programación    19.0\n",
      "dtype: float64\n",
      "6.0    1\n",
      "4.5    1\n",
      "8.5    1\n",
      "Name: count, dtype: int64\n",
      "4.5\n",
      "8.5\n",
      "6.333333333333333\n",
      "2.0207259421636903\n",
      "count    3.000000\n",
      "mean     6.333333\n",
      "std      2.020726\n",
      "min      4.500000\n",
      "25%      5.250000\n",
      "50%      6.000000\n",
      "75%      7.250000\n",
      "max      8.500000\n",
      "dtype: float64\n"
     ]
    }
   ],
   "source": [
    "# algunas funciones sobre las series\n",
    "print(s.count()) #cuenta el total de valor que no sean Nan ni nulos\n",
    "print(s.sum()) #suma todos los valores de la serie\n",
    "print(s.cumsum()) #retorna el acumulado junto con sus indices en una serie\n",
    "print(s.value_counts()) #devuelve una serie con indice VALOR y el total de COUNTs de cada uno de ellos en la serie en la que se lo aplica\n",
    "print(s.min())\n",
    "print(s.max())\n",
    "print(s.mean())\n",
    "print(s.std())\n",
    "print(s.describe())"
   ]
  },
  {
   "cell_type": "code",
   "execution_count": 25,
   "metadata": {},
   "outputs": [
    {
     "name": "stdout",
     "output_type": "stream",
     "text": [
      "0    2\n",
      "1    4\n",
      "2    6\n",
      "3    8\n",
      "dtype: int64\n",
      "0    1\n",
      "1    0\n",
      "2    1\n",
      "3    0\n",
      "dtype: int64\n",
      "0    aaaaa\n",
      "1    bbbbb\n",
      "2    ccccc\n",
      "dtype: object\n"
     ]
    }
   ],
   "source": [
    "# Operaciones\n",
    "s = pd.Series([1, 2, 3, 4])\n",
    "print(s*2)\n",
    "print(s%2)\n",
    "s = pd.Series(['a', 'b', 'c'])\n",
    "print(s*5)"
   ]
  },
  {
   "cell_type": "code",
   "execution_count": 28,
   "metadata": {},
   "outputs": [
    {
     "name": "stdout",
     "output_type": "stream",
     "text": [
      "0    0.000000\n",
      "1    0.693147\n",
      "2    1.098612\n",
      "3    1.386294\n",
      "dtype: float64\n",
      "0    A\n",
      "1    B\n",
      "2    C\n",
      "dtype: object\n"
     ]
    }
   ],
   "source": [
    "# aplicacion de funciones a cada elemento de la serie\n",
    "from math import log\n",
    "s = pd.Series([1, 2, 3, 4])\n",
    "print(s.apply(log))\n",
    "s = pd.Series(['a', 'b', 'c'])\n",
    "print(s.apply(str.upper))\n"
   ]
  },
  {
   "cell_type": "code",
   "execution_count": 29,
   "metadata": {},
   "outputs": [
    {
     "name": "stdout",
     "output_type": "stream",
     "text": [
      "1    2\n",
      "3    4\n",
      "dtype: int64\n"
     ]
    }
   ],
   "source": [
    "# filtrado\n",
    "s = pd.Series([1, 2, 3, 4])\n",
    "print(s[s%2==0])"
   ]
  },
  {
   "cell_type": "code",
   "execution_count": 32,
   "metadata": {},
   "outputs": [
    {
     "name": "stdout",
     "output_type": "stream",
     "text": [
      "Economía        4.5\n",
      "Matemáticas     6.0\n",
      "Programación    8.5\n",
      "dtype: float64\n",
      "Programación    8.5\n",
      "Matemáticas     6.0\n",
      "Economía        4.5\n",
      "dtype: float64\n",
      "Economía        4.5\n",
      "Matemáticas     6.0\n",
      "Programación    8.5\n",
      "dtype: float64\n"
     ]
    }
   ],
   "source": [
    "# ordenamiento\n",
    "# se puede ordenar por el indice o por los valores, para eso tenemos dos metodos\n",
    "s = pd.Series({'Matemáticas': 6.0,  'Economía': 4.5, 'Programación': 8.5})\n",
    "print(s.sort_values())\n",
    "print(s.sort_index(ascending=False))\n",
    "print(s.sort_index(ascending=True))"
   ]
  },
  {
   "cell_type": "code",
   "execution_count": 36,
   "metadata": {},
   "outputs": [
    {
     "name": "stdout",
     "output_type": "stream",
     "text": [
      "0       a\n",
      "1       b\n",
      "2    None\n",
      "3       c\n",
      "4     NaN\n",
      "5       d\n",
      "dtype: object\n",
      "0    a\n",
      "1    b\n",
      "3    c\n",
      "5    d\n",
      "dtype: object\n",
      "0       a\n",
      "1       b\n",
      "2    None\n",
      "3       c\n",
      "4     NaN\n",
      "5       d\n",
      "dtype: object\n"
     ]
    }
   ],
   "source": [
    "# eliminacion de datos sin valores (Nan o None)\n",
    "s = pd.Series(['a', 'b', None, 'c', np.NaN,  'd'])\n",
    "print(s)\n",
    "print(s.dropna()) #no modifica la serie original\n",
    "print(s)"
   ]
  },
  {
   "attachments": {},
   "cell_type": "markdown",
   "metadata": {},
   "source": [
    "DATA FRAMES"
   ]
  },
  {
   "cell_type": "code",
   "execution_count": 40,
   "metadata": {},
   "outputs": [
    {
     "name": "stdout",
     "output_type": "stream",
     "text": [
      "    nombre  edad         grado             correo\n",
      "0    María    18      Economía    maria@gmail.com\n",
      "1     Luis    22      Medicina      luis@yahoo.es\n",
      "2   Carmen    20  Arquitectura   carmen@gmail.com\n",
      "3  Antonio    21      Economía  antonio@gmail.com\n"
     ]
    }
   ],
   "source": [
    "# Creacion: Podemos hacerlo desde un diccionario o desde una lista\n",
    "\n",
    "# Creacion ==> DataFrame(data=diccionario, index=filas, columns=columnas, dtype=tipos)\n",
    "import pandas as pd\n",
    "# a partir de un diccionario \n",
    "datos = {'nombre':['María', 'Luis', 'Carmen', 'Antonio'],\n",
    "         'edad':[18, 22, 20, 21],\n",
    "         'grado':['Economía', 'Medicina', 'Arquitectura', 'Economía'],\n",
    "         'correo':['maria@gmail.com', 'luis@yahoo.es', 'carmen@gmail.com', 'antonio@gmail.com']\n",
    "         }\n",
    "\n",
    "df = pd.DataFrame(datos)\n",
    "print(df)"
   ]
  },
  {
   "cell_type": "code",
   "execution_count": 41,
   "metadata": {},
   "outputs": [
    {
     "name": "stdout",
     "output_type": "stream",
     "text": [
      "                0\n",
      "Matemáticas   6.0\n",
      "Economía      4.5\n",
      "Programación  8.5\n",
      "   Nombre  Edad\n",
      "0   María  18.0\n",
      "1    Luis  22.0\n",
      "2  Carmen   NaN\n"
     ]
    }
   ],
   "source": [
    "import pandas as pd\n",
    "# a partir de un diccionario\n",
    "s = pd.Series({'Matemáticas': 6.0,  'Economía': 4.5, 'Programación': 8.5})\n",
    "\n",
    "df = pd.DataFrame(s)\n",
    "print(df)\n",
    "# a partir de una lista de diccionarios\n",
    "df = pd.DataFrame([{'Nombre':'María', 'Edad':18}, {'Nombre':'Luis', 'Edad':22}, {'Nombre':'Carmen'}])\n",
    "print(df)"
   ]
  },
  {
   "cell_type": "code",
   "execution_count": 46,
   "metadata": {},
   "outputs": [
    {
     "name": "stdout",
     "output_type": "stream",
     "text": [
      "          a         b         c\n",
      "0 -1.609206 -0.314961  1.090589\n",
      "1 -0.390429  2.498034 -1.856576\n",
      "2  1.352484  1.776360  0.915703\n",
      "3 -0.905973 -0.840649 -0.640371\n",
      "                             nombre  edad sexo   peso  altura  colesterol\n",
      "0      José Luis Martínez Izquierdo    18    H   85.0    1.79       182.0\n",
      "1                    Rosa Díaz Díaz    32    M   65.0    1.73       232.0\n",
      "2             Javier García Sánchez    24    H    NaN    1.81       191.0\n",
      "3               Carmen López Pinzón    35    M   65.0    1.70       200.0\n",
      "4              Marisa López Collado    46    M   51.0    1.58       148.0\n",
      "5                 Antonio Ruiz Cruz    68    H   66.0    1.74       249.0\n",
      "6           Antonio Fernández Ocaña    51    H   62.0    1.72       276.0\n",
      "7             Pilar Martín González    22    M   60.0    1.66         NaN\n",
      "8              Pedro Gálvez Tenorio    35    H   90.0    1.94       241.0\n",
      "9           Santiago Reillo Manzano    46    H   75.0    1.85       280.0\n",
      "10            Macarena Álvarez Luna    53    M   55.0    1.62       262.0\n",
      "11       José María de la Guía Sanz    58    H   78.0    1.87       198.0\n",
      "12  Miguel Angel Cuadrado Gutiérrez    27    H  109.0    1.98       210.0\n",
      "13            Carolina Rubio Moreno    20    M   61.0    1.77       194.0\n",
      "                         nombre  edad sexo  peso  altura  colesterol\n",
      "0  José Luis Martínez Izquierdo    18    H  85.0    1.79       182.0\n",
      "1                Rosa Díaz Díaz    32    M  65.0    1.73       232.0\n",
      "2         Javier García Sánchez    24    H   NaN    1.81       191.0\n",
      "3           Carmen López Pinzón    35    M  65.0    1.70       200.0\n",
      "4          Marisa López Collado    46    M  51.0    1.58       148.0\n"
     ]
    }
   ],
   "source": [
    "# a partir de un array\n",
    "df = pd.DataFrame(np.random.randn(4, 3), columns=['a', 'b', 'c'])\n",
    "print(df)\n",
    "# a partir de un archivo csv\n",
    "df = pd.read_csv('colesterol.csv', sep=';', decimal=',')\n",
    "print(df)\n",
    "print(df.head())"
   ]
  },
  {
   "attachments": {},
   "cell_type": "markdown",
   "metadata": {},
   "source": [
    "CLASE DE OBJETOS DATA FRAME"
   ]
  },
  {
   "cell_type": "code",
   "execution_count": 57,
   "metadata": {},
   "outputs": [
    {
     "name": "stdout",
     "output_type": "stream",
     "text": [
      "<class 'pandas.core.frame.DataFrame'>\n",
      "RangeIndex: 14 entries, 0 to 13\n",
      "Data columns (total 6 columns):\n",
      " #   Column      Non-Null Count  Dtype  \n",
      "---  ------      --------------  -----  \n",
      " 0   nombre      14 non-null     object \n",
      " 1   edad        14 non-null     int64  \n",
      " 2   sexo        14 non-null     object \n",
      " 3   peso        13 non-null     float64\n",
      " 4   altura      14 non-null     float64\n",
      " 5   colesterol  13 non-null     float64\n",
      "dtypes: float64(3), int64(1), object(2)\n",
      "memory usage: 804.0+ bytes\n",
      "None\n",
      "(14, 6)\n",
      "84\n",
      "Index(['nombre', 'edad', 'sexo', 'peso', 'altura', 'colesterol'], dtype='object')\n",
      "RangeIndex(start=0, stop=14, step=1)\n",
      "nombre         object\n",
      "edad            int64\n",
      "sexo           object\n",
      "peso          float64\n",
      "altura        float64\n",
      "colesterol    float64\n",
      "dtype: object\n"
     ]
    }
   ],
   "source": [
    "print(df.info())\n",
    "print(df.shape)\n",
    "print(df.size)\n",
    "print(df.columns)\n",
    "print(df.index)\n",
    "print(df.dtypes)"
   ]
  },
  {
   "cell_type": "code",
   "execution_count": 59,
   "metadata": {},
   "outputs": [
    {
     "name": "stdout",
     "output_type": "stream",
     "text": [
      "                         nombre  edad sexo  peso  altura  colesterol\n",
      "0  José Luis Martínez Izquierdo    18    H  85.0    1.79       182.0\n",
      "1                Rosa Díaz Díaz    32    M  65.0    1.73       232.0\n",
      "2         Javier García Sánchez    24    H   NaN    1.81       191.0\n",
      "                             nombre  edad sexo   peso  altura  colesterol\n",
      "11       José María de la Guía Sanz    58    H   78.0    1.87       198.0\n",
      "12  Miguel Angel Cuadrado Gutiérrez    27    H  109.0    1.98       210.0\n",
      "13            Carolina Rubio Moreno    20    M   61.0    1.77       194.0\n"
     ]
    }
   ],
   "source": [
    "print(df.head(3))\n",
    "print(df.tail(3))"
   ]
  },
  {
   "cell_type": "code",
   "execution_count": 60,
   "metadata": {},
   "outputs": [
    {
     "name": "stdout",
     "output_type": "stream",
     "text": [
      "                   nombre y apellidos  edad sexo   peso  estatura  colesterol\n",
      "1000     José Luis Martínez Izquierdo    18    H   85.0      1.79       182.0\n",
      "1001                   Rosa Díaz Díaz    32    M   65.0      1.73       232.0\n",
      "1002            Javier García Sánchez    24    H    NaN      1.81       191.0\n",
      "3                 Carmen López Pinzón    35    M   65.0      1.70       200.0\n",
      "4                Marisa López Collado    46    M   51.0      1.58       148.0\n",
      "5                   Antonio Ruiz Cruz    68    H   66.0      1.74       249.0\n",
      "6             Antonio Fernández Ocaña    51    H   62.0      1.72       276.0\n",
      "7               Pilar Martín González    22    M   60.0      1.66         NaN\n",
      "8                Pedro Gálvez Tenorio    35    H   90.0      1.94       241.0\n",
      "9             Santiago Reillo Manzano    46    H   75.0      1.85       280.0\n",
      "10              Macarena Álvarez Luna    53    M   55.0      1.62       262.0\n",
      "11         José María de la Guía Sanz    58    H   78.0      1.87       198.0\n",
      "12    Miguel Angel Cuadrado Gutiérrez    27    H  109.0      1.98       210.0\n",
      "13              Carolina Rubio Moreno    20    M   61.0      1.77       194.0\n"
     ]
    }
   ],
   "source": [
    "# renombrado de filas y columnas\n",
    "print(df.rename(columns={'nombre':'nombre y apellidos', 'altura':'estatura'}, index={0:1000, 1:1001, 2:1002}))"
   ]
  },
  {
   "cell_type": "code",
   "execution_count": 61,
   "metadata": {},
   "outputs": [
    {
     "name": "stdout",
     "output_type": "stream",
     "text": [
      "                 nombre  tensión  colesterol\n",
      "4  Marisa López Collado      NaN       148.0\n",
      "3   Carmen López Pinzón      NaN       200.0\n",
      "1        Rosa Díaz Díaz      NaN       232.0\n"
     ]
    }
   ],
   "source": [
    "# reindexado: Devuelve un Data Frame con el orden indicado. Es como que ademas filtra el data set en el que lo aplica.\n",
    "print(df.reindex(index=[4, 3, 1], columns=['nombre', 'tensión', 'colesterol']))"
   ]
  },
  {
   "cell_type": "code",
   "execution_count": 64,
   "metadata": {},
   "outputs": [
    {
     "name": "stdout",
     "output_type": "stream",
     "text": [
      "65.0\n",
      "nombre    Rosa Díaz Díaz\n",
      "edad                  32\n",
      "Name: 1, dtype: object\n",
      "nombre        Rosa Díaz Díaz\n",
      "edad                      32\n",
      "sexo                       M\n",
      "peso                    65.0\n",
      "altura                  1.73\n",
      "colesterol             232.0\n",
      "Name: 1, dtype: object\n"
     ]
    }
   ],
   "source": [
    "# acceso a los elementos tipo SLICING: SE USA ILOC\n",
    "print(df.iloc[1, 3]) #retorna un elemento puntual\n",
    "print(df.iloc[1, :2]) #retorna un df\n",
    "print(df.iloc[1]) #retorna una serie con el registro consultado, serie el indice del df"
   ]
  },
  {
   "cell_type": "code",
   "execution_count": 68,
   "metadata": {},
   "outputs": [
    {
     "name": "stdout",
     "output_type": "stream",
     "text": [
      "191.0\n",
      "\n",
      "   colesterol  peso\n",
      "0       182.0  85.0\n",
      "1       232.0  65.0\n",
      "2       191.0   NaN\n",
      "3       200.0  65.0\n",
      "\n",
      "0     182.0\n",
      "1     232.0\n",
      "2     191.0\n",
      "3     200.0\n",
      "4     148.0\n",
      "5     249.0\n",
      "6     276.0\n",
      "7       NaN\n",
      "8     241.0\n",
      "9     280.0\n",
      "10    262.0\n",
      "11    198.0\n",
      "12    210.0\n",
      "13    194.0\n",
      "Name: colesterol, dtype: float64\n"
     ]
    }
   ],
   "source": [
    "# acceso a los elementos mediante nombres: SE USA LOC\n",
    "print(df.loc[2, 'colesterol']) #consulta de un elemento puntual, celda\n",
    "print()\n",
    "print(df.loc[:3, ('colesterol','peso')]) #consulta de varias filas y varias columnas\n",
    "print()\n",
    "print(df['colesterol']) #consulta una columna entera\n"
   ]
  },
  {
   "cell_type": "code",
   "execution_count": 69,
   "metadata": {},
   "outputs": [
    {
     "name": "stdout",
     "output_type": "stream",
     "text": [
      "                             nombre  edad sexo   peso  altura  colesterol   \n",
      "0      José Luis Martínez Izquierdo    18    H   85.0    1.79       182.0  \\\n",
      "1                    Rosa Díaz Díaz    32    M   65.0    1.73       232.0   \n",
      "2             Javier García Sánchez    24    H    NaN    1.81       191.0   \n",
      "3               Carmen López Pinzón    35    M   65.0    1.70       200.0   \n",
      "4              Marisa López Collado    46    M   51.0    1.58       148.0   \n",
      "5                 Antonio Ruiz Cruz    68    H   66.0    1.74       249.0   \n",
      "6           Antonio Fernández Ocaña    51    H   62.0    1.72       276.0   \n",
      "7             Pilar Martín González    22    M   60.0    1.66         NaN   \n",
      "8              Pedro Gálvez Tenorio    35    H   90.0    1.94       241.0   \n",
      "9           Santiago Reillo Manzano    46    H   75.0    1.85       280.0   \n",
      "10            Macarena Álvarez Luna    53    M   55.0    1.62       262.0   \n",
      "11       José María de la Guía Sanz    58    H   78.0    1.87       198.0   \n",
      "12  Miguel Angel Cuadrado Gutiérrez    27    H  109.0    1.98       210.0   \n",
      "13            Carolina Rubio Moreno    20    M   61.0    1.77       194.0   \n",
      "\n",
      "   diabetes  \n",
      "0     False  \n",
      "1     False  \n",
      "2      True  \n",
      "3     False  \n",
      "4      True  \n",
      "5       NaN  \n",
      "6       NaN  \n",
      "7       NaN  \n",
      "8       NaN  \n",
      "9       NaN  \n",
      "10      NaN  \n",
      "11      NaN  \n",
      "12      NaN  \n",
      "13      NaN  \n"
     ]
    }
   ],
   "source": [
    "# operaciones con las columnas\n",
    "df['diabetes'] = pd.Series([False, False, True, False, True])\n",
    "print(df)"
   ]
  },
  {
   "cell_type": "code",
   "execution_count": 70,
   "metadata": {},
   "outputs": [
    {
     "name": "stdout",
     "output_type": "stream",
     "text": [
      "0     179.0\n",
      "1     173.0\n",
      "2     181.0\n",
      "3     170.0\n",
      "4     158.0\n",
      "5     174.0\n",
      "6     172.0\n",
      "7     166.0\n",
      "8     194.0\n",
      "9     185.0\n",
      "10    162.0\n",
      "11    187.0\n",
      "12    198.0\n",
      "13    177.0\n",
      "Name: altura, dtype: float64\n",
      "\n",
      "0     False\n",
      "1      True\n",
      "2     False\n",
      "3      True\n",
      "4      True\n",
      "5     False\n",
      "6     False\n",
      "7      True\n",
      "8     False\n",
      "9     False\n",
      "10     True\n",
      "11    False\n",
      "12    False\n",
      "13     True\n",
      "Name: sexo, dtype: bool\n"
     ]
    }
   ],
   "source": [
    "print(df['altura']*100)\n",
    "print()\n",
    "print(df['sexo']=='M')\n"
   ]
  },
  {
   "cell_type": "code",
   "execution_count": 71,
   "metadata": {},
   "outputs": [
    {
     "name": "stdout",
     "output_type": "stream",
     "text": [
      "0     0.582216\n",
      "1     0.548121\n",
      "2     0.593327\n",
      "3     0.530628\n",
      "4     0.457425\n",
      "5     0.553885\n",
      "6     0.542324\n",
      "7     0.506818\n",
      "8     0.662688\n",
      "9     0.615186\n",
      "10    0.482426\n",
      "11    0.625938\n",
      "12    0.683097\n",
      "13    0.570980\n",
      "Name: altura, dtype: float64\n"
     ]
    }
   ],
   "source": [
    "# aplicando funciones con APPLY\n",
    "print(df['altura'].apply(log))"
   ]
  },
  {
   "cell_type": "code",
   "execution_count": 75,
   "metadata": {},
   "outputs": [
    {
     "name": "stdout",
     "output_type": "stream",
     "text": [
      "     Name  Nacimiento\n",
      "0   María  05-03-2000\n",
      "1  Carlos  20-05-2001\n",
      "2  Carmen  10-12-1999\n",
      "\n",
      "0   2000-03-05\n",
      "1   2001-05-20\n",
      "2   1999-12-10\n",
      "Name: Nacimiento, dtype: datetime64[ns]\n"
     ]
    }
   ],
   "source": [
    "# conversion a datetime\n",
    "df2 = pd.DataFrame({'Name': ['María', 'Carlos', 'Carmen'], 'Nacimiento':['05-03-2000', '20-05-2001', '10-12-1999']})\n",
    "print(df2)\n",
    "print()\n",
    "print(pd.to_datetime(df2.Nacimiento, format = '%d-%m-%Y'))"
   ]
  }
 ],
 "metadata": {
  "kernelspec": {
   "display_name": "Python 3",
   "language": "python",
   "name": "python3"
  },
  "language_info": {
   "codemirror_mode": {
    "name": "ipython",
    "version": 3
   },
   "file_extension": ".py",
   "mimetype": "text/x-python",
   "name": "python",
   "nbconvert_exporter": "python",
   "pygments_lexer": "ipython3",
   "version": "3.11.3"
  },
  "orig_nbformat": 4
 },
 "nbformat": 4,
 "nbformat_minor": 2
}
